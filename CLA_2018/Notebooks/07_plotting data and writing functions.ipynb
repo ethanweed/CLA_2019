{
 "cells": [
  {
   "cell_type": "markdown",
   "metadata": {},
   "source": [
    "# Plotting data and writing functions\n",
    "\n",
    "## First: let's make a csv file with some data\n",
    "\n",
    "By now, you should be able to extract the frequency of a word from a file or files and save this data in a csv file"
   ]
  },
  {
   "cell_type": "code",
   "execution_count": 129,
   "metadata": {},
   "outputs": [
    {
     "name": "stdout",
     "output_type": "stream",
     "text": [
      "All done!\n"
     ]
    }
   ],
   "source": [
    "import glob\n",
    "from os import chdir as cd\n",
    "from collections import Counter\n",
    "from string import punctuation as pnc\n",
    "\n",
    "\n",
    "pathout = '/Users/ethan/Desktop/Adam_words.csv'\n",
    "datapath = '/Users/ethan/Desktop/Brown/Adam/'\n",
    "\n",
    "header = 'age,freq of I,\\n'\n",
    "\n",
    "with open(pathout, 'a+') as nf:\n",
    "    nf.write(header)\n",
    "\n",
    "cd(datapath)\n",
    "\n",
    "removelist = ['\\t', '\\r']\n",
    "\n",
    "punct = set(pnc)\n",
    "\n",
    "for file in glob.glob('*.cha'):\n",
    "    with open(file,'r') as f:\n",
    "        text = f.read()\n",
    "\n",
    "        for item in removelist:\n",
    "            text = text.replace(item, '')\n",
    "        text = text.split('\\n')\n",
    "        \n",
    "        for item in text:\n",
    "            if '|CHI|' in item:\n",
    "                a = item\n",
    "            \n",
    "        a = a.split('|')\n",
    "        age = a[3]\n",
    "\n",
    "        turns = []\n",
    "        for line in text:\n",
    "            if line.startswith('*CHI'):\n",
    "                line = line.replace('*CHI:', '')\n",
    "                line = ''.join(x for x in line if x not in punct) \n",
    "                line = line.strip()\n",
    "                turns.append(line)\n",
    "\n",
    "        allturns = ' '.join(turns)\n",
    "        words = allturns.split()\n",
    "        tokens = len(words)\n",
    "\n",
    "        \n",
    "        freq = Counter(words).most_common(len(words))\n",
    "\n",
    "        for item in freq:\n",
    "            if item[0] == 'I':\n",
    "                icounter = item[1]\n",
    "        prop_freq = str(icounter/tokens)\n",
    "        \n",
    "        newline = age + ',' + prop_freq[:5] + '\\n'\n",
    "    \n",
    "        with open(pathout, 'a+') as nf:\n",
    "            nf.write(newline)\n",
    "\n",
    "print('All done!')"
   ]
  },
  {
   "cell_type": "code",
   "execution_count": 130,
   "metadata": {},
   "outputs": [],
   "source": [
    "from os import chdir as cd\n",
    "import pandas as pd\n",
    "import matplotlib.pyplot as plt\n",
    "import seaborn as sns\n",
    "sns.set(style=\"darkgrid\")\n",
    "\n",
    "\n",
    "pathin = '/Users/ethan/Desktop/'\n",
    "file = 'Adam_words.csv'\n",
    "\n",
    "cd(pathin)\n",
    "\n",
    "df = pd.read_csv(file)"
   ]
  },
  {
   "cell_type": "code",
   "execution_count": 131,
   "metadata": {},
   "outputs": [
    {
     "data": {
      "text/html": [
       "<div>\n",
       "<style>\n",
       "    .dataframe thead tr:only-child th {\n",
       "        text-align: right;\n",
       "    }\n",
       "\n",
       "    .dataframe thead th {\n",
       "        text-align: left;\n",
       "    }\n",
       "\n",
       "    .dataframe tbody tr th {\n",
       "        vertical-align: top;\n",
       "    }\n",
       "</style>\n",
       "<table border=\"1\" class=\"dataframe\">\n",
       "  <thead>\n",
       "    <tr style=\"text-align: right;\">\n",
       "      <th></th>\n",
       "      <th>age</th>\n",
       "      <th>freq of I</th>\n",
       "      <th>Unnamed: 2</th>\n",
       "    </tr>\n",
       "  </thead>\n",
       "  <tbody>\n",
       "    <tr>\n",
       "      <th>0</th>\n",
       "      <td>2;4.30</td>\n",
       "      <td>0.013</td>\n",
       "      <td>NaN</td>\n",
       "    </tr>\n",
       "    <tr>\n",
       "      <th>1</th>\n",
       "      <td>2;8.01</td>\n",
       "      <td>0.006</td>\n",
       "      <td>NaN</td>\n",
       "    </tr>\n",
       "    <tr>\n",
       "      <th>2</th>\n",
       "      <td>3;10.15</td>\n",
       "      <td>0.065</td>\n",
       "      <td>NaN</td>\n",
       "    </tr>\n",
       "    <tr>\n",
       "      <th>3</th>\n",
       "      <td>3;9.16</td>\n",
       "      <td>0.058</td>\n",
       "      <td>NaN</td>\n",
       "    </tr>\n",
       "    <tr>\n",
       "      <th>4</th>\n",
       "      <td>2;7.14</td>\n",
       "      <td>0.013</td>\n",
       "      <td>NaN</td>\n",
       "    </tr>\n",
       "    <tr>\n",
       "      <th>5</th>\n",
       "      <td>2;4.15</td>\n",
       "      <td>0.005</td>\n",
       "      <td>NaN</td>\n",
       "    </tr>\n",
       "    <tr>\n",
       "      <th>6</th>\n",
       "      <td>2;8.16</td>\n",
       "      <td>0.013</td>\n",
       "      <td>NaN</td>\n",
       "    </tr>\n",
       "    <tr>\n",
       "      <th>7</th>\n",
       "      <td>2;5.12</td>\n",
       "      <td>0.009</td>\n",
       "      <td>NaN</td>\n",
       "    </tr>\n",
       "    <tr>\n",
       "      <th>8</th>\n",
       "      <td>2;6.03</td>\n",
       "      <td>0.015</td>\n",
       "      <td>NaN</td>\n",
       "    </tr>\n",
       "    <tr>\n",
       "      <th>9</th>\n",
       "      <td>2;9.04</td>\n",
       "      <td>0.000</td>\n",
       "      <td>NaN</td>\n",
       "    </tr>\n",
       "  </tbody>\n",
       "</table>\n",
       "</div>"
      ],
      "text/plain": [
       "       age  freq of I  Unnamed: 2\n",
       "0   2;4.30      0.013         NaN\n",
       "1   2;8.01      0.006         NaN\n",
       "2  3;10.15      0.065         NaN\n",
       "3   3;9.16      0.058         NaN\n",
       "4   2;7.14      0.013         NaN\n",
       "5   2;4.15      0.005         NaN\n",
       "6   2;8.16      0.013         NaN\n",
       "7   2;5.12      0.009         NaN\n",
       "8   2;6.03      0.015         NaN\n",
       "9   2;9.04      0.000         NaN"
      ]
     },
     "execution_count": 131,
     "metadata": {},
     "output_type": "execute_result"
    }
   ],
   "source": [
    "df.head(10)"
   ]
  },
  {
   "cell_type": "code",
   "execution_count": 132,
   "metadata": {},
   "outputs": [],
   "source": [
    "# Convert age in Year;Months.Days to age in Months and add to dataframe\n",
    "\n",
    "age = list(df.loc[:,'age'])\n",
    "years_in_days = []\n",
    "months_in_days = []\n",
    "days_in_days = []\n",
    "for item in age:\n",
    "    item = item.split(';')\n",
    "    y = int(item[0])*365\n",
    "    item2 = item[1].split('.')\n",
    "    m = int(item2[0])*30\n",
    "    d = int(item2[1])\n",
    "    years_in_days.append(y)\n",
    "    months_in_days.append(m)\n",
    "    days_in_days.append(d)\n",
    "    \n",
    "age_in_days = list(zip(years_in_days, months_in_days, days_in_days))\n",
    "\n",
    "\n",
    "\n",
    "age_in_months = []\n",
    "for item in age_in_days:\n",
    "    a = int(sum(item)/30)\n",
    "    age_in_months.append(a)\n",
    "\n",
    "df['age(months)'] = age_in_months"
   ]
  },
  {
   "cell_type": "code",
   "execution_count": 133,
   "metadata": {},
   "outputs": [
    {
     "data": {
      "text/html": [
       "<div>\n",
       "<style>\n",
       "    .dataframe thead tr:only-child th {\n",
       "        text-align: right;\n",
       "    }\n",
       "\n",
       "    .dataframe thead th {\n",
       "        text-align: left;\n",
       "    }\n",
       "\n",
       "    .dataframe tbody tr th {\n",
       "        vertical-align: top;\n",
       "    }\n",
       "</style>\n",
       "<table border=\"1\" class=\"dataframe\">\n",
       "  <thead>\n",
       "    <tr style=\"text-align: right;\">\n",
       "      <th></th>\n",
       "      <th>age</th>\n",
       "      <th>freq of I</th>\n",
       "      <th>Unnamed: 2</th>\n",
       "      <th>age(months)</th>\n",
       "    </tr>\n",
       "  </thead>\n",
       "  <tbody>\n",
       "    <tr>\n",
       "      <th>0</th>\n",
       "      <td>2;4.30</td>\n",
       "      <td>0.013</td>\n",
       "      <td>NaN</td>\n",
       "      <td>29</td>\n",
       "    </tr>\n",
       "    <tr>\n",
       "      <th>1</th>\n",
       "      <td>2;8.01</td>\n",
       "      <td>0.006</td>\n",
       "      <td>NaN</td>\n",
       "      <td>32</td>\n",
       "    </tr>\n",
       "    <tr>\n",
       "      <th>2</th>\n",
       "      <td>3;10.15</td>\n",
       "      <td>0.065</td>\n",
       "      <td>NaN</td>\n",
       "      <td>47</td>\n",
       "    </tr>\n",
       "    <tr>\n",
       "      <th>3</th>\n",
       "      <td>3;9.16</td>\n",
       "      <td>0.058</td>\n",
       "      <td>NaN</td>\n",
       "      <td>46</td>\n",
       "    </tr>\n",
       "    <tr>\n",
       "      <th>4</th>\n",
       "      <td>2;7.14</td>\n",
       "      <td>0.013</td>\n",
       "      <td>NaN</td>\n",
       "      <td>31</td>\n",
       "    </tr>\n",
       "    <tr>\n",
       "      <th>5</th>\n",
       "      <td>2;4.15</td>\n",
       "      <td>0.005</td>\n",
       "      <td>NaN</td>\n",
       "      <td>28</td>\n",
       "    </tr>\n",
       "    <tr>\n",
       "      <th>6</th>\n",
       "      <td>2;8.16</td>\n",
       "      <td>0.013</td>\n",
       "      <td>NaN</td>\n",
       "      <td>32</td>\n",
       "    </tr>\n",
       "    <tr>\n",
       "      <th>7</th>\n",
       "      <td>2;5.12</td>\n",
       "      <td>0.009</td>\n",
       "      <td>NaN</td>\n",
       "      <td>29</td>\n",
       "    </tr>\n",
       "    <tr>\n",
       "      <th>8</th>\n",
       "      <td>2;6.03</td>\n",
       "      <td>0.015</td>\n",
       "      <td>NaN</td>\n",
       "      <td>30</td>\n",
       "    </tr>\n",
       "    <tr>\n",
       "      <th>9</th>\n",
       "      <td>2;9.04</td>\n",
       "      <td>0.000</td>\n",
       "      <td>NaN</td>\n",
       "      <td>33</td>\n",
       "    </tr>\n",
       "  </tbody>\n",
       "</table>\n",
       "</div>"
      ],
      "text/plain": [
       "       age  freq of I  Unnamed: 2  age(months)\n",
       "0   2;4.30      0.013         NaN           29\n",
       "1   2;8.01      0.006         NaN           32\n",
       "2  3;10.15      0.065         NaN           47\n",
       "3   3;9.16      0.058         NaN           46\n",
       "4   2;7.14      0.013         NaN           31\n",
       "5   2;4.15      0.005         NaN           28\n",
       "6   2;8.16      0.013         NaN           32\n",
       "7   2;5.12      0.009         NaN           29\n",
       "8   2;6.03      0.015         NaN           30\n",
       "9   2;9.04      0.000         NaN           33"
      ]
     },
     "execution_count": 133,
     "metadata": {},
     "output_type": "execute_result"
    }
   ],
   "source": [
    "df.head(10)\n"
   ]
  },
  {
   "cell_type": "code",
   "execution_count": null,
   "metadata": {},
   "outputs": [],
   "source": []
  },
  {
   "cell_type": "code",
   "execution_count": null,
   "metadata": {},
   "outputs": [],
   "source": [
    "\n",
    "\n"
   ]
  },
  {
   "cell_type": "code",
   "execution_count": null,
   "metadata": {},
   "outputs": [],
   "source": []
  },
  {
   "cell_type": "code",
   "execution_count": 134,
   "metadata": {},
   "outputs": [
    {
     "data": {
      "text/plain": [
       "<seaborn.axisgrid.FacetGrid at 0x11e62e470>"
      ]
     },
     "execution_count": 134,
     "metadata": {},
     "output_type": "execute_result"
    },
    {
     "data": {
      "image/png": "[encoded data removed]",
      "text/plain": [
       "<matplotlib.figure.Figure at 0x11e62ea20>"
      ]
     },
     "metadata": {},
     "output_type": "display_data"
    }
   ],
   "source": [
    "sns.lmplot(x=\"age(months)\", y=\"freq of I\", data=df,\n",
    "           ci = None)"
   ]
  },
  {
   "cell_type": "code",
   "execution_count": null,
   "metadata": {},
   "outputs": [],
   "source": []
  },
  {
   "cell_type": "code",
   "execution_count": 11,
   "metadata": {},
   "outputs": [],
   "source": [
    "def text_stats(text, speaker, word):\n",
    "    from string import punctuation as pnc\n",
    "    from collections import Counter\n",
    "    sp = '*' + speaker\n",
    "    text = text.split('\\n')\n",
    "    for item in text:\n",
    "        if '|CHI|' in item:\n",
    "            a = item\n",
    "\n",
    "    a = a.split('|')\n",
    "    age = a[3]\n",
    "    \n",
    "    years_in_days = []\n",
    "    months_in_days = []\n",
    "    days_in_days = []\n",
    "\n",
    "    item = age.split(';')\n",
    "    y = int(item[0])*365\n",
    "    item2 = item[1].split('.')\n",
    "    m = int(item2[0])*30\n",
    "    d = int(item2[1])\n",
    "    years_in_days.append(y)\n",
    "    months_in_days.append(m)\n",
    "    days_in_days.append(d)\n",
    "\n",
    "    age_in_days = list(zip(years_in_days, months_in_days, days_in_days))\n",
    "\n",
    "    for item in age_in_days:\n",
    "        a = int(sum(item)/30)\n",
    "        age = a\n",
    "        \n",
    "\n",
    "    turns = []\n",
    "    for line in text:\n",
    "        if line.startswith(sp):\n",
    "            line = line.replace(sp, '')\n",
    "            line = ''.join(x for x in line if x not in pnc) \n",
    "            line = line.strip()\n",
    "            turns.append(line)\n",
    "\n",
    "    allturns = ' '.join(turns)\n",
    "    words = allturns.split()\n",
    " \n",
    "    tokens = len(words)\n",
    "    types = len(set(words))\n",
    "\n",
    "    freq = Counter(words).most_common(len(words))\n",
    "\n",
    "    for item in freq:\n",
    "        if item[0] == word:\n",
    "            word_counter = item[1]\n",
    "    prop_freq = word_counter/tokens\n",
    "    \n",
    "    return(age, tokens, types, prop_freq)"
   ]
  },
  {
   "cell_type": "code",
   "execution_count": 16,
   "metadata": {},
   "outputs": [],
   "source": [
    "#read file into python\n",
    "\n",
    "import os\n",
    "pathin = '/Users/ethan/Desktop/Brown/Adam/'\n",
    "file = 'adam01.cha'\n",
    "\n",
    "\n",
    "os.chdir(pathin)\n",
    "\n",
    "with open(file,'r') as f:\n",
    "    text = f.read()\n",
    "    \n",
    "    data = text_stats(text, 'CHI', 'I')"
   ]
  },
  {
   "cell_type": "code",
   "execution_count": 17,
   "metadata": {},
   "outputs": [
    {
     "name": "stdout",
     "output_type": "stream",
     "text": [
      "(27, 2824, 370, 0.010623229461756374)\n"
     ]
    }
   ],
   "source": [
    "print(data)"
   ]
  },
  {
   "cell_type": "code",
   "execution_count": 6,
   "metadata": {},
   "outputs": [
    {
     "name": "stdout",
     "output_type": "stream",
     "text": [
      "(29, 2045, 371, 0.013691931540342298)\n",
      "(32, 2524, 390, 0.006339144215530904)\n",
      "(47, 2350, 443, 0.06553191489361702)\n",
      "(46, 3424, 492, 0.058703271028037386)\n",
      "(31, 2655, 411, 0.013559322033898305)\n",
      "(28, 1569, 304, 0.0057361376673040155)\n",
      "(32, 1959, 376, 0.013272077590607452)\n",
      "(29, 1983, 302, 0.009581442259203227)\n",
      "(30, 2399, 399, 0.015006252605252188)\n",
      "(33, 1390, 317, 0.0007194244604316547)\n",
      "(35, 2722, 463, 0.03159441587068332)\n",
      "(28, 2130, 314, 0.004225352112676056)\n",
      "(27, 2911, 367, 0.005496392992098935)\n",
      "(34, 1757, 331, 0.03130335799658509)\n",
      "(40, 3738, 527, 0.053237025147137504)\n",
      "(33, 1517, 320, 0.004614370468029005)\n",
      "(34, 2151, 357, 0.032543003254300325)\n",
      "(27, 2824, 370, 0.010623229461756374)\n",
      "(41, 3954, 560, 0.05918057663125948)\n",
      "(54, 3867, 621, 0.047840703387638996)\n",
      "(55, 4457, 625, 0.046219430109939424)\n",
      "(53, 3969, 614, 0.0491307634164777)\n",
      "(58, 3940, 612, 0.048730964467005075)\n",
      "(57, 3269, 549, 0.04986234322422759)\n",
      "(52, 3912, 570, 0.04013292433537832)\n",
      "(55, 3883, 562, 0.045583311872263714)\n",
      "(51, 3317, 524, 0.06572203798613205)\n",
      "(51, 3841, 567, 0.04946628482166102)\n",
      "(56, 2782, 476, 0.039539899352983465)\n",
      "(63, 5052, 680, 0.047505938242280284)\n",
      "(47, 3236, 496, 0.04789864029666255)\n",
      "(47, 3023, 456, 0.04300363876943434)\n",
      "(59, 4474, 642, 0.04067948144836835)\n",
      "(49, 3654, 523, 0.052271483305966066)\n",
      "(50, 5176, 577, 0.04887944358578052)\n",
      "(38, 2909, 558, 0.053282915091096596)\n",
      "(41, 3902, 576, 0.03690415171706817)\n",
      "(35, 2621, 438, 0.03243037008775276)\n",
      "(36, 3733, 476, 0.04232520760782213)\n",
      "(42, 3078, 482, 0.03898635477582846)\n",
      "(39, 4101, 557, 0.04437941965374299)\n",
      "(42, 2745, 516, 0.04663023679417122)\n",
      "(40, 4472, 543, 0.05992844364937388)\n",
      "(39, 3554, 481, 0.06893640967923466)\n",
      "(42, 3393, 523, 0.053934571175950484)\n",
      "(44, 3427, 623, 0.06711409395973154)\n",
      "(37, 3903, 494, 0.04842428900845504)\n",
      "(38, 3651, 500, 0.05834018077239113)\n",
      "(45, 3758, 572, 0.056679084619478445)\n",
      "(31, 2386, 413, 0.010477787091366304)\n",
      "(37, 3819, 496, 0.041895784236711184)\n",
      "(44, 3313, 487, 0.06278297615454272)\n",
      "(43, 3196, 588, 0.055381727158948686)\n",
      "(36, 3704, 513, 0.0423866090712743)\n",
      "(30, 2098, 329, 0.02716873212583413)\n"
     ]
    }
   ],
   "source": [
    "#read text from folder into python\n",
    "\n",
    "import os\n",
    "import glob\n",
    "\n",
    "pathin = '/Users/ethan/Desktop/Brown/Adam/'\n",
    "\n",
    "os.chdir(pathin)\n",
    "\n",
    "for file in glob.glob('*.cha'):\n",
    "    with open(file,'r') as f:\n",
    "        text = f.read()\n",
    "        \n",
    "        data = text_stats(text, 'CHI', 'I')\n",
    "        print(data)\n"
   ]
  },
  {
   "cell_type": "code",
   "execution_count": 7,
   "metadata": {},
   "outputs": [],
   "source": [
    "#read text from folder into python\n",
    "\n",
    "import os\n",
    "import glob\n",
    "\n",
    "pathin = '/Users/ethan/Desktop/Brown/Adam/'\n",
    "\n",
    "os.chdir(pathin)\n",
    "\n",
    "data = []\n",
    "\n",
    "for file in glob.glob('*.cha'):\n",
    "    with open(file,'r') as f:\n",
    "        text = f.read()\n",
    "        \n",
    "        output = text_stats(text, 'CHI', 'I')\n",
    "        data.append(output)\n",
    "\n",
    "\n"
   ]
  },
  {
   "cell_type": "code",
   "execution_count": 8,
   "metadata": {},
   "outputs": [],
   "source": [
    "import pandas as pd\n",
    "import matplotlib.pyplot as plt\n",
    "import seaborn as sns\n",
    "sns.set(style=\"darkgrid\")\n",
    "\n",
    "df = pd.DataFrame(data, columns = ['age', 'tokens', 'types', 'frequency'])\n"
   ]
  },
  {
   "cell_type": "code",
   "execution_count": 9,
   "metadata": {},
   "outputs": [
    {
     "data": {
      "text/html": [
       "<div>\n",
       "<style>\n",
       "    .dataframe thead tr:only-child th {\n",
       "        text-align: right;\n",
       "    }\n",
       "\n",
       "    .dataframe thead th {\n",
       "        text-align: left;\n",
       "    }\n",
       "\n",
       "    .dataframe tbody tr th {\n",
       "        vertical-align: top;\n",
       "    }\n",
       "</style>\n",
       "<table border=\"1\" class=\"dataframe\">\n",
       "  <thead>\n",
       "    <tr style=\"text-align: right;\">\n",
       "      <th></th>\n",
       "      <th>age</th>\n",
       "      <th>tokens</th>\n",
       "      <th>types</th>\n",
       "      <th>frequency</th>\n",
       "    </tr>\n",
       "  </thead>\n",
       "  <tbody>\n",
       "    <tr>\n",
       "      <th>0</th>\n",
       "      <td>29</td>\n",
       "      <td>2045</td>\n",
       "      <td>371</td>\n",
       "      <td>0.013692</td>\n",
       "    </tr>\n",
       "    <tr>\n",
       "      <th>1</th>\n",
       "      <td>32</td>\n",
       "      <td>2524</td>\n",
       "      <td>390</td>\n",
       "      <td>0.006339</td>\n",
       "    </tr>\n",
       "    <tr>\n",
       "      <th>2</th>\n",
       "      <td>47</td>\n",
       "      <td>2350</td>\n",
       "      <td>443</td>\n",
       "      <td>0.065532</td>\n",
       "    </tr>\n",
       "    <tr>\n",
       "      <th>3</th>\n",
       "      <td>46</td>\n",
       "      <td>3424</td>\n",
       "      <td>492</td>\n",
       "      <td>0.058703</td>\n",
       "    </tr>\n",
       "    <tr>\n",
       "      <th>4</th>\n",
       "      <td>31</td>\n",
       "      <td>2655</td>\n",
       "      <td>411</td>\n",
       "      <td>0.013559</td>\n",
       "    </tr>\n",
       "    <tr>\n",
       "      <th>5</th>\n",
       "      <td>28</td>\n",
       "      <td>1569</td>\n",
       "      <td>304</td>\n",
       "      <td>0.005736</td>\n",
       "    </tr>\n",
       "    <tr>\n",
       "      <th>6</th>\n",
       "      <td>32</td>\n",
       "      <td>1959</td>\n",
       "      <td>376</td>\n",
       "      <td>0.013272</td>\n",
       "    </tr>\n",
       "    <tr>\n",
       "      <th>7</th>\n",
       "      <td>29</td>\n",
       "      <td>1983</td>\n",
       "      <td>302</td>\n",
       "      <td>0.009581</td>\n",
       "    </tr>\n",
       "    <tr>\n",
       "      <th>8</th>\n",
       "      <td>30</td>\n",
       "      <td>2399</td>\n",
       "      <td>399</td>\n",
       "      <td>0.015006</td>\n",
       "    </tr>\n",
       "    <tr>\n",
       "      <th>9</th>\n",
       "      <td>33</td>\n",
       "      <td>1390</td>\n",
       "      <td>317</td>\n",
       "      <td>0.000719</td>\n",
       "    </tr>\n",
       "  </tbody>\n",
       "</table>\n",
       "</div>"
      ],
      "text/plain": [
       "   age  tokens  types  frequency\n",
       "0   29    2045    371   0.013692\n",
       "1   32    2524    390   0.006339\n",
       "2   47    2350    443   0.065532\n",
       "3   46    3424    492   0.058703\n",
       "4   31    2655    411   0.013559\n",
       "5   28    1569    304   0.005736\n",
       "6   32    1959    376   0.013272\n",
       "7   29    1983    302   0.009581\n",
       "8   30    2399    399   0.015006\n",
       "9   33    1390    317   0.000719"
      ]
     },
     "execution_count": 9,
     "metadata": {},
     "output_type": "execute_result"
    }
   ],
   "source": [
    "df.head(10)"
   ]
  },
  {
   "cell_type": "code",
   "execution_count": 156,
   "metadata": {},
   "outputs": [
    {
     "data": {
      "text/plain": [
       "<seaborn.axisgrid.FacetGrid at 0x11f316cc0>"
      ]
     },
     "execution_count": 156,
     "metadata": {},
     "output_type": "execute_result"
    },
    {
     "data": {
      "image/png": "[encoded data removed]",
      "text/plain": [
       "<matplotlib.figure.Figure at 0x11f316748>"
      ]
     },
     "metadata": {},
     "output_type": "display_data"
    }
   ],
   "source": [
    "sns.lmplot(x=\"age\", y=\"tokens\", data=df,\n",
    "           ci = None)"
   ]
  },
  {
   "cell_type": "code",
   "execution_count": 157,
   "metadata": {},
   "outputs": [
    {
     "data": {
      "text/plain": [
       "<seaborn.axisgrid.FacetGrid at 0x11f5ddc50>"
      ]
     },
     "execution_count": 157,
     "metadata": {},
     "output_type": "execute_result"
    },
    {
     "data": {
      "image/png": "[encoded data removed]",
      "text/plain": [
       "<matplotlib.figure.Figure at 0x11f56fe80>"
      ]
     },
     "metadata": {},
     "output_type": "display_data"
    }
   ],
   "source": [
    "sns.lmplot(x=\"age\", y=\"types\", data=df,\n",
    "           ci = None)"
   ]
  },
  {
   "cell_type": "markdown",
   "metadata": {},
   "source": [
    "## You can also save your plot as an impage file for pasting into your paper\n",
    "\n",
    "1. give the plot a name by putting it in a variable\n",
    "2. use ```savefig``` to save the plot"
   ]
  },
  {
   "cell_type": "code",
   "execution_count": 10,
   "metadata": {},
   "outputs": [
    {
     "data": {
      "image/png": "[encoded data removed]",
      "text/plain": [
       "<matplotlib.figure.Figure at 0x118455198>"
      ]
     },
     "metadata": {},
     "output_type": "display_data"
    }
   ],
   "source": [
    "p = sns.lmplot(x=\"age\", y=\"types\", data=df,\n",
    "           ci = None)\n",
    "p.savefig(\"plot.png\")"
   ]
  },
  {
   "cell_type": "markdown",
   "metadata": {},
   "source": [
    "# Assignment\n",
    "\n",
    "1. Use the above code to define a function that extracts age, tokens, types, frequency of a word, and anything else you like\n",
    "2. Use Seaborn to plot your data with a trend line\n",
    "3. Try finding data for the mother's speech\n",
    "4. Try finding frequency data for different words"
   ]
  },
  {
   "cell_type": "code",
   "execution_count": null,
   "metadata": {},
   "outputs": [],
   "source": []
  }
 ],
 "metadata": {
  "kernelspec": {
   "display_name": "Python 3",
   "language": "python",
   "name": "python3"
  },
  "language_info": {
   "codemirror_mode": {
    "name": "ipython",
    "version": 3
   },
   "file_extension": ".py",
   "mimetype": "text/x-python",
   "name": "python",
   "nbconvert_exporter": "python",
   "pygments_lexer": "ipython3",
   "version": "3.6.6"
  }
 },
 "nbformat": 4,
 "nbformat_minor": 2
}
