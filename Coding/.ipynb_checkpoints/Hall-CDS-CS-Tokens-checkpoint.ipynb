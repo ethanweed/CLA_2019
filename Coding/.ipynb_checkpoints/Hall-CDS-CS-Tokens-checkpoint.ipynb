{
 "cells": [
  {
   "cell_type": "code",
   "execution_count": 31,
   "metadata": {
    "scrolled": true
   },
   "outputs": [
    {
     "name": "stdout",
     "output_type": "stream",
     "text": [
      "CDS\n",
      "           SES  Tokens\n",
      "0  WhiteCollar    4846\n",
      "1  WhiteCollar   17537\n",
      "2  WhiteCollar    7839\n",
      "3  WhiteCollar    4113\n",
      "4  WhiteCollar    1332\n",
      "\n",
      "\n",
      "           SES  Tokens\n",
      "0  WhiteCollar   10483\n",
      "1  WhiteCollar   10184\n",
      "2  WhiteCollar    9666\n",
      "3  WhiteCollar    5408\n",
      "4  WhiteCollar    7045\n"
     ]
    }
   ],
   "source": [
    "from os import chdir as cd\n",
    "import glob\n",
    "import pandas as pd\n",
    "import matplotlib.pyplot as plt\n",
    "import seaborn as sns\n",
    "%matplotlib inline\n",
    "\n",
    "pathin = '/Users/ethan/Documents/GitHub/CLA_2019/Coding/Friday Exercises/Data/Hall_MOTCHI/'\n",
    "\n",
    "folders = ['Hall_CHI','Hall_MOT']\n",
    "\n",
    "# Count the mother's tokens (CDS)\n",
    "pro = []\n",
    "work = []\n",
    "\n",
    "cd(pathin + folders[1])\n",
    "for file in glob.glob('*.txt'):\n",
    "    with open(file,'r') as f:\n",
    "        text = f.read()\n",
    "        if 'Pro' in file:\n",
    "            pro.append(text)\n",
    "        if 'Work' in file:\n",
    "            work.append(text)\n",
    "\n",
    "\n",
    "tokens_pro_CDS = []\n",
    "tokens_work_CDS = []\n",
    "\n",
    "for transcript in pro:\n",
    "    words = transcript.split()\n",
    "    tokens_pro_CDS.append(len(words))\n",
    "for transcript in work:\n",
    "    words = transcript.split()\n",
    "    tokens_work_CDS.append(len(words))\n",
    "\n",
    "    \n",
    "tokens_pro_CDS = [n for n in tokens_pro_CDS if n != 0]\n",
    "tokens_work_CDS = [n for n in tokens_work_CDS if n != 0]\n",
    "\n",
    "\n",
    "# Count the children's tokens (CS)\n",
    "pro = []\n",
    "work = []\n",
    "\n",
    "cd(pathin + folders[0])\n",
    "for file in glob.glob('*.txt'):\n",
    "    with open(file,'r') as f:\n",
    "        text = f.read()\n",
    "        if 'Pro' in file:\n",
    "            pro.append(text)\n",
    "        if 'Work' in file:\n",
    "            work.append(text)\n",
    "\n",
    "\n",
    "tokens_pro_CS = []\n",
    "tokens_work_CS = []\n",
    "\n",
    "for transcript in pro:\n",
    "    words = transcript.split()\n",
    "    tokens_pro_CS.append(len(words))\n",
    "for transcript in work:\n",
    "    words = transcript.split()\n",
    "    tokens_work_CS.append(len(words))\n",
    "\n",
    "    \n",
    "tokens_pro_CS = [n for n in tokens_pro_CS if n != 0]\n",
    "tokens_work_CS = [n for n in tokens_work_CS if n != 0]\n",
    "\n",
    "\n",
    "\n",
    "# Make a dataframe for CDS\n",
    "                                             \n",
    "pro_CDS = [\"WhiteCollar\"] * len(tokens_pro_CDS)\n",
    "work_CDS = [\"BlueCollar\"] * len(tokens_work_CDS)\n",
    "#adult = [\"Adult\"] * len(pro_CDS + work_CDS)\n",
    "SES_CDS = pro_CDS + work_CDS\n",
    "Tokens_CDS = tokens_pro_CDS + tokens_work_CDS\n",
    "\n",
    "# Make a dataframe for CSS\n",
    "pro_CS = [\"WhiteCollar\"] * len(tokens_pro_CS)\n",
    "work_CS = [\"BlueCollar\"] * len(tokens_work_CS)\n",
    "SES_CS = pro_CS + work_CS\n",
    "#child = [\"Child\"] * len(pro_CS + work_CS)\n",
    "SES_CS = pro_CS + work_CS\n",
    "Tokens_CS = tokens_pro_CS + tokens_work_CS\n",
    "\n",
    "#speaker = adult + child\n",
    "#SES = pro_CDS + work_CDS + pro_CS + work_CS\n",
    "#Tokens = tokens_pro_CDS + tokens_work_CDS + tokens_pro_CS + tokens_work_CS\n",
    "                                              \n",
    "                                              \n",
    "df_CDS = pd.DataFrame(\n",
    "    {'SES': SES_CDS,\n",
    "     'Tokens': Tokens_CDS\n",
    "    })\n",
    "\n",
    "df_CS = pd.DataFrame(\n",
    "    {'SES': SES_CS,\n",
    "     'Tokens': Tokens_CS\n",
    "    })\n",
    "\n",
    "print('CDS')\n",
    "print(df_CDS.head())\n",
    "print('\\n')\n",
    "print(df_CS.head())"
   ]
  },
  {
   "cell_type": "code",
   "execution_count": 44,
   "metadata": {},
   "outputs": [
    {
     "data": {
      "text/plain": [
       "<matplotlib.text.Text at 0x11dbe0ac8>"
      ]
     },
     "execution_count": 44,
     "metadata": {},
     "output_type": "execute_result"
    },
    {
     "data": {
      "image/png": "[encoded data removed]",
      "text/plain": [
       "<matplotlib.figure.Figure at 0x11de93048>"
      ]
     },
     "metadata": {},
     "output_type": "display_data"
    }
   ],
   "source": [
    "# make a single plot with multiple boxplots (facetgrid) with Seaborn\n",
    "\n",
    "sns.set_style('white')\n",
    "\n",
    "# Define a figure with two subplots (ax1 and ax2)\n",
    "fig, (ax1, ax2) = plt.subplots(1, 2)\n",
    "\n",
    "# Describe the first plot and assign it to ax1\n",
    "p1 = sns.boxplot(y = 'Tokens', x = 'SES',\n",
    "                ax = ax1,\n",
    "                data = df_CDS,\n",
    "                width=0.5,\n",
    "                palette=\"deep\")\n",
    "\n",
    "# Describe the second plot and assign it to ax2\n",
    "p2 = sns.boxplot(y = 'Tokens', x = 'SES',\n",
    "                ax = ax2,\n",
    "                data = df_CS,\n",
    "                width=0.5,\n",
    "                palette=\"YlOrBr\")\n",
    "\n",
    "# Set y-axis limits, so that the two plots can be visually comapared\n",
    "ax1.set(ylim=(0, 18000))\n",
    "ax2.set(ylim=(0, 18000))\n",
    "\n",
    "# Add titles to the two subplots\n",
    "ax1.set_title('Child-directed Speech')\n",
    "ax2.set_title('Child Speech')"
   ]
  },
  {
   "cell_type": "code",
   "execution_count": null,
   "metadata": {},
   "outputs": [],
   "source": []
  },
  {
   "cell_type": "code",
   "execution_count": null,
   "metadata": {},
   "outputs": [],
   "source": []
  }
 ],
 "metadata": {
  "kernelspec": {
   "display_name": "Python 3",
   "language": "python",
   "name": "python3"
  },
  "language_info": {
   "codemirror_mode": {
    "name": "ipython",
    "version": 3
   },
   "file_extension": ".py",
   "mimetype": "text/x-python",
   "name": "python",
   "nbconvert_exporter": "python",
   "pygments_lexer": "ipython3",
   "version": "3.6.8"
  }
 },
 "nbformat": 4,
 "nbformat_minor": 2
}
