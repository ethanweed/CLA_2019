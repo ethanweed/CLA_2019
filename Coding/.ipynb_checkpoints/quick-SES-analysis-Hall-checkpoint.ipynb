{
 "cells": [
  {
   "cell_type": "markdown",
   "metadata": {},
   "source": [
    "# SES and CDS\n",
    "Do children from working class parents hear fewer words? Evidence from Hall et al (1979, 1981, 1984)"
   ]
  },
  {
   "cell_type": "code",
   "execution_count": 50,
   "metadata": {},
   "outputs": [],
   "source": [
    "import pylangacq as pla\n",
    "from os import chdir as cd\n",
    "import glob\n",
    "pathin = '/Users/ethan/Documents/GitHub/CLA_2019/Coding/Friday Exercises/Data/Hall/'\n",
    "\n",
    "CDS_pro = []\n",
    "CDS_work = []"
   ]
  },
  {
   "cell_type": "code",
   "execution_count": 51,
   "metadata": {},
   "outputs": [],
   "source": [
    "cd(pathin + \"WhitePro\")\n",
    "\n",
    "files = ['job.cha','lea.cha','maa.cha','rob.cha','toh.cha','zoe.cha']\n",
    "\n",
    "for file in files:\n",
    "    pro = pla.read_chat(file)\n",
    "    CDS = pro.words(participant = 'MOT')\n",
    "    CDS_pro.append(len(CDS))\n",
    "\n",
    "cd(pathin + 'BlackPro')\n",
    "\n",
    "files = ['anc.cha',\n",
    "'bom.cha',\n",
    "'ded.cha',\n",
    "'jaf.cha',\n",
    "'mim.cha',\n",
    "'voh.cha']\n",
    "for file in files:\n",
    "    pro = pla.read_chat(file)\n",
    "    CDS = pro.words(participant = 'MOT')\n",
    "    CDS_pro.append(len(CDS))"
   ]
  },
  {
   "cell_type": "code",
   "execution_count": 52,
   "metadata": {},
   "outputs": [],
   "source": [
    "cd(pathin + \"WhiteWork\")\n",
    "\n",
    "files = ['boo.cha','brh.cha','dal.cha','kag.cha','kao.cha','mig.cha','sat.cha','stl.cha']\n",
    "\n",
    "for file in files:\n",
    "    work = pla.read_chat(file)\n",
    "    CDS = work.words(participant = 'MOT')\n",
    "    CDS_work.append(len(CDS))\n",
    "\n",
    "cd(pathin + \"BlackWork\")\n",
    "\n",
    "files = ['anl.cha',\n",
    "'deg.cha',\n",
    "'kig.cha',\n",
    "'kmf.cha',\n",
    "'lef.cha',\n",
    "'mis.cha',\n",
    "'pag.cha',\n",
    "'rog.cha',\n",
    "'roj.cha',\n",
    "'trc.cha']"
   ]
  },
  {
   "cell_type": "code",
   "execution_count": 53,
   "metadata": {},
   "outputs": [],
   "source": [
    "CDS_pro = [i for i in CDS_pro if i > 0]\n",
    "CDS_work = [i for i in CDS_work if i > 0]"
   ]
  },
  {
   "cell_type": "code",
   "execution_count": 54,
   "metadata": {},
   "outputs": [
    {
     "name": "stdout",
     "output_type": "stream",
     "text": [
      "[6648, 9475, 11836, 4579, 2827, 1528, 5787, 6540, 9284, 3963]\n",
      "[6294, 5328, 5006, 10101, 5322, 8384, 8280]\n"
     ]
    }
   ],
   "source": [
    "print(CDS_pro)\n",
    "print(CDS_work)"
   ]
  },
  {
   "cell_type": "code",
   "execution_count": 66,
   "metadata": {},
   "outputs": [],
   "source": [
    "import pandas as pd\n",
    "import matplotlib.pyplot as plt\n",
    "import seaborn as sns\n",
    "%matplotlib inline\n",
    "\n",
    "WC = [\"WhiteCollar\"] * len(CDS_pro)\n",
    "BC = [\"BlueCollar\"] * len(CDS_work)\n",
    "CDS = CDS_pro + CDS_work\n",
    "SES = WC + BC\n",
    "df = pd.DataFrame(\n",
    "    {'CDS': CDS,\n",
    "     'SES': SES,\n",
    "    }) "
   ]
  },
  {
   "cell_type": "code",
   "execution_count": 60,
   "metadata": {},
   "outputs": [
    {
     "data": {
      "text/html": [
       "<div>\n",
       "<style>\n",
       "    .dataframe thead tr:only-child th {\n",
       "        text-align: right;\n",
       "    }\n",
       "\n",
       "    .dataframe thead th {\n",
       "        text-align: left;\n",
       "    }\n",
       "\n",
       "    .dataframe tbody tr th {\n",
       "        vertical-align: top;\n",
       "    }\n",
       "</style>\n",
       "<table border=\"1\" class=\"dataframe\">\n",
       "  <thead>\n",
       "    <tr style=\"text-align: right;\">\n",
       "      <th></th>\n",
       "      <th>CDS</th>\n",
       "      <th>SES</th>\n",
       "    </tr>\n",
       "  </thead>\n",
       "  <tbody>\n",
       "    <tr>\n",
       "      <th>0</th>\n",
       "      <td>6648</td>\n",
       "      <td>WhiteCollar</td>\n",
       "    </tr>\n",
       "    <tr>\n",
       "      <th>1</th>\n",
       "      <td>9475</td>\n",
       "      <td>WhiteCollar</td>\n",
       "    </tr>\n",
       "    <tr>\n",
       "      <th>2</th>\n",
       "      <td>11836</td>\n",
       "      <td>WhiteCollar</td>\n",
       "    </tr>\n",
       "    <tr>\n",
       "      <th>3</th>\n",
       "      <td>4579</td>\n",
       "      <td>WhiteCollar</td>\n",
       "    </tr>\n",
       "    <tr>\n",
       "      <th>4</th>\n",
       "      <td>2827</td>\n",
       "      <td>WhiteCollar</td>\n",
       "    </tr>\n",
       "  </tbody>\n",
       "</table>\n",
       "</div>"
      ],
      "text/plain": [
       "     CDS          SES\n",
       "0   6648  WhiteCollar\n",
       "1   9475  WhiteCollar\n",
       "2  11836  WhiteCollar\n",
       "3   4579  WhiteCollar\n",
       "4   2827  WhiteCollar"
      ]
     },
     "execution_count": 60,
     "metadata": {},
     "output_type": "execute_result"
    }
   ],
   "source": [
    "df.head()\n"
   ]
  },
  {
   "cell_type": "code",
   "execution_count": 65,
   "metadata": {},
   "outputs": [
    {
     "data": {
      "image/png": "[encoded data removed]",
      "text/plain": [
       "<matplotlib.figure.Figure at 0x11d250320>"
      ]
     },
     "metadata": {},
     "output_type": "display_data"
    }
   ],
   "source": [
    "# make boxplot with Seaborn\n",
    "sns.set_style('white')\n",
    "p = sns.boxplot(y = 'CDS', x = 'SES',\n",
    "                data = df,\n",
    "                width=0.5,\n",
    "                palette=\"colorblind\")"
   ]
  },
  {
   "cell_type": "code",
   "execution_count": null,
   "metadata": {},
   "outputs": [],
   "source": []
  }
 ],
 "metadata": {
  "kernelspec": {
   "display_name": "Python 3",
   "language": "python",
   "name": "python3"
  },
  "language_info": {
   "codemirror_mode": {
    "name": "ipython",
    "version": 3
   },
   "file_extension": ".py",
   "mimetype": "text/x-python",
   "name": "python",
   "nbconvert_exporter": "python",
   "pygments_lexer": "ipython3",
   "version": "3.6.8"
  }
 },
 "nbformat": 4,
 "nbformat_minor": 2
}
