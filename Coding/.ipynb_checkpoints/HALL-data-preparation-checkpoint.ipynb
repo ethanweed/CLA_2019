{
 "cells": [
  {
   "cell_type": "code",
   "execution_count": 15,
   "metadata": {},
   "outputs": [],
   "source": [
    "from os import chdir as cd\n",
    "import glob\n",
    "\n",
    "pathin = '/Users/ethan/Documents/GitHub/CLA_2019/Coding/Friday Exercises/Data/Hall/'\n",
    "funcpath = '/Users/ethan/Documents/GitHub/CLA_2019/Coding/Friday Exercises/Functions'\n",
    "pathout_MOT = '/Users/ethan/Documents/GitHub/CLA_2019/Coding/Friday Exercises/Data/Hall_MOTCHI/Hall_MOT/'\n",
    "pathout_CHI = '/Users/ethan/Documents/GitHub/CLA_2019/Coding/Friday Exercises/Data/Hall_MOTCHI/Hall_CHI/'\n",
    "\n",
    "cd(funcpath)\n",
    "import getmotchi\n",
    "\n",
    "folders = [\n",
    "'BlackPro',\n",
    "'BlackWork',\n",
    "'WhitePro',\n",
    "'WhiteWork']\n",
    "\n",
    "\n",
    "for folder in folders:\n",
    "    path = pathin + folder\n",
    "    cd(path)\n",
    "    for file in glob.glob('*.cha'):\n",
    "        with open(file,'r') as f:\n",
    "            m = getmotchi.getmot(file)\n",
    "\n",
    "            filename = pathout_MOT + folder + '_' + file[:-4] + '_MOT.txt'\n",
    "            with open(filename, 'a+') as newfile:\n",
    "                newfile.write('\\n'.join(m))\n",
    "            newfile.close()\n",
    "\n",
    "            c = getmotchi.getchi(file)\n",
    "            filename = pathout_CHI + folder + '_' + file[:-4] + '_CHI.txt'\n",
    "            with open(filename, 'a+') as newfile:\n",
    "                newfile.write('\\n'.join(c))\n",
    "            newfile.close()\n",
    "\n",
    "        "
   ]
  },
  {
   "cell_type": "code",
   "execution_count": null,
   "metadata": {},
   "outputs": [],
   "source": []
  },
  {
   "cell_type": "code",
   "execution_count": null,
   "metadata": {},
   "outputs": [],
   "source": []
  }
 ],
 "metadata": {
  "kernelspec": {
   "display_name": "Python 3",
   "language": "python",
   "name": "python3"
  },
  "language_info": {
   "codemirror_mode": {
    "name": "ipython",
    "version": 3
   },
   "file_extension": ".py",
   "mimetype": "text/x-python",
   "name": "python",
   "nbconvert_exporter": "python",
   "pygments_lexer": "ipython3",
   "version": "3.6.8"
  }
 },
 "nbformat": 4,
 "nbformat_minor": 2
}
