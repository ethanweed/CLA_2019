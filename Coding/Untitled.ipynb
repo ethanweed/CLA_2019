{
 "cells": [
  {
   "cell_type": "code",
   "execution_count": 16,
   "metadata": {},
   "outputs": [],
   "source": [
    "from os import chdir as cd\n",
    "\n",
    "pathin = '/Users/ethan/Documents/GitHub/CLA_2019/Coding/Friday Exercises/Data/Brown/Adam/'\n",
    "file = 'adam01.cha'\n",
    "\n",
    "cd(pathin)\n",
    "\n",
    "# load the transcript\n",
    "#transcript_path = input('Please, input the file path to a transcript: ')\n",
    "raw = open(file).read()\n",
    "lines = raw.split('\\n')\n",
    "\n",
    "# retrieve lines with utterances, stored as (SPEAKER, UTTERANCE) tuples\n",
    "utterances = []\n",
    "for line in lines:\n",
    "    if line.startswith('*'):  # all other lines are metadata\n",
    "        split_line = line.split(':\\t')  # each speaker ID is followed by a : and a tab\n",
    "        speaker = split_line[0][1:]  # get only the actual speaker name\n",
    "        utterance = (speaker, split_line[1])  # store it as a tuple\n",
    "        utterances.append(utterance)\n",
    "        "
   ]
  },
  {
   "cell_type": "code",
   "execution_count": 39,
   "metadata": {},
   "outputs": [],
   "source": [
    "u = utterances[1]"
   ]
  },
  {
   "cell_type": "code",
   "execution_count": 40,
   "metadata": {},
   "outputs": [
    {
     "name": "stdout",
     "output_type": "stream",
     "text": [
      "('CHI', 'big drum .')\n",
      "CHI\n",
      "big drum .\n"
     ]
    }
   ],
   "source": [
    "print(u)\n",
    "print(u[0])\n",
    "print(u[1])"
   ]
  },
  {
   "cell_type": "code",
   "execution_count": 36,
   "metadata": {},
   "outputs": [
    {
     "name": "stdout",
     "output_type": "stream",
     "text": [
      "('big drum .',)\n",
      "no (.) you write on paper with pencil .\n"
     ]
    }
   ],
   "source": []
  },
  {
   "cell_type": "code",
   "execution_count": null,
   "metadata": {},
   "outputs": [],
   "source": []
  }
 ],
 "metadata": {
  "kernelspec": {
   "display_name": "Python 3",
   "language": "python",
   "name": "python3"
  },
  "language_info": {
   "codemirror_mode": {
    "name": "ipython",
    "version": 3
   },
   "file_extension": ".py",
   "mimetype": "text/x-python",
   "name": "python",
   "nbconvert_exporter": "python",
   "pygments_lexer": "ipython3",
   "version": "3.6.8"
  }
 },
 "nbformat": 4,
 "nbformat_minor": 2
}
