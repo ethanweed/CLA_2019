{
 "cells": [
  {
   "cell_type": "code",
   "execution_count": 3,
   "metadata": {},
   "outputs": [
    {
     "data": {
      "text/html": [
       "<div>\n",
       "<style>\n",
       "    .dataframe thead tr:only-child th {\n",
       "        text-align: right;\n",
       "    }\n",
       "\n",
       "    .dataframe thead th {\n",
       "        text-align: left;\n",
       "    }\n",
       "\n",
       "    .dataframe tbody tr th {\n",
       "        vertical-align: top;\n",
       "    }\n",
       "</style>\n",
       "<table border=\"1\" class=\"dataframe\">\n",
       "  <thead>\n",
       "    <tr style=\"text-align: right;\">\n",
       "      <th></th>\n",
       "      <th>CDS</th>\n",
       "      <th>SES</th>\n",
       "    </tr>\n",
       "  </thead>\n",
       "  <tbody>\n",
       "    <tr>\n",
       "      <th>0</th>\n",
       "      <td>880</td>\n",
       "      <td>WhiteCollar</td>\n",
       "    </tr>\n",
       "    <tr>\n",
       "      <th>1</th>\n",
       "      <td>2054</td>\n",
       "      <td>WhiteCollar</td>\n",
       "    </tr>\n",
       "    <tr>\n",
       "      <th>2</th>\n",
       "      <td>1071</td>\n",
       "      <td>WhiteCollar</td>\n",
       "    </tr>\n",
       "    <tr>\n",
       "      <th>3</th>\n",
       "      <td>795</td>\n",
       "      <td>WhiteCollar</td>\n",
       "    </tr>\n",
       "    <tr>\n",
       "      <th>4</th>\n",
       "      <td>429</td>\n",
       "      <td>WhiteCollar</td>\n",
       "    </tr>\n",
       "  </tbody>\n",
       "</table>\n",
       "</div>"
      ],
      "text/plain": [
       "    CDS          SES\n",
       "0   880  WhiteCollar\n",
       "1  2054  WhiteCollar\n",
       "2  1071  WhiteCollar\n",
       "3   795  WhiteCollar\n",
       "4   429  WhiteCollar"
      ]
     },
     "execution_count": 3,
     "metadata": {},
     "output_type": "execute_result"
    }
   ],
   "source": [
    "from os import chdir as cd\n",
    "import glob\n",
    "\n",
    "pathin = '/Users/ethan/Documents/GitHub/CLA_2019/Coding/Friday Exercises/Data/Hall_MOTCHI/'\n",
    "\n",
    "folders = ['Hall_CHI','Hall_MOT']\n",
    "\n",
    "pro = []\n",
    "work = []\n",
    "\n",
    "cd(pathin + folders[1])\n",
    "for file in glob.glob('*.txt'):\n",
    "    with open(file,'r') as f:\n",
    "        text = f.read()\n",
    "        if 'Pro' in file:\n",
    "            pro.append(text)\n",
    "        if 'Work' in file:\n",
    "            work.append(text)\n",
    "\n",
    "\n",
    "types_pro = []\n",
    "types_work = []\n",
    "\n",
    "for transcript in pro:\n",
    "    words = set(transcript.split())\n",
    "    types_pro.append(len(words))\n",
    "for transcript in work:\n",
    "    words = set(transcript.split())\n",
    "    types_work.append(len(words))\n",
    "\n",
    "    \n",
    "types_pro = [n for n in types_pro if n != 0]\n",
    "types_work = [n for n in types_work if n != 0]\n",
    "\n",
    "import pandas as pd\n",
    "import matplotlib.pyplot as plt\n",
    "import seaborn as sns\n",
    "%matplotlib inline\n",
    "\n",
    "pro = [\"WhiteCollar\"] * len(types_pro)\n",
    "work = [\"BlueCollar\"] * len(types_work)\n",
    "CDS = types_pro + types_work\n",
    "SES = pro + work\n",
    "df = pd.DataFrame(\n",
    "    {'CDS': CDS,\n",
    "     'SES': SES,\n",
    "    })\n",
    "\n",
    "#inspect the data\n",
    "df.head() # look at the top of the data\n",
    "# df.tail() # look at the bottom of the data\n",
    "# df #look at all of the data"
   ]
  },
  {
   "cell_type": "code",
   "execution_count": 4,
   "metadata": {},
   "outputs": [
    {
     "data": {
      "image/png": "[encoded data removed]",
      "text/plain": [
       "<matplotlib.figure.Figure at 0x11c7750b8>"
      ]
     },
     "metadata": {},
     "output_type": "display_data"
    }
   ],
   "source": [
    "# make boxplot with Seaborn\n",
    "sns.set_style('white')\n",
    "\n",
    "p = sns.boxplot(y = 'CDS', x = 'SES',\n",
    "                data = df,\n",
    "                width=0.5,\n",
    "                palette=\"colorblind\")\n",
    "\n",
    "p.set_title(\"Types\")\n",
    "sns.despine()"
   ]
  },
  {
   "cell_type": "code",
   "execution_count": null,
   "metadata": {},
   "outputs": [],
   "source": []
  }
 ],
 "metadata": {
  "kernelspec": {
   "display_name": "Python 3",
   "language": "python",
   "name": "python3"
  },
  "language_info": {
   "codemirror_mode": {
    "name": "ipython",
    "version": 3
   },
   "file_extension": ".py",
   "mimetype": "text/x-python",
   "name": "python",
   "nbconvert_exporter": "python",
   "pygments_lexer": "ipython3",
   "version": "3.6.8"
  }
 },
 "nbformat": 4,
 "nbformat_minor": 2
}
