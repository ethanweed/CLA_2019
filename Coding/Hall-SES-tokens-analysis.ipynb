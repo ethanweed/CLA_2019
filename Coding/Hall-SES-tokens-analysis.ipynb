{
 "cells": [
  {
   "cell_type": "markdown",
   "metadata": {},
   "source": [
    "# Investigating the Role of SES using the Hall data\n",
    "\n",
    "Data from research by William Hall are available on CHILDES. These data consist of transcripts from Working Class and Professional African American and White families in the U.S. According to the information associated with the corpus on the CHILDES site, \"The corpus was collected with the purpose of providing a solid basis for comparing vocabulary usage in different socioeconomic and ethnic groups.\"\n",
    "\n",
    "William Hall (University of Maryland) ![William Hall](https://childes.talkbank.org/access/Eng-NA/0pics/Hall.jpg)\n",
    "\n",
    "The data for the assignment (in zipped format) are available [here](https://minhaskamal.github.io/DownGit/#/home?url=https://github.com/ethanweed/CLA_2019/tree/master/Coding/Friday%20Exercises/Data/Hall_MOTCHI). You will need to unzip the folder to use the data."
   ]
  },
  {
   "cell_type": "code",
   "execution_count": 4,
   "metadata": {},
   "outputs": [
    {
     "data": {
      "text/html": [
       "<div>\n",
       "<style>\n",
       "    .dataframe thead tr:only-child th {\n",
       "        text-align: right;\n",
       "    }\n",
       "\n",
       "    .dataframe thead th {\n",
       "        text-align: left;\n",
       "    }\n",
       "\n",
       "    .dataframe tbody tr th {\n",
       "        vertical-align: top;\n",
       "    }\n",
       "</style>\n",
       "<table border=\"1\" class=\"dataframe\">\n",
       "  <thead>\n",
       "    <tr style=\"text-align: right;\">\n",
       "      <th></th>\n",
       "      <th>SES</th>\n",
       "      <th>Tokens</th>\n",
       "    </tr>\n",
       "  </thead>\n",
       "  <tbody>\n",
       "    <tr>\n",
       "      <th>0</th>\n",
       "      <td>WhiteCollar</td>\n",
       "      <td>4846</td>\n",
       "    </tr>\n",
       "    <tr>\n",
       "      <th>1</th>\n",
       "      <td>WhiteCollar</td>\n",
       "      <td>17537</td>\n",
       "    </tr>\n",
       "    <tr>\n",
       "      <th>2</th>\n",
       "      <td>WhiteCollar</td>\n",
       "      <td>7839</td>\n",
       "    </tr>\n",
       "    <tr>\n",
       "      <th>3</th>\n",
       "      <td>WhiteCollar</td>\n",
       "      <td>4113</td>\n",
       "    </tr>\n",
       "    <tr>\n",
       "      <th>4</th>\n",
       "      <td>WhiteCollar</td>\n",
       "      <td>1332</td>\n",
       "    </tr>\n",
       "  </tbody>\n",
       "</table>\n",
       "</div>"
      ],
      "text/plain": [
       "           SES  Tokens\n",
       "0  WhiteCollar    4846\n",
       "1  WhiteCollar   17537\n",
       "2  WhiteCollar    7839\n",
       "3  WhiteCollar    4113\n",
       "4  WhiteCollar    1332"
      ]
     },
     "execution_count": 4,
     "metadata": {},
     "output_type": "execute_result"
    }
   ],
   "source": [
    "from os import chdir as cd\n",
    "import glob\n",
    "\n",
    "pathin = '/Users/ethan/Documents/GitHub/CLA_2019/Coding/Friday Exercises/Data/Hall_MOTCHI/'\n",
    "\n",
    "folders = ['Hall_CHI','Hall_MOT']\n",
    "\n",
    "pro = []\n",
    "work = []\n",
    "\n",
    "cd(pathin + folders[1])\n",
    "for file in glob.glob('*.txt'):\n",
    "    with open(file,'r') as f:\n",
    "        text = f.read()\n",
    "        if 'Pro' in file:\n",
    "            pro.append(text)\n",
    "        if 'Work' in file:\n",
    "            work.append(text)\n",
    "\n",
    "\n",
    "tokens_pro = []\n",
    "tokens_work = []\n",
    "\n",
    "for transcript in pro:\n",
    "    words = transcript.split()\n",
    "    tokens_pro.append(len(words))\n",
    "for transcript in work:\n",
    "    words = transcript.split()\n",
    "    tokens_work.append(len(words))\n",
    "\n",
    "    \n",
    "tokens_pro = [n for n in tokens_pro if n != 0]\n",
    "tokens_work = [n for n in tokens_work if n != 0]\n",
    "\n",
    "import pandas as pd\n",
    "import matplotlib.pyplot as plt\n",
    "import seaborn as sns\n",
    "%matplotlib inline\n",
    "\n",
    "pro = [\"WhiteCollar\"] * len(tokens_pro)\n",
    "work = [\"BlueCollar\"] * len(tokens_work)\n",
    "CDS = tokens_pro + tokens_work\n",
    "SES = pro + work\n",
    "df = pd.DataFrame(\n",
    "    {'Tokens': CDS,\n",
    "     'SES': SES,\n",
    "    })\n",
    "\n",
    "#inspect the data\n",
    "df.head() # look at the top of the data\n",
    "# df.tail() # look at the bottom of the data\n",
    "# df #look at all of the data"
   ]
  },
  {
   "cell_type": "code",
   "execution_count": 5,
   "metadata": {},
   "outputs": [
    {
     "data": {
      "image/png": "[encoded data removed]",
      "text/plain": [
       "<matplotlib.figure.Figure at 0x1057cf518>"
      ]
     },
     "metadata": {},
     "output_type": "display_data"
    }
   ],
   "source": [
    "# make boxplot with Seaborn\n",
    "sns.set_style('white')\n",
    "\n",
    "p = sns.boxplot(y = 'Tokens', x = 'SES',\n",
    "                data = df,\n",
    "                width=0.5,\n",
    "                palette=\"colorblind\")\n",
    "\n",
    "p.set_title(\"Tokens\")\n",
    "sns.despine()"
   ]
  },
  {
   "cell_type": "markdown",
   "metadata": {},
   "source": [
    "## Quiz questions\n",
    "\n",
    "\n",
    "1. These data indicate that the \"white collar\" parents (professional class) use a greater number of tokens, that is, they speak more words than the \"blue collar\" parents. WHat about the kids? Make a boxplot that shows the number of tokens for the children from the two groups.\n",
    "1. Write a script that checks to see whether they also use more types, and make boxplot of the results.\n",
    "1. Write a script that extracts the type-to-token ratio for each of the groups, and make a boxplot of the results."
   ]
  },
  {
   "cell_type": "markdown",
   "metadata": {},
   "source": [
    "## Hints"
   ]
  },
  {
   "cell_type": "code",
   "execution_count": null,
   "metadata": {},
   "outputs": [],
   "source": []
  }
 ],
 "metadata": {
  "kernelspec": {
   "display_name": "Python 3",
   "language": "python",
   "name": "python3"
  },
  "language_info": {
   "codemirror_mode": {
    "name": "ipython",
    "version": 3
   },
   "file_extension": ".py",
   "mimetype": "text/x-python",
   "name": "python",
   "nbconvert_exporter": "python",
   "pygments_lexer": "ipython3",
   "version": "3.6.8"
  }
 },
 "nbformat": 4,
 "nbformat_minor": 2
}
