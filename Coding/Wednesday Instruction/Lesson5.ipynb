{
 "cells": [
  {
   "cell_type": "markdown",
   "metadata": {
    "slideshow": {
     "slide_type": "slide"
    }
   },
   "source": [
    "# Lesson 5: Putting it all together"
   ]
  },
  {
   "cell_type": "markdown",
   "metadata": {
    "slideshow": {
     "slide_type": "slide"
    }
   },
   "source": [
    "# Goals for this lesson\n",
    "\n",
    "Picking up the pieces of all that we have learned in the past weeks.\n",
    "\n",
    "Putting our new knowledge together to make a program which uses (almost) all of it.\n",
    "\n",
    "NOTE: The last 5-10 minutes will be spent on a midway evaluation. So, please, think about a few points on what is working well and what can be improved."
   ]
  },
  {
   "cell_type": "markdown",
   "metadata": {
    "slideshow": {
     "slide_type": "slide"
    }
   },
   "source": [
    "# The topics we have covered so far\n",
    "\n",
    "Variables\n",
    "\n",
    "_for_-loops\n",
    "\n",
    "Numbers and arithmetic\n",
    "\n",
    "_if_-statements\n",
    "\n",
    "Strings\n",
    "\n",
    "Lists"
   ]
  },
  {
   "cell_type": "markdown",
   "metadata": {
    "slideshow": {
     "slide_type": "subslide"
    }
   },
   "source": [
    "### Let's try to use it all in a program which ...\n",
    "\n",
    "1. reads in a folder of transcript files (we'll be putting a bit more weight on this today)\n",
    "1. cleans these transcript files and stores all utterances in a nice, structured way\n",
    "1. makes a few calculations for each transcript\n",
    "1. reports and/or plots the results\n",
    "\n",
    "Hopefully, most questions that I received from you will be answered to some degree through this."
   ]
  },
  {
   "cell_type": "markdown",
   "metadata": {
    "slideshow": {
     "slide_type": "subslide"
    }
   },
   "source": [
    "We will do this on the transcripts with Adam from Brown (1973). The data can be download [here](https://childes.talkbank.org/access/Eng-NA/Brown.html) (only 4.5 MB).\n",
    "\n",
    "The following code blocks will be extensively commented - maybe too much. This is to provide answers to any questions that I figured could arise."
   ]
  },
  {
   "cell_type": "markdown",
   "metadata": {
    "slideshow": {
     "slide_type": "slide"
    }
   },
   "source": [
    "# Step 1: reading in the files\n",
    "\n",
    "Heinold (2012, ch. 12) provides details on file reading. Ethan has also shown other nifty things when reading in files.\n",
    "\n",
    "The main steps of reading in a file is:\n",
    "1. pointing to the file with a valid filepath\n",
    "1. opening the file with `open()`\n",
    "1. reading in the contents of the file, e.g. with `.read()`\n",
    "\n",
    "First, we'll make the long version with all steps spelled out. Then, we'll make the short version resembling Ethan's format.\n",
    "\n",
    "Since we want to work with more than one file, we point to the folder containing the files. Then, we use the glob() function from the glob module to show point to all files in that folder."
   ]
  },
  {
   "cell_type": "markdown",
   "metadata": {
    "slideshow": {
     "slide_type": "subslide"
    }
   },
   "source": [
    "### The long version"
   ]
  },
  {
   "cell_type": "code",
   "execution_count": 1,
   "metadata": {
    "slideshow": {
     "slide_type": "fragment"
    }
   },
   "outputs": [],
   "source": [
    "import os  # introduces functionality to control things related to the operating system\n",
    "import glob  # the functionality of this module is mainly in this one function, hence the same name\n",
    "\n",
    "# point to the folder containing the transcript files\n",
    "data_folder = \"/home/kasper/python-projects/CLA_2019/CLA_2018/Data/Brown/Adam\"\n",
    "\n",
    "# change working directory (=the folder in which the program currently stands)\n",
    "os.chdir(data_folder)\n",
    "\n",
    "# make a list of filenames using glob()\n",
    "filenames = glob.glob('*.cha')  # the transcript files are saved with the .cha file extension (used in e.g. CLAN)\n",
    "filenames.sort()  # it's nice to have them in order\n",
    "\n",
    "file_contents = []  # make empty list to store raw file contents\n",
    "for filename in filenames:  # loop over the list of file names one by one\n",
    "    file = open(filename, encoding='utf-8')  # this actually loads the file and allows Python to read the contents\n",
    "    raw_content = file.read()  # this reads in ALL content from the file to ONE string\n",
    "    file_contents.append(raw_content)  # add the raw content to the list so that we can use it later\n",
    "    file.close()  # close the file since we don't need it anymore; see the short version for a prettier way"
   ]
  },
  {
   "cell_type": "markdown",
   "metadata": {
    "slideshow": {
     "slide_type": "subslide"
    }
   },
   "source": [
    "### The short version"
   ]
  },
  {
   "cell_type": "code",
   "execution_count": 2,
   "metadata": {
    "slideshow": {
     "slide_type": "fragment"
    }
   },
   "outputs": [],
   "source": [
    "from os import chdir as cd\n",
    "import glob\n",
    "\n",
    "pathin = '/home/kasper/python-projects/CLA_2019/CLA_2018/Data/Brown/Adam'  # the path pointing to our data folder\n",
    "cd(pathin)  # change working directory to the data folder\n",
    "\n",
    "file_contents = []  # make empty list to store raw file contents\n",
    "\n",
    "# loop over all files in the folder with the .cha extension\n",
    "# note that sorted() is needed here; otherwise, the files will be in a random order\n",
    "for file in sorted(glob.glob('*.cha')):\n",
    "    with open(file,'r', encoding='utf-8') as f:  # read the file and close it when the block is finished\n",
    "        text = f.read()  # read in the contents of the file ...\n",
    "        file_contents.append(text)  # ... and append it to a list"
   ]
  },
  {
   "cell_type": "markdown",
   "metadata": {
    "slideshow": {
     "slide_type": "subslide"
    }
   },
   "source": [
    "### The extremely short version\n",
    "(but remember the thing about readable code)"
   ]
  },
  {
   "cell_type": "code",
   "execution_count": 3,
   "metadata": {},
   "outputs": [],
   "source": [
    "import glob\n",
    "\n",
    "file_contents = [\n",
    "    open(file).read()\n",
    "    for file in sorted(\n",
    "        glob.glob('/home/kasper/python-projects/CLA_2019/CLA_2018/Data/Brown/Adam/*.cha')\n",
    "    )\n",
    "]"
   ]
  },
  {
   "cell_type": "markdown",
   "metadata": {
    "slideshow": {
     "slide_type": "slide"
    }
   },
   "source": [
    "# Step 2: cleaning the data and storing it in a nice way\n",
    "\n",
    "At this point, we have a list of raw contents of files.\n",
    "\n",
    "We want to clean it from superfluous things.\n",
    "\n",
    "And we want to store it in a nice way.\n",
    "\n",
    "Let's have a look at a transcript file."
   ]
  },
  {
   "cell_type": "code",
   "execution_count": 4,
   "metadata": {
    "slideshow": {
     "slide_type": "subslide"
    }
   },
   "outputs": [
    {
     "data": {
      "text/plain": [
       "[('CHI', 'play checkers'),\n",
       " ('CHI', 'big drum'),\n",
       " ('MOT', 'big drum'),\n",
       " ('CHI', 'big drum'),\n",
       " ('CHI', 'big drum'),\n",
       " ('CHI', 'big drum'),\n",
       " ('CHI', 'horse'),\n",
       " ('MOT', 'horse'),\n",
       " ('CHI', 'who that'),\n",
       " ('MOT', 'who is that'),\n",
       " ('MOT', 'those are checkers'),\n",
       " ('CHI', 'two check'),\n",
       " ('MOT', 'two checkers yes'),\n",
       " ('CHI', 'rig horn'),\n",
       " ('CHI', 'play checkers'),\n",
       " ('MOT', 'play checkers'),\n",
       " ('CHI', 'yep'),\n",
       " ('CHI', 'big horn'),\n",
       " ('MOT', 'big horn'),\n",
       " ('CHI', 'alright look tv')]"
      ]
     },
     "execution_count": 4,
     "metadata": {},
     "output_type": "execute_result"
    }
   ],
   "source": [
    "from string import punctuation\n",
    "\n",
    "transcripts = []  # make empty list to store the cleaned transcripts in\n",
    "\n",
    "for raw_content in file_contents:  # loop over the raw contents loaded in from before\n",
    "    \n",
    "    lines = raw_content.split('\\n')  # split the content into lines ('\\n' = newline character)\n",
    "    utterance_lines = []  # prepare a list for cleaned utterance lines\n",
    "    \n",
    "    for line in lines:  # run over each line one by one to clean\n",
    "        if line.startswith('*'):  # but only if it's an actual utterance line (and not metadata or grammar line)\n",
    "            \n",
    "            # see the contents of a transcript file to why these parts of the line are taken\n",
    "            speaker = line[1:4]  \n",
    "            utterance = line.split('\\t')[1]  # ()'\\t' = tab character)\n",
    "            \n",
    "            # since the utterance lines also contains punctuation, we will clean it\n",
    "            cleaned_utterance = ''  # prepare empty string for the cleaned utterance\n",
    "            for char in utterance:  # loop over each character in the utterance string\n",
    "                if char not in punctuation:  # test if it's punctuation\n",
    "                    cleaned_utterance += char  # if not, add it to the cleaned line\n",
    "            cleaned_utterance = ' '.join(cleaned_utterance.split())  # removes superfluous spaces\n",
    "            \n",
    "            # we will store each line as a tuple where [0] is the speaker and [1] the actual utterance\n",
    "            utterance_line = (speaker, cleaned_utterance)\n",
    "            utterance_lines.append(utterance_line)  # finally, add it to the list of utterance lines\n",
    "    \n",
    "    # when all lines have been cleaned and stored, add the full transcript\n",
    "    transcripts.append(utterance_lines)\n",
    "    \n",
    "transcripts[0][:20]  # let's see how the first transcript looks at this moment (just the first 20 lines)"
   ]
  },
  {
   "cell_type": "markdown",
   "metadata": {
    "slideshow": {
     "slide_type": "subslide"
    }
   },
   "source": [
    "Pay attention to the nested data structure here:\n",
    "\n",
    "We have a list of transcripts.\n",
    "\n",
    "Each transcript is a list of tuples.\n",
    "\n",
    "Each of these tuples contain two strings: the speaker and the utterance, respectively.\n",
    "\n",
    "```\n",
    "[\n",
    "    [(spkr, uttr), (spkr, uttr), (spkr, uttr), ...],\n",
    "    [(spkr, uttr), (spkr, uttr), (spkr, uttr), ...],\n",
    "    [(spkr, uttr), (spkr, uttr), (spkr, uttr), ...],\n",
    "    ...\n",
    "]\n",
    "```"
   ]
  },
  {
   "cell_type": "markdown",
   "metadata": {},
   "source": [
    "# Step 3: make some calculations for each transcript\n",
    "\n",
    "This could be anything, of course, and also much more complex data processing.\n",
    "\n",
    "Until now, we have seen at least TTR and MLU (with word count instead of morpheme count). So, let's get those metrics for each transcript!"
   ]
  },
  {
   "cell_type": "code",
   "execution_count": 5,
   "metadata": {},
   "outputs": [],
   "source": [
    "mlus = []  # prepare a list to store MLU measures in\n",
    "ttrs = []  # the same for TTR\n",
    "\n",
    "for transcript in transcripts:  # loop over the transcripts one by one\n",
    "    child_utterances = []  # prepare a list for only the child's utterances\n",
    "    for line in transcript:\n",
    "        if line[0] == 'CHI':\n",
    "            child_utterances.append(line[1])\n",
    "    \n",
    "    tokens = []  # prepare a list for tokens\n",
    "    for utterance in child_utterances:  # lopp over each utterance\n",
    "        tokens += utterance.split()  # split it into tokens and add it to the token list\n",
    "    \n",
    "    ## calculate MLU: number of words / number of utterances\n",
    "    mlu = len(tokens) / len(child_utterances)\n",
    "    mlus.append(mlu)  # add it the appropriate list\n",
    "    \n",
    "    ## calculate TTR: number of types / number of tokens\n",
    "    types = set(tokens)\n",
    "    ttr = len(types) / len(tokens)\n",
    "    ttrs.append(ttr)  # add it the appropriate list"
   ]
  },
  {
   "cell_type": "markdown",
   "metadata": {},
   "source": [
    "# Step 4: report the results\n",
    "\n",
    "There are practically infinite possibilities of presenting results. Part of conducting science is figuring this out: should I show a boxplot? Can I make a linear model?\n",
    "\n"
   ]
  },
  {
   "cell_type": "code",
   "execution_count": 6,
   "metadata": {},
   "outputs": [],
   "source": [
    "import pandas as pd  # introduces utilities to work with DataFrames (kinda like spreadsheets)\n",
    "\n",
    "# create a DataFrame with the lists that we have created\n",
    "# we have not yet learned why it looks like this when we make DataFrames; we'll get back to that\n",
    "df = pd.DataFrame({\n",
    "        'file': filenames,\n",
    "        'no.': list(range(len(transcripts))),\n",
    "        'mlu': mlus,\n",
    "        'ttr': ttrs\n",
    "    })"
   ]
  },
  {
   "cell_type": "code",
   "execution_count": 7,
   "metadata": {},
   "outputs": [
    {
     "data": {
      "text/html": [
       "<div>\n",
       "<style scoped>\n",
       "    .dataframe tbody tr th:only-of-type {\n",
       "        vertical-align: middle;\n",
       "    }\n",
       "\n",
       "    .dataframe tbody tr th {\n",
       "        vertical-align: top;\n",
       "    }\n",
       "\n",
       "    .dataframe thead th {\n",
       "        text-align: right;\n",
       "    }\n",
       "</style>\n",
       "<table border=\"1\" class=\"dataframe\">\n",
       "  <thead>\n",
       "    <tr style=\"text-align: right;\">\n",
       "      <th></th>\n",
       "      <th>file</th>\n",
       "      <th>no.</th>\n",
       "      <th>mlu</th>\n",
       "      <th>ttr</th>\n",
       "    </tr>\n",
       "  </thead>\n",
       "  <tbody>\n",
       "    <tr>\n",
       "      <td>0</td>\n",
       "      <td>adam01.cha</td>\n",
       "      <td>0</td>\n",
       "      <td>2.227129</td>\n",
       "      <td>0.131020</td>\n",
       "    </tr>\n",
       "    <tr>\n",
       "      <td>1</td>\n",
       "      <td>adam02.cha</td>\n",
       "      <td>1</td>\n",
       "      <td>2.267134</td>\n",
       "      <td>0.126074</td>\n",
       "    </tr>\n",
       "    <tr>\n",
       "      <td>2</td>\n",
       "      <td>adam03.cha</td>\n",
       "      <td>2</td>\n",
       "      <td>2.470998</td>\n",
       "      <td>0.147418</td>\n",
       "    </tr>\n",
       "    <tr>\n",
       "      <td>3</td>\n",
       "      <td>adam04.cha</td>\n",
       "      <td>3</td>\n",
       "      <td>2.003831</td>\n",
       "      <td>0.193754</td>\n",
       "    </tr>\n",
       "    <tr>\n",
       "      <td>4</td>\n",
       "      <td>adam05.cha</td>\n",
       "      <td>4</td>\n",
       "      <td>2.377907</td>\n",
       "      <td>0.181418</td>\n",
       "    </tr>\n",
       "    <tr>\n",
       "      <td>5</td>\n",
       "      <td>adam06.cha</td>\n",
       "      <td>5</td>\n",
       "      <td>2.374850</td>\n",
       "      <td>0.152295</td>\n",
       "    </tr>\n",
       "    <tr>\n",
       "      <td>6</td>\n",
       "      <td>adam07.cha</td>\n",
       "      <td>6</td>\n",
       "      <td>2.747995</td>\n",
       "      <td>0.166319</td>\n",
       "    </tr>\n",
       "    <tr>\n",
       "      <td>7</td>\n",
       "      <td>adam08.cha</td>\n",
       "      <td>7</td>\n",
       "      <td>3.154887</td>\n",
       "      <td>0.156816</td>\n",
       "    </tr>\n",
       "    <tr>\n",
       "      <td>8</td>\n",
       "      <td>adam09.cha</td>\n",
       "      <td>8</td>\n",
       "      <td>2.711364</td>\n",
       "      <td>0.173093</td>\n",
       "    </tr>\n",
       "    <tr>\n",
       "      <td>9</td>\n",
       "      <td>adam10.cha</td>\n",
       "      <td>9</td>\n",
       "      <td>2.731481</td>\n",
       "      <td>0.154802</td>\n",
       "    </tr>\n",
       "    <tr>\n",
       "      <td>10</td>\n",
       "      <td>adam11.cha</td>\n",
       "      <td>10</td>\n",
       "      <td>2.823266</td>\n",
       "      <td>0.154517</td>\n",
       "    </tr>\n",
       "    <tr>\n",
       "      <td>11</td>\n",
       "      <td>adam12.cha</td>\n",
       "      <td>11</td>\n",
       "      <td>2.594702</td>\n",
       "      <td>0.191935</td>\n",
       "    </tr>\n",
       "    <tr>\n",
       "      <td>12</td>\n",
       "      <td>adam13.cha</td>\n",
       "      <td>12</td>\n",
       "      <td>2.545788</td>\n",
       "      <td>0.228058</td>\n",
       "    </tr>\n",
       "    <tr>\n",
       "      <td>13</td>\n",
       "      <td>adam14.cha</td>\n",
       "      <td>13</td>\n",
       "      <td>2.571186</td>\n",
       "      <td>0.210943</td>\n",
       "    </tr>\n",
       "    <tr>\n",
       "      <td>14</td>\n",
       "      <td>adam15.cha</td>\n",
       "      <td>14</td>\n",
       "      <td>2.775484</td>\n",
       "      <td>0.165969</td>\n",
       "    </tr>\n",
       "    <tr>\n",
       "      <td>15</td>\n",
       "      <td>adam16.cha</td>\n",
       "      <td>15</td>\n",
       "      <td>2.662121</td>\n",
       "      <td>0.188389</td>\n",
       "    </tr>\n",
       "    <tr>\n",
       "      <td>16</td>\n",
       "      <td>adam17.cha</td>\n",
       "      <td>16</td>\n",
       "      <td>3.161440</td>\n",
       "      <td>0.170096</td>\n",
       "    </tr>\n",
       "    <tr>\n",
       "      <td>17</td>\n",
       "      <td>adam18.cha</td>\n",
       "      <td>17</td>\n",
       "      <td>2.677222</td>\n",
       "      <td>0.167112</td>\n",
       "    </tr>\n",
       "    <tr>\n",
       "      <td>18</td>\n",
       "      <td>adam19.cha</td>\n",
       "      <td>18</td>\n",
       "      <td>3.568834</td>\n",
       "      <td>0.127511</td>\n",
       "    </tr>\n",
       "    <tr>\n",
       "      <td>19</td>\n",
       "      <td>adam20.cha</td>\n",
       "      <td>19</td>\n",
       "      <td>3.487759</td>\n",
       "      <td>0.138499</td>\n",
       "    </tr>\n",
       "  </tbody>\n",
       "</table>\n",
       "</div>"
      ],
      "text/plain": [
       "          file  no.       mlu       ttr\n",
       "0   adam01.cha    0  2.227129  0.131020\n",
       "1   adam02.cha    1  2.267134  0.126074\n",
       "2   adam03.cha    2  2.470998  0.147418\n",
       "3   adam04.cha    3  2.003831  0.193754\n",
       "4   adam05.cha    4  2.377907  0.181418\n",
       "5   adam06.cha    5  2.374850  0.152295\n",
       "6   adam07.cha    6  2.747995  0.166319\n",
       "7   adam08.cha    7  3.154887  0.156816\n",
       "8   adam09.cha    8  2.711364  0.173093\n",
       "9   adam10.cha    9  2.731481  0.154802\n",
       "10  adam11.cha   10  2.823266  0.154517\n",
       "11  adam12.cha   11  2.594702  0.191935\n",
       "12  adam13.cha   12  2.545788  0.228058\n",
       "13  adam14.cha   13  2.571186  0.210943\n",
       "14  adam15.cha   14  2.775484  0.165969\n",
       "15  adam16.cha   15  2.662121  0.188389\n",
       "16  adam17.cha   16  3.161440  0.170096\n",
       "17  adam18.cha   17  2.677222  0.167112\n",
       "18  adam19.cha   18  3.568834  0.127511\n",
       "19  adam20.cha   19  3.487759  0.138499"
      ]
     },
     "execution_count": 7,
     "metadata": {},
     "output_type": "execute_result"
    }
   ],
   "source": [
    "# if you print the \"head\" of the dataframe\n",
    "# you'll see why I compare it to a spreadsheet\n",
    "df.head(20)"
   ]
  },
  {
   "cell_type": "code",
   "execution_count": 8,
   "metadata": {},
   "outputs": [
    {
     "data": {
      "text/plain": [
       "<matplotlib.axes._subplots.AxesSubplot at 0x7f4d868efa90>"
      ]
     },
     "execution_count": 8,
     "metadata": {},
     "output_type": "execute_result"
    }
   ],
   "source": [
    "import seaborn as sns  # introduces lots of utilities for plotting\n",
    "\n",
    "\n",
    "sns.lineplot(x='no.', y='mlu', data=df)"
   ]
  },
  {
   "cell_type": "code",
   "execution_count": 9,
   "metadata": {},
   "outputs": [
    {
     "data": {
      "text/plain": [
       "<matplotlib.axes._subplots.AxesSubplot at 0x7f4d8483cba8>"
      ]
     },
     "execution_count": 9,
     "metadata": {},
     "output_type": "execute_result"
    },
    {
     "data": {
      "image/png": "[encoded data removed]",
      "text/plain": [
       "<Figure size 432x288 with 1 Axes>"
      ]
     },
     "metadata": {},
     "output_type": "display_data"
    }
   ],
   "source": [
    "sns.lineplot(x='no.', y='ttr', data=df)"
   ]
  },
  {
   "cell_type": "code",
   "execution_count": 10,
   "metadata": {},
   "outputs": [
    {
     "data": {
      "text/plain": [
       "<seaborn.axisgrid.FacetGrid at 0x7f4d84795f60>"
      ]
     },
     "execution_count": 10,
     "metadata": {},
     "output_type": "execute_result"
    },
    {
     "data": {
      "image/png": "[encoded data removed]",
      "text/plain": [
       "<Figure size 360x360 with 1 Axes>"
      ]
     },
     "metadata": {},
     "output_type": "display_data"
    }
   ],
   "source": [
    "# try out some other plots from seaborn (HINT: write \"sns.\" and hit the tab key)\n",
    "# what can you make from some of the data?\n",
    "# what other measures could be interesting?\n",
    "# try to change the folder to point to Sarah or Eve instead and compare the plots\n",
    "\n",
    "sns.lmplot(x='no.', y='mlu', data=df)"
   ]
  },
  {
   "cell_type": "markdown",
   "metadata": {},
   "source": [
    "## References\n",
    "\n",
    "Brown, R. (1973). _A first language: The early stages_. Cambridge, MA: Harvard University Press."
   ]
  },
  {
   "cell_type": "code",
   "execution_count": null,
   "metadata": {},
   "outputs": [],
   "source": []
  }
 ],
 "metadata": {
  "celltoolbar": "Slideshow",
  "kernelspec": {
   "display_name": "Python 3",
   "language": "python",
   "name": "python3"
  },
  "language_info": {
   "codemirror_mode": {
    "name": "ipython",
    "version": 3
   },
   "file_extension": ".py",
   "mimetype": "text/x-python",
   "name": "python",
   "nbconvert_exporter": "python",
   "pygments_lexer": "ipython3",
   "version": "3.6.8"
  }
 },
 "nbformat": 4,
 "nbformat_minor": 2
}
