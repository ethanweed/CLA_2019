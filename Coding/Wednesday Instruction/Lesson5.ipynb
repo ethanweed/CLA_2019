{
 "cells": [
  {
   "cell_type": "markdown",
   "metadata": {
    "slideshow": {
     "slide_type": "slide"
    }
   },
   "source": [
    "# Lesson 5: Putting it all together"
   ]
  },
  {
   "cell_type": "markdown",
   "metadata": {
    "slideshow": {
     "slide_type": "slide"
    }
   },
   "source": [
    "# Goals for this lesson\n",
    "\n",
    "Picking up the pieces of all that we have learned in the past weeks.\n",
    "\n",
    "Putting our new knowledge together to make a program which uses (almost) all of it.\n",
    "\n",
    "NOTE: The last 5-10 minutes will be spent on a midway evaluation. So, please, think about a few points on what is working well and what can be improved."
   ]
  },
  {
   "cell_type": "markdown",
   "metadata": {
    "slideshow": {
     "slide_type": "slide"
    }
   },
   "source": [
    "# The topics we have covered so far\n",
    "\n",
    "Variables\n",
    "\n",
    "_for_-loops\n",
    "\n",
    "Numbers and arithmetic\n",
    "\n",
    "_if_-statements\n",
    "\n",
    "Strings\n",
    "\n",
    "Lists"
   ]
  },
  {
   "cell_type": "markdown",
   "metadata": {
    "slideshow": {
     "slide_type": "subslide"
    }
   },
   "source": [
    "### Let's try to use it all in a program which ...\n",
    "\n",
    "1. reads in a folder of transcript files (we'll be putting a bit more weight on this today)\n",
    "1. cleans these transcript files and stores all utterances in a nice, structured way\n",
    "1. makes a few calculations for each transcript\n",
    "1. reports and/or plots the results\n",
    "\n",
    "Hopefully, most questions that I received from you will be answered to some degree through this."
   ]
  },
  {
   "cell_type": "markdown",
   "metadata": {
    "slideshow": {
     "slide_type": "subslide"
    }
   },
   "source": [
    "We will do this on the transcripts with Adam from Brown (1973). The data can be download [here](https://childes.talkbank.org/access/Eng-NA/Brown.html) (only 4.5 MB).\n",
    "\n",
    "The following code blocks will be extensively commented - maybe too much. This is to provide answers to any questions that I figured could arise."
   ]
  },
  {
   "cell_type": "markdown",
   "metadata": {
    "slideshow": {
     "slide_type": "slide"
    }
   },
   "source": [
    "# Step 1: reading in the files\n",
    "\n",
    "Heinold (2012, ch. 12) provides details on file reading. Ethan has also shown other nifty things when reading in files.\n",
    "\n",
    "The main steps of reading in a file is:\n",
    "1. pointing to the file with a valid filepath\n",
    "1. opening the file with `open()`\n",
    "1. reading in the contents of the file, e.g. with `.read()`\n",
    "\n",
    "First, we'll make the long version with all steps spelled out. Then, we'll make the short version resembling Ethan's format.\n",
    "\n",
    "Since we want to work with more than one file, we point to the folder containing the files. Then, we use the glob() function from the glob module to show point to all files in that folder."
   ]
  },
  {
   "cell_type": "markdown",
   "metadata": {
    "slideshow": {
     "slide_type": "subslide"
    }
   },
   "source": [
    "### The long version"
   ]
  },
  {
   "cell_type": "code",
   "execution_count": 43,
   "metadata": {
    "slideshow": {
     "slide_type": "fragment"
    }
   },
   "outputs": [],
   "source": [
    "import os  # introduces functionality to control things related to the operating system\n",
    "import glob  # the functionality of this module is mainly in this one function, hence the same name\n",
    "\n",
    "# point to the folder containing the transcript files\n",
    "data_folder = \"/home/kasper/python-projects/CLA_2019/CLA_2018/Data/Brown/Sarah\"\n",
    "\n",
    "# change working directory (=the folder in which the program currently stands)\n",
    "os.chdir(data_folder)\n",
    "\n",
    "# make a list of filenames using glob()\n",
    "filenames = glob.glob('*.cha')  # the transcript files are saved with the .cha file extension (used in e.g. CLAN)\n",
    "filenames.sort()  # it's nice to have them in order\n",
    "\n",
    "file_contents = []  # make empty list to store raw file contents\n",
    "for filename in filenames:  # loop over the list of file names one by one\n",
    "    file = open(filename, encoding='utf-8')  # this actually loads the file and allows Python to read the contents\n",
    "    raw_content = file.read()  # this reads in ALL content from the file to ONE string\n",
    "    file_contents.append(raw_content)  # add the raw content to the list so that we can use it later\n",
    "    file.close()  # close the file since we don't need it anymore; see the short version for a prettier way"
   ]
  },
  {
   "cell_type": "markdown",
   "metadata": {
    "slideshow": {
     "slide_type": "subslide"
    }
   },
   "source": [
    "### The short version"
   ]
  },
  {
   "cell_type": "code",
   "execution_count": 4,
   "metadata": {
    "slideshow": {
     "slide_type": "fragment"
    }
   },
   "outputs": [],
   "source": [
    "from os import chdir as cd\n",
    "import glob\n",
    "\n",
    "pathin = '/home/kasper/python-projects/CLA_2019/CLA_2018/Data/Brown/Adam'  # the path pointing to our data folder\n",
    "cd(pathin)  # change working directory to the data folder\n",
    "\n",
    "file_contents = []  # make empty list to store raw file contents\n",
    "\n",
    "# loop over all files in the folder with the .cha extension\n",
    "# note that sorted() is needed here; otherwise, the files will be in a random order\n",
    "for file in sorted(glob.glob('*.cha')):\n",
    "    with open(file,'r', encoding='utf-8') as f:  # read the file and close it when the block is finished\n",
    "        text = f.read()  # read in the contents of the file ...\n",
    "        file_contents.append(text)  # ... and append it to a list"
   ]
  },
  {
   "cell_type": "markdown",
   "metadata": {
    "slideshow": {
     "slide_type": "subslide"
    }
   },
   "source": [
    "### The extremely short version\n",
    "(but remember the thing about readable code)"
   ]
  },
  {
   "cell_type": "code",
   "execution_count": 24,
   "metadata": {},
   "outputs": [],
   "source": [
    "import glob\n",
    "\n",
    "file_contents = [\n",
    "    open(file).read()\n",
    "    for file in sorted(\n",
    "        glob.glob('/home/kasper/python-projects/CLA_2019/CLA_2018/Data/Brown/Adam/*.cha')\n",
    "    )\n",
    "]"
   ]
  },
  {
   "cell_type": "markdown",
   "metadata": {
    "slideshow": {
     "slide_type": "slide"
    }
   },
   "source": [
    "# Step 2: cleaning the data and storing it in a nice way\n",
    "\n",
    "At this point, we have a list of raw contents of files.\n",
    "\n",
    "We want to clean it from superfluous things.\n",
    "\n",
    "And we want to store it in a nice way.\n",
    "\n",
    "Let's have a look at a transcript file."
   ]
  },
  {
   "cell_type": "code",
   "execution_count": 44,
   "metadata": {
    "slideshow": {
     "slide_type": "subslide"
    }
   },
   "outputs": [
    {
     "data": {
      "text/plain": [
       "[('GLO', 'now the next thing if you can just ask a play a game'),\n",
       " ('GLO', 'dont dont use the words yourself just ask her'),\n",
       " ('MOT', 'come here'),\n",
       " ('CHI', 'xxx'),\n",
       " ('GLO', 'alright'),\n",
       " ('CHI', 'xxx'),\n",
       " ('GLO', 'yeah'),\n",
       " ('GLO', 'whats this'),\n",
       " ('CHI', 'a nose'),\n",
       " ('GLO', 'your nose'),\n",
       " ('GLO', 'and whats that'),\n",
       " ('CHI', 'a eye'),\n",
       " ('MOT', '0'),\n",
       " ('CHI', 'hair'),\n",
       " ('MOT', 'hair'),\n",
       " ('MOT', 'wheres your teeth'),\n",
       " ('MOT', 'oh whats this'),\n",
       " ('MOT', 'whats this in here'),\n",
       " ('MOT', 'whats this in here'),\n",
       " ('MOT', 'whats that')]"
      ]
     },
     "execution_count": 44,
     "metadata": {},
     "output_type": "execute_result"
    }
   ],
   "source": [
    "from string import punctuation\n",
    "\n",
    "transcripts = []  # make empty list to store the cleaned transcripts in\n",
    "\n",
    "for raw_content in file_contents:  # loop over the raw contents loaded in from before\n",
    "    \n",
    "    lines = raw_content.split('\\n')  # split the content into lines ('\\n' = newline character)\n",
    "    utterance_lines = []  # prepare a list for cleaned utterance lines\n",
    "    \n",
    "    for line in lines:  # run over each line one by one to clean\n",
    "        if line.startswith('*'):  # but only if it's an actual utterance line (and not metadata or grammar line)\n",
    "            \n",
    "            # see the contents of a transcript file to why these parts of the line are taken\n",
    "            speaker = line[1:4]  \n",
    "            utterance = line.split('\\t')[1]  # ()'\\t' = tab character)\n",
    "            \n",
    "            # since the utterance lines also contains punctuation, we will clean it\n",
    "            cleaned_utterance = ''  # prepare empty string for the cleaned utterance\n",
    "            for char in utterance:  # loop over each character in the utterance string\n",
    "                if char not in punctuation:  # test if it's punctuation\n",
    "                    cleaned_utterance += char  # if not, add it to the cleaned line\n",
    "            cleaned_utterance = ' '.join(cleaned_utterance.split())  # removes superfluous spaces\n",
    "            \n",
    "            # we will store each line as a tuple where [0] is the speaker and [1] the actual utterance\n",
    "            utterance_line = (speaker, cleaned_utterance)\n",
    "            utterance_lines.append(utterance_line)  # finally, add it to the list of utterance lines\n",
    "    \n",
    "    # when all lines have been cleaned and stored, add the full transcript\n",
    "    transcripts.append(utterance_lines)\n",
    "    \n",
    "transcripts[0][:20]  # let's see how the first transcript looks at this moment (just the first 20 lines)"
   ]
  },
  {
   "cell_type": "markdown",
   "metadata": {
    "slideshow": {
     "slide_type": "subslide"
    }
   },
   "source": [
    "Pay attention to the nested data structure here:\n",
    "\n",
    "We have a list of transcripts.\n",
    "\n",
    "Each transcript is a list of tuples.\n",
    "\n",
    "Each of these tuples contain two strings: the speaker and the utterance, respectively.\n",
    "\n",
    "```\n",
    "[\n",
    "    [(spkr, uttr), (spkr, uttr), (spkr, uttr), ...],\n",
    "    [(spkr, uttr), (spkr, uttr), (spkr, uttr), ...],\n",
    "    [(spkr, uttr), (spkr, uttr), (spkr, uttr), ...],\n",
    "    ...\n",
    "]\n",
    "```"
   ]
  },
  {
   "cell_type": "markdown",
   "metadata": {},
   "source": [
    "# Step 3: make some calculations for each transcript\n",
    "\n",
    "This could be anything, of course, and also much more complex data processing.\n",
    "\n",
    "Until now, we have seen at least TTR and MLU (with word count instead of morpheme count). So, let's get those metrics for each transcript!"
   ]
  },
  {
   "cell_type": "code",
   "execution_count": 45,
   "metadata": {},
   "outputs": [],
   "source": [
    "mlus = []  # prepare a list to store MLU measures in\n",
    "ttrs = []  # the same for TTR\n",
    "\n",
    "for transcript in transcripts:  # loop over the transcripts one by one\n",
    "    child_utterances = []  # prepare a list for only the child's utterances\n",
    "    for line in transcript:\n",
    "        if line[0] == 'CHI':\n",
    "            child_utterances.append(line[1])\n",
    "    \n",
    "    tokens = []  # prepare a list for tokens\n",
    "    for utterance in child_utterances:  # lopp over each utterance\n",
    "        tokens += utterance.split()  # split it into tokens and add it to the token list\n",
    "    \n",
    "    ## calculate MLU: number of words / number of utterances\n",
    "    mlu = len(tokens) / len(child_utterances)\n",
    "    mlus.append(mlu)  # add it the appropriate list\n",
    "    \n",
    "    ## calculate TTR: number of types / number of tokens\n",
    "    types = set(tokens)\n",
    "    ttr = len(types) / len(tokens)\n",
    "    ttrs.append(ttr)  # add it the appropriate list"
   ]
  },
  {
   "cell_type": "markdown",
   "metadata": {},
   "source": [
    "# Step 4: report the results\n",
    "\n",
    "There are practically infinite possibilities of presenting results. Part of conducting science is figuring this out: should I show a boxplot? Can I make a linear model?\n",
    "\n"
   ]
  },
  {
   "cell_type": "code",
   "execution_count": 54,
   "metadata": {},
   "outputs": [],
   "source": [
    "import pandas as pd  # introduces utilities to work with DataFrames (kinda like spreadsheets)\n",
    "\n",
    "# create a DataFrame with the lists that we have created\n",
    "# we have not yet learned why it looks like this when we make DataFrames; we'll get back to that\n",
    "df = pd.DataFrame({\n",
    "        'file': filenames,\n",
    "        'no.': list(range(len(transcripts))),\n",
    "        'mlu': mlus,\n",
    "        'ttr': ttrs\n",
    "    })"
   ]
  },
  {
   "cell_type": "code",
   "execution_count": 65,
   "metadata": {},
   "outputs": [
    {
     "data": {
      "text/html": [
       "<div>\n",
       "<style scoped>\n",
       "    .dataframe tbody tr th:only-of-type {\n",
       "        vertical-align: middle;\n",
       "    }\n",
       "\n",
       "    .dataframe tbody tr th {\n",
       "        vertical-align: top;\n",
       "    }\n",
       "\n",
       "    .dataframe thead th {\n",
       "        text-align: right;\n",
       "    }\n",
       "</style>\n",
       "<table border=\"1\" class=\"dataframe\">\n",
       "  <thead>\n",
       "    <tr style=\"text-align: right;\">\n",
       "      <th></th>\n",
       "      <th>file</th>\n",
       "      <th>no.</th>\n",
       "      <th>mlu</th>\n",
       "      <th>ttr</th>\n",
       "    </tr>\n",
       "  </thead>\n",
       "  <tbody>\n",
       "    <tr>\n",
       "      <td>0</td>\n",
       "      <td>sarah001.cha</td>\n",
       "      <td>0</td>\n",
       "      <td>1.896000</td>\n",
       "      <td>0.320675</td>\n",
       "    </tr>\n",
       "    <tr>\n",
       "      <td>1</td>\n",
       "      <td>sarah002.cha</td>\n",
       "      <td>1</td>\n",
       "      <td>1.893417</td>\n",
       "      <td>0.208609</td>\n",
       "    </tr>\n",
       "    <tr>\n",
       "      <td>2</td>\n",
       "      <td>sarah003.cha</td>\n",
       "      <td>2</td>\n",
       "      <td>1.618705</td>\n",
       "      <td>0.237037</td>\n",
       "    </tr>\n",
       "    <tr>\n",
       "      <td>3</td>\n",
       "      <td>sarah004.cha</td>\n",
       "      <td>3</td>\n",
       "      <td>1.702703</td>\n",
       "      <td>0.309524</td>\n",
       "    </tr>\n",
       "    <tr>\n",
       "      <td>4</td>\n",
       "      <td>sarah005.cha</td>\n",
       "      <td>4</td>\n",
       "      <td>1.450704</td>\n",
       "      <td>0.271845</td>\n",
       "    </tr>\n",
       "    <tr>\n",
       "      <td>5</td>\n",
       "      <td>sarah006.cha</td>\n",
       "      <td>5</td>\n",
       "      <td>1.686131</td>\n",
       "      <td>0.248918</td>\n",
       "    </tr>\n",
       "    <tr>\n",
       "      <td>6</td>\n",
       "      <td>sarah007.cha</td>\n",
       "      <td>6</td>\n",
       "      <td>1.660494</td>\n",
       "      <td>0.245353</td>\n",
       "    </tr>\n",
       "    <tr>\n",
       "      <td>7</td>\n",
       "      <td>sarah008.cha</td>\n",
       "      <td>7</td>\n",
       "      <td>1.925258</td>\n",
       "      <td>0.165997</td>\n",
       "    </tr>\n",
       "    <tr>\n",
       "      <td>8</td>\n",
       "      <td>sarah009.cha</td>\n",
       "      <td>8</td>\n",
       "      <td>1.631783</td>\n",
       "      <td>0.275534</td>\n",
       "    </tr>\n",
       "    <tr>\n",
       "      <td>9</td>\n",
       "      <td>sarah010.cha</td>\n",
       "      <td>9</td>\n",
       "      <td>1.582609</td>\n",
       "      <td>0.206044</td>\n",
       "    </tr>\n",
       "    <tr>\n",
       "      <td>10</td>\n",
       "      <td>sarah011.cha</td>\n",
       "      <td>10</td>\n",
       "      <td>1.797059</td>\n",
       "      <td>0.217676</td>\n",
       "    </tr>\n",
       "    <tr>\n",
       "      <td>11</td>\n",
       "      <td>sarah012.cha</td>\n",
       "      <td>11</td>\n",
       "      <td>1.754902</td>\n",
       "      <td>0.255121</td>\n",
       "    </tr>\n",
       "    <tr>\n",
       "      <td>12</td>\n",
       "      <td>sarah013.cha</td>\n",
       "      <td>12</td>\n",
       "      <td>1.726073</td>\n",
       "      <td>0.260038</td>\n",
       "    </tr>\n",
       "    <tr>\n",
       "      <td>13</td>\n",
       "      <td>sarah014.cha</td>\n",
       "      <td>13</td>\n",
       "      <td>2.101064</td>\n",
       "      <td>0.220253</td>\n",
       "    </tr>\n",
       "    <tr>\n",
       "      <td>14</td>\n",
       "      <td>sarah015.cha</td>\n",
       "      <td>14</td>\n",
       "      <td>1.725434</td>\n",
       "      <td>0.197655</td>\n",
       "    </tr>\n",
       "    <tr>\n",
       "      <td>15</td>\n",
       "      <td>sarah016.cha</td>\n",
       "      <td>15</td>\n",
       "      <td>1.429293</td>\n",
       "      <td>0.342756</td>\n",
       "    </tr>\n",
       "    <tr>\n",
       "      <td>16</td>\n",
       "      <td>sarah017.cha</td>\n",
       "      <td>16</td>\n",
       "      <td>1.739224</td>\n",
       "      <td>0.271375</td>\n",
       "    </tr>\n",
       "    <tr>\n",
       "      <td>17</td>\n",
       "      <td>sarah018.cha</td>\n",
       "      <td>17</td>\n",
       "      <td>1.897751</td>\n",
       "      <td>0.233836</td>\n",
       "    </tr>\n",
       "    <tr>\n",
       "      <td>18</td>\n",
       "      <td>sarah019.cha</td>\n",
       "      <td>18</td>\n",
       "      <td>1.871287</td>\n",
       "      <td>0.359788</td>\n",
       "    </tr>\n",
       "    <tr>\n",
       "      <td>19</td>\n",
       "      <td>sarah020.cha</td>\n",
       "      <td>19</td>\n",
       "      <td>1.726950</td>\n",
       "      <td>0.301848</td>\n",
       "    </tr>\n",
       "  </tbody>\n",
       "</table>\n",
       "</div>"
      ],
      "text/plain": [
       "            file  no.       mlu       ttr\n",
       "0   sarah001.cha    0  1.896000  0.320675\n",
       "1   sarah002.cha    1  1.893417  0.208609\n",
       "2   sarah003.cha    2  1.618705  0.237037\n",
       "3   sarah004.cha    3  1.702703  0.309524\n",
       "4   sarah005.cha    4  1.450704  0.271845\n",
       "5   sarah006.cha    5  1.686131  0.248918\n",
       "6   sarah007.cha    6  1.660494  0.245353\n",
       "7   sarah008.cha    7  1.925258  0.165997\n",
       "8   sarah009.cha    8  1.631783  0.275534\n",
       "9   sarah010.cha    9  1.582609  0.206044\n",
       "10  sarah011.cha   10  1.797059  0.217676\n",
       "11  sarah012.cha   11  1.754902  0.255121\n",
       "12  sarah013.cha   12  1.726073  0.260038\n",
       "13  sarah014.cha   13  2.101064  0.220253\n",
       "14  sarah015.cha   14  1.725434  0.197655\n",
       "15  sarah016.cha   15  1.429293  0.342756\n",
       "16  sarah017.cha   16  1.739224  0.271375\n",
       "17  sarah018.cha   17  1.897751  0.233836\n",
       "18  sarah019.cha   18  1.871287  0.359788\n",
       "19  sarah020.cha   19  1.726950  0.301848"
      ]
     },
     "execution_count": 65,
     "metadata": {},
     "output_type": "execute_result"
    }
   ],
   "source": [
    "# if you print the \"head\" of the dataframe, you'll see why I compare it to a spreadsheet\n",
    "df.head(20)"
   ]
  },
  {
   "cell_type": "code",
   "execution_count": 69,
   "metadata": {},
   "outputs": [
    {
     "data": {
      "text/plain": [
       "<seaborn.axisgrid.FacetGrid at 0x7fb8b1643f60>"
      ]
     },
     "execution_count": 69,
     "metadata": {},
     "output_type": "execute_result"
    },
    {
     "data": {
      "image/png": "[encoded data removed]",
      "text/plain": [
       "<Figure size 360x360 with 1 Axes>"
      ]
     },
     "metadata": {},
     "output_type": "display_data"
    }
   ],
   "source": [
    "import seaborn as sns  # introduces lots of utilities for plotting\n",
    "\n",
    "\n",
    "sns.lmplot(x='no.', y='mlu', data=df)"
   ]
  },
  {
   "cell_type": "code",
   "execution_count": 59,
   "metadata": {},
   "outputs": [
    {
     "data": {
      "text/plain": [
       "<seaborn.axisgrid.FacetGrid at 0x7fb8b84aa8d0>"
      ]
     },
     "execution_count": 59,
     "metadata": {},
     "output_type": "execute_result"
    },
    {
     "data": {
      "image/png": "[encoded data removed]",
      "text/plain": [
       "<Figure size 360x360 with 1 Axes>"
      ]
     },
     "metadata": {},
     "output_type": "display_data"
    }
   ],
   "source": [
    "sns.lmplot(x='no.', y='ttr', data=df)"
   ]
  },
  {
   "cell_type": "code",
   "execution_count": 41,
   "metadata": {},
   "outputs": [
    {
     "data": {
      "text/plain": [
       "55"
      ]
     },
     "execution_count": 41,
     "metadata": {},
     "output_type": "execute_result"
    }
   ],
   "source": [
    "len(df)"
   ]
  },
  {
   "cell_type": "markdown",
   "metadata": {},
   "source": [
    "## References\n",
    "\n",
    "Brown, R. (1973). _A first language: The early stages_. Cambridge, MA: Harvard University Press."
   ]
  },
  {
   "cell_type": "code",
   "execution_count": null,
   "metadata": {},
   "outputs": [],
   "source": []
  }
 ],
 "metadata": {
  "celltoolbar": "Slideshow",
  "kernelspec": {
   "display_name": "Python 3",
   "language": "python",
   "name": "python3"
  },
  "language_info": {
   "codemirror_mode": {
    "name": "ipython",
    "version": 3
   },
   "file_extension": ".py",
   "mimetype": "text/x-python",
   "name": "python",
   "nbconvert_exporter": "python",
   "pygments_lexer": "ipython3",
   "version": "3.6.8"
  }
 },
 "nbformat": 4,
 "nbformat_minor": 2
}
