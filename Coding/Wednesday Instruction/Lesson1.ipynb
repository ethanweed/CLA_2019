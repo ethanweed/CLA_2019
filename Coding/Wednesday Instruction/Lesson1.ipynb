{
 "cells": [
  {
   "cell_type": "markdown",
   "metadata": {
    "slideshow": {
     "slide_type": "slide"
    }
   },
   "source": [
    "# Lesson 1: Introduction, variables and _for_-loops"
   ]
  },
  {
   "cell_type": "markdown",
   "metadata": {
    "slideshow": {
     "slide_type": "slide"
    }
   },
   "source": [
    "## About me\n",
    "Kasper Fyhn Jacobsen\n",
    "\n",
    "BA in Linguistics from AU\n",
    "\n",
    "Currently doing 3rd semester of MA as an intern at UNSILO (who works with NLP)\n",
    "\n",
    "Mostly self-taught in programming: Java, Python and R\n",
    "\n",
    "General interest in NLP and computer science\n",
    "\n",
    "Contact: 201308063@post.au.dk"
   ]
  },
  {
   "cell_type": "markdown",
   "metadata": {
    "slideshow": {
     "slide_type": "slide"
    }
   },
   "source": [
    "## Readings\n",
    "Heinold (2012): _A Practical Introduction to Python Programming_\n",
    "\n",
    "- Less focus on the computer science behind, more on the practical use\n",
    "- No linguistics, though\n",
    "\n",
    "Reading before or after class?\n",
    "\n",
    "The reading plan is subject to change depending on how well it goes"
   ]
  },
  {
   "cell_type": "markdown",
   "metadata": {
    "slideshow": {
     "slide_type": "slide"
    }
   },
   "source": [
    "## First things first\n",
    "Is everyone set up with Anaconda?\n",
    "\n",
    "I’m familiar with Windows, Mac and Linux, so just ask if you run into problems\n",
    "\n",
    "Jupyter Notebook\n",
    "\n",
    "Who has experience with coding? If so, which language(s) and what kind of projects?"
   ]
  },
  {
   "cell_type": "markdown",
   "metadata": {
    "slideshow": {
     "slide_type": "slide"
    }
   },
   "source": [
    "## The format\n",
    "When introducing concepts, I imagine introducting:\n",
    "- The general concept\n",
    "- How it works in Python\n",
    "- Style conventions\n",
    "- (Potential problems and how to handle them)"
   ]
  },
  {
   "cell_type": "markdown",
   "metadata": {
    "slideshow": {
     "slide_type": "slide"
    }
   },
   "source": [
    "## Coding style - why?\n",
    "\n",
    "Imagine that you are reading an article and come across something like this:\n",
    "\n",
    "> \"Several studies have suggested that aliens would most likely speak a language that we would not be able to produce [11, 13]. In experiments with Martians and Earthling toddlers, we saw that this was not the case (Blargon 2077, pp. 14-17), but the point may still be valid when we talk about aliens from other solar systems due to their different life forms (Johnson 2079: 43).\n",
    "\n",
    "Sure, it may work, but it would be much nicer for both the writer and the readers if it had followed a consistent style. The same goes for code!"
   ]
  },
  {
   "cell_type": "markdown",
   "metadata": {
    "slideshow": {
     "slide_type": "slide"
    }
   },
   "source": [
    "## Variables"
   ]
  },
  {
   "cell_type": "markdown",
   "metadata": {
    "slideshow": {
     "slide_type": "slide"
    }
   },
   "source": [
    "## The concept of a variable\n",
    "\n",
    "Recall from math that a variable is a \"placeholder\" for an actual value, e.g. in the Pythagorean theorem:\n",
    "\n",
    "\\begin{equation}\n",
    "a^2 + b^2 = c^2\n",
    "\\end{equation}\n",
    "\n",
    "With variables, we can make generalized rules and later fill in actual values for specific cases.\n",
    "\n",
    "\\begin{equation}\n",
    "a = 3, b = 4 \\\\\n",
    "c^2 = 3^2 + 4^2 = 25^2 \\\\\n",
    "c = \\sqrt{25} = 5\n",
    "\\end{equation}"
   ]
  },
  {
   "cell_type": "markdown",
   "metadata": {
    "slideshow": {
     "slide_type": "slide"
    }
   },
   "source": [
    "## How it works in Python\n",
    "\n",
    "A variable is declared by being given a name and a value.\n",
    "\n",
    "Python stores a variable and its value.\n",
    "\n",
    "We call variables by their names; Python keeps track of the values stored in variables."
   ]
  },
  {
   "cell_type": "code",
   "execution_count": 3,
   "metadata": {
    "slideshow": {
     "slide_type": "subslide"
    }
   },
   "outputs": [
    {
     "name": "stdout",
     "output_type": "stream",
     "text": [
      "a = 3 , b = 4\n"
     ]
    }
   ],
   "source": [
    "import math\n",
    "\n",
    "a = 3\n",
    "b = 4\n",
    "print('a =', a, ', b =', b)"
   ]
  },
  {
   "cell_type": "code",
   "execution_count": 4,
   "metadata": {
    "slideshow": {
     "slide_type": "subslide"
    }
   },
   "outputs": [
    {
     "name": "stdout",
     "output_type": "stream",
     "text": [
      "c² = 25 , c = 5.0\n"
     ]
    }
   ],
   "source": [
    "c_squared = a**2 + b**2\n",
    "c = math.sqrt(c_squared)\n",
    "print('c² =', c_squared, ', c =', c)"
   ]
  },
  {
   "cell_type": "markdown",
   "metadata": {
    "slideshow": {
     "slide_type": "slide"
    }
   },
   "source": [
    "## A metaphor\n",
    "\n",
    "It may be useful to think of a variable as a containing a value.\n",
    "\n",
    "Then, when we do something with those variables, we do something with the value(s) contained in the variable(s).\n",
    "\n",
    "That is, we can put the value `4` in the box labeled `a`. When we do something with `a`, we open the box and take out the value `4`."
   ]
  },
  {
   "cell_type": "markdown",
   "metadata": {
    "slideshow": {
     "slide_type": "subslide"
    }
   },
   "source": [
    "### The example from Heinold (2012: 8)\n",
    "\n",
    "What value do the variables contain at each line?"
   ]
  },
  {
   "cell_type": "code",
   "execution_count": 5,
   "metadata": {
    "slideshow": {
     "slide_type": "fragment"
    }
   },
   "outputs": [],
   "source": [
    "x = 3\n",
    "y = 4\n",
    "z = x + y\n",
    "z = z + 1\n",
    "x = y\n",
    "y = 5"
   ]
  },
  {
   "cell_type": "markdown",
   "metadata": {},
   "source": [
    "## The things we put in the variables: basic data types\n",
    "\n",
    "Numbers are written simply as numbers, e.g. `12` (integers) or `5.67` (floating point numbers).\n",
    "\n",
    "We can do arithmetic with numbers:\n",
    "\n",
    "- addition `3 + 4` -> 7\n",
    "- subtraction `5 - 2` -> 3\n",
    "- multiplication `3 * 5` -> 15\n",
    "- division `7 / 3` -> 2.333... \n",
    "- exponentiation `3**3` -> 27\n",
    "- integer division `7 // 3` -> 2 (the remainder of 1 is thrown away)\n",
    "- modulo `7 % 3` -> 1 (the remainder of integer division)\n",
    "\n",
    "Characters and strings of characters - _strings_ more generally - are written with single or double quotes around them, e.g. `'c'`, `'a string'`, `\"a long string with several characters\"` or `\"23\"`.\n",
    "\n",
    "We cannot do arithmetic with strings, but we can concatenate them:\n",
    "\n",
    "- `\"Monty\" + \" \" + \"Python\"` -> `\"Monty Python\"`\n",
    "\n",
    "We can also do tons of other things with strings, but more on this later!"
   ]
  },
  {
   "cell_type": "markdown",
   "metadata": {
    "slideshow": {
     "slide_type": "slide"
    }
   },
   "source": [
    "## Coding style\n",
    "\n",
    "Variable names can contain letters, numbers and the underscore, e.g.\n",
    "\n",
    "- `c_squared`\n",
    "- `var1` and `var2`\n",
    "- `a_pretty_long_name`\n",
    "\n",
    "Variable names cannot contain spaces or start with a number.\n",
    "\n",
    "The PEP-8 coding style guide says to stick to lowercase for regular variable names.\n",
    "\n",
    "For multiword variables, e.g. `a_pretty_long_name`, the words should be separated by underscores.\n",
    "\n",
    "`CamelCase` and `CAPITALS` are reserved for other things.\n",
    "\n",
    "Variable names can mean an important difference between transparent code and something incomprehensible. We can call variables for what they contain, what they are for or anything, e.g. `cleaned_transcripts` or `longest_utterance`."
   ]
  },
  {
   "cell_type": "markdown",
   "metadata": {
    "slideshow": {
     "slide_type": "slide"
    }
   },
   "source": [
    "## _for_-loops"
   ]
  },
  {
   "cell_type": "markdown",
   "metadata": {
    "slideshow": {
     "slide_type": "slide"
    }
   },
   "source": [
    "## The concept of _for_-loops\n",
    "\n",
    "Once we have repetitive tasks and/or things that we should do the same things to, computers are extremely helpful. \n",
    "\n",
    "Imagine that you want to get the number of speakers in each of your 1000 transcripts. You probably have manual work for several days. A computer does it in seconds.\n",
    "\n",
    "The _for_-loop is also called _for each_ in other programming languages. The core idea is to do the same task **for each object in a row of objects**.\n",
    "\n",
    "That is, you tell the computer: for each transcripts in this pile of transcripts, figure out the number of speakers and note it down.\n",
    "\n",
    "Or you can say, for each number from 1 to 100, give me some calculation with that number."
   ]
  },
  {
   "cell_type": "markdown",
   "metadata": {
    "slideshow": {
     "slide_type": "slide"
    }
   },
   "source": [
    "## How it works in Python\n",
    "\n",
    "There are two important elements in a _for_-loop:\n",
    "\n",
    "- The row/list/... that the computer **iterates** over.\n",
    "- The **loop variable** which changes to the next object in the list for each iteration.\n",
    "\n",
    "The **list** is central here. You will learn more about these in detail later, but let's have an early look at them now and what we can do with them.\n",
    "\n",
    "The block of code that should be repeated must be indented!"
   ]
  },
  {
   "cell_type": "code",
   "execution_count": 6,
   "metadata": {
    "slideshow": {
     "slide_type": "subslide"
    }
   },
   "outputs": [
    {
     "name": "stdout",
     "output_type": "stream",
     "text": [
      "[0, 1, 2, 3, 4, 5, 6, 7, 8, 9]\n"
     ]
    }
   ],
   "source": [
    "print(list(range(10)))"
   ]
  },
  {
   "cell_type": "code",
   "execution_count": 7,
   "metadata": {
    "slideshow": {
     "slide_type": "subslide"
    }
   },
   "outputs": [
    {
     "name": "stdout",
     "output_type": "stream",
     "text": [
      "[3, 7, 24, 56, 72]\n"
     ]
    }
   ],
   "source": [
    "list_of_integers = [3, 7, 24, 56, 72]\n",
    "print(list_of_integers)"
   ]
  },
  {
   "cell_type": "code",
   "execution_count": 8,
   "metadata": {
    "slideshow": {
     "slide_type": "subslide"
    }
   },
   "outputs": [
    {
     "name": "stdout",
     "output_type": "stream",
     "text": [
      "0\n",
      "1\n",
      "2\n",
      "3\n",
      "4\n",
      "5\n",
      "6\n",
      "7\n",
      "8\n",
      "9\n"
     ]
    }
   ],
   "source": [
    "for i in range(10):\n",
    "    print(i)"
   ]
  },
  {
   "cell_type": "code",
   "execution_count": 9,
   "metadata": {
    "slideshow": {
     "slide_type": "subslide"
    }
   },
   "outputs": [
    {
     "name": "stdout",
     "output_type": "stream",
     "text": [
      "3\n",
      "7\n",
      "24\n",
      "56\n",
      "72\n"
     ]
    }
   ],
   "source": [
    "for number in list_of_integers:\n",
    "    print(number)"
   ]
  },
  {
   "cell_type": "markdown",
   "metadata": {
    "slideshow": {
     "slide_type": "slide"
    }
   },
   "source": [
    "## More on the loop variable\n",
    "\n",
    "Generally, we want to do _something_ with the things in our lists. By iterating over the list, we can do it **one by one**.\n",
    "\n",
    "For each new iteration, the loob variable becomes the value next in line which we can then do something with."
   ]
  },
  {
   "cell_type": "code",
   "execution_count": 10,
   "metadata": {
    "slideshow": {
     "slide_type": "subslide"
    }
   },
   "outputs": [
    {
     "name": "stdout",
     "output_type": "stream",
     "text": [
      "i is now 3\n",
      "\n",
      "i to the power of 2 is 9\n",
      "\n",
      "i is now 5\n",
      "\n",
      "i to the power of 2 is 25\n",
      "\n",
      "i is now 7\n",
      "\n",
      "i to the power of 2 is 49\n",
      "\n",
      "i is now 9\n",
      "\n",
      "i to the power of 2 is 81\n",
      "\n",
      "i is now 11\n",
      "\n",
      "i to the power of 2 is 121\n",
      "\n",
      "i is now 13\n",
      "\n",
      "i to the power of 2 is 169\n",
      "\n",
      "i is now 15\n",
      "\n",
      "i to the power of 2 is 225\n",
      "\n",
      "i is now 17\n",
      "\n",
      "i to the power of 2 is 289\n",
      "\n",
      "i is now 19\n",
      "\n",
      "i to the power of 2 is 361\n",
      "\n",
      "i is now 21\n",
      "\n",
      "i to the power of 2 is 441\n",
      "\n"
     ]
    }
   ],
   "source": [
    "for i in range(3, 22, 2):\n",
    "    # the first number is where it should start\n",
    "    # the second is the number that it should stop before\n",
    "    # the third number is the value by which the loop variable should be incremented (increased)\n",
    "    print('i is now', i)\n",
    "    input()\n",
    "    i_squared = i**2\n",
    "    print('i to the power of 2 is', i_squared)\n",
    "    input()\n",
    "    "
   ]
  },
  {
   "cell_type": "markdown",
   "metadata": {
    "slideshow": {
     "slide_type": "slide"
    }
   },
   "source": [
    "## Nested loops (advanced)\n",
    "\n",
    "Loops can be nested. That is, we can have a loop within a loop.\n",
    "\n",
    "In such a case, the inner loop runs all the way through for each iteration in the outer loop."
   ]
  },
  {
   "cell_type": "code",
   "execution_count": 12,
   "metadata": {
    "slideshow": {
     "slide_type": "subslide"
    }
   },
   "outputs": [
    {
     "name": "stdout",
     "output_type": "stream",
     "text": [
      "a = 1 , b = 1\n",
      "c² = 2 , c = 1.4142135623730951\n",
      "\n",
      "a = 1 , b = 2\n",
      "c² = 5 , c = 2.23606797749979\n",
      "\n",
      "a = 1 , b = 3\n",
      "c² = 10 , c = 3.1622776601683795\n",
      "\n",
      "a = 1 , b = 4\n",
      "c² = 17 , c = 4.123105625617661\n",
      "\n",
      "a = 1 , b = 5\n",
      "c² = 26 , c = 5.0990195135927845\n",
      "\n",
      "a = 1 , b = 6\n",
      "c² = 37 , c = 6.082762530298219\n",
      "\n",
      "a = 1 , b = 7\n",
      "c² = 50 , c = 7.0710678118654755\n",
      "\n",
      "a = 1 , b = 8\n",
      "c² = 65 , c = 8.06225774829855\n",
      "\n",
      "a = 1 , b = 9\n",
      "c² = 82 , c = 9.055385138137417\n",
      "\n",
      "a = 1 , b = 10\n",
      "c² = 101 , c = 10.04987562112089\n",
      "\n",
      "a = 2 , b = 1\n",
      "c² = 5 , c = 2.23606797749979\n",
      "\n",
      "a = 2 , b = 2\n",
      "c² = 8 , c = 2.8284271247461903\n",
      "\n",
      "a = 2 , b = 3\n",
      "c² = 13 , c = 3.605551275463989\n",
      "\n",
      "a = 2 , b = 4\n",
      "c² = 20 , c = 4.47213595499958\n",
      "\n",
      "a = 2 , b = 5\n",
      "c² = 29 , c = 5.385164807134504\n",
      "\n",
      "a = 2 , b = 6\n",
      "c² = 40 , c = 6.324555320336759\n",
      "\n",
      "a = 2 , b = 7\n",
      "c² = 53 , c = 7.280109889280518\n",
      "\n",
      "a = 2 , b = 8\n",
      "c² = 68 , c = 8.246211251235321\n",
      "\n",
      "a = 2 , b = 9\n",
      "c² = 85 , c = 9.219544457292887\n",
      "\n",
      "a = 2 , b = 10\n",
      "c² = 104 , c = 10.198039027185569\n",
      "\n",
      "a = 3 , b = 1\n",
      "c² = 10 , c = 3.1622776601683795\n",
      "\n",
      "a = 3 , b = 2\n",
      "c² = 13 , c = 3.605551275463989\n",
      "\n",
      "a = 3 , b = 3\n",
      "c² = 18 , c = 4.242640687119285\n",
      "\n",
      "a = 3 , b = 4\n",
      "c² = 25 , c = 5.0\n",
      "\n",
      "a = 3 , b = 5\n",
      "c² = 34 , c = 5.830951894845301\n",
      "\n",
      "a = 3 , b = 6\n",
      "c² = 45 , c = 6.708203932499369\n",
      "\n",
      "a = 3 , b = 7\n",
      "c² = 58 , c = 7.615773105863909\n",
      "\n",
      "a = 3 , b = 8\n",
      "c² = 73 , c = 8.54400374531753\n",
      "\n",
      "a = 3 , b = 9\n",
      "c² = 90 , c = 9.486832980505138\n",
      "\n",
      "a = 3 , b = 10\n",
      "c² = 109 , c = 10.44030650891055\n",
      "\n",
      "a = 4 , b = 1\n",
      "c² = 17 , c = 4.123105625617661\n",
      "\n",
      "a = 4 , b = 2\n",
      "c² = 20 , c = 4.47213595499958\n",
      "\n",
      "a = 4 , b = 3\n",
      "c² = 25 , c = 5.0\n",
      "\n",
      "a = 4 , b = 4\n",
      "c² = 32 , c = 5.656854249492381\n",
      "\n",
      "a = 4 , b = 5\n",
      "c² = 41 , c = 6.4031242374328485\n",
      "\n",
      "a = 4 , b = 6\n",
      "c² = 52 , c = 7.211102550927978\n",
      "\n",
      "a = 4 , b = 7\n",
      "c² = 65 , c = 8.06225774829855\n",
      "\n",
      "a = 4 , b = 8\n",
      "c² = 80 , c = 8.94427190999916\n",
      "\n",
      "a = 4 , b = 9\n",
      "c² = 97 , c = 9.848857801796104\n",
      "\n",
      "a = 4 , b = 10\n",
      "c² = 116 , c = 10.770329614269007\n",
      "\n",
      "a = 5 , b = 1\n",
      "c² = 26 , c = 5.0990195135927845\n",
      "\n",
      "a = 5 , b = 2\n",
      "c² = 29 , c = 5.385164807134504\n",
      "\n",
      "a = 5 , b = 3\n",
      "c² = 34 , c = 5.830951894845301\n",
      "\n",
      "a = 5 , b = 4\n",
      "c² = 41 , c = 6.4031242374328485\n",
      "\n",
      "a = 5 , b = 5\n",
      "c² = 50 , c = 7.0710678118654755\n",
      "\n",
      "a = 5 , b = 6\n",
      "c² = 61 , c = 7.810249675906654\n",
      "\n",
      "a = 5 , b = 7\n",
      "c² = 74 , c = 8.602325267042627\n",
      "\n",
      "a = 5 , b = 8\n",
      "c² = 89 , c = 9.433981132056603\n",
      "\n",
      "a = 5 , b = 9\n",
      "c² = 106 , c = 10.295630140987\n",
      "\n",
      "a = 5 , b = 10\n",
      "c² = 125 , c = 11.180339887498949\n",
      "\n",
      "a = 6 , b = 1\n",
      "c² = 37 , c = 6.082762530298219\n",
      "\n",
      "a = 6 , b = 2\n",
      "c² = 40 , c = 6.324555320336759\n",
      "\n",
      "a = 6 , b = 3\n",
      "c² = 45 , c = 6.708203932499369\n",
      "\n",
      "a = 6 , b = 4\n",
      "c² = 52 , c = 7.211102550927978\n",
      "\n",
      "a = 6 , b = 5\n",
      "c² = 61 , c = 7.810249675906654\n",
      "\n",
      "a = 6 , b = 6\n",
      "c² = 72 , c = 8.48528137423857\n",
      "\n",
      "a = 6 , b = 7\n",
      "c² = 85 , c = 9.219544457292887\n",
      "\n",
      "a = 6 , b = 8\n",
      "c² = 100 , c = 10.0\n",
      "\n",
      "a = 6 , b = 9\n",
      "c² = 117 , c = 10.816653826391969\n",
      "\n",
      "a = 6 , b = 10\n",
      "c² = 136 , c = 11.661903789690601\n",
      "\n",
      "a = 7 , b = 1\n",
      "c² = 50 , c = 7.0710678118654755\n",
      "\n",
      "a = 7 , b = 2\n",
      "c² = 53 , c = 7.280109889280518\n",
      "\n",
      "a = 7 , b = 3\n",
      "c² = 58 , c = 7.615773105863909\n",
      "\n",
      "a = 7 , b = 4\n",
      "c² = 65 , c = 8.06225774829855\n",
      "\n",
      "a = 7 , b = 5\n",
      "c² = 74 , c = 8.602325267042627\n",
      "\n",
      "a = 7 , b = 6\n",
      "c² = 85 , c = 9.219544457292887\n",
      "\n",
      "a = 7 , b = 7\n",
      "c² = 98 , c = 9.899494936611665\n",
      "\n",
      "a = 7 , b = 8\n",
      "c² = 113 , c = 10.63014581273465\n",
      "\n",
      "a = 7 , b = 9\n",
      "c² = 130 , c = 11.40175425099138\n",
      "\n",
      "a = 7 , b = 10\n",
      "c² = 149 , c = 12.206555615733702\n",
      "\n",
      "a = 8 , b = 1\n",
      "c² = 65 , c = 8.06225774829855\n",
      "\n",
      "a = 8 , b = 2\n",
      "c² = 68 , c = 8.246211251235321\n",
      "\n",
      "a = 8 , b = 3\n",
      "c² = 73 , c = 8.54400374531753\n",
      "\n",
      "a = 8 , b = 4\n",
      "c² = 80 , c = 8.94427190999916\n",
      "\n",
      "a = 8 , b = 5\n",
      "c² = 89 , c = 9.433981132056603\n",
      "\n",
      "a = 8 , b = 6\n",
      "c² = 100 , c = 10.0\n",
      "\n",
      "a = 8 , b = 7\n",
      "c² = 113 , c = 10.63014581273465\n",
      "\n",
      "a = 8 , b = 8\n",
      "c² = 128 , c = 11.313708498984761\n",
      "\n",
      "a = 8 , b = 9\n",
      "c² = 145 , c = 12.041594578792296\n",
      "\n",
      "a = 8 , b = 10\n",
      "c² = 164 , c = 12.806248474865697\n",
      "\n",
      "a = 9 , b = 1\n",
      "c² = 82 , c = 9.055385138137417\n",
      "\n",
      "a = 9 , b = 2\n",
      "c² = 85 , c = 9.219544457292887\n",
      "\n",
      "a = 9 , b = 3\n",
      "c² = 90 , c = 9.486832980505138\n",
      "\n",
      "a = 9 , b = 4\n",
      "c² = 97 , c = 9.848857801796104\n",
      "\n",
      "a = 9 , b = 5\n",
      "c² = 106 , c = 10.295630140987\n",
      "\n",
      "a = 9 , b = 6\n",
      "c² = 117 , c = 10.816653826391969\n",
      "\n",
      "a = 9 , b = 7\n",
      "c² = 130 , c = 11.40175425099138\n",
      "\n",
      "a = 9 , b = 8\n",
      "c² = 145 , c = 12.041594578792296\n",
      "\n",
      "a = 9 , b = 9\n",
      "c² = 162 , c = 12.727922061357855\n",
      "\n",
      "a = 9 , b = 10\n",
      "c² = 181 , c = 13.45362404707371\n",
      "\n",
      "a = 10 , b = 1\n",
      "c² = 101 , c = 10.04987562112089\n",
      "\n",
      "a = 10 , b = 2\n",
      "c² = 104 , c = 10.198039027185569\n",
      "\n",
      "a = 10 , b = 3\n",
      "c² = 109 , c = 10.44030650891055\n",
      "\n",
      "a = 10 , b = 4\n",
      "c² = 116 , c = 10.770329614269007\n",
      "\n",
      "a = 10 , b = 5\n",
      "c² = 125 , c = 11.180339887498949\n",
      "\n",
      "a = 10 , b = 6\n",
      "c² = 136 , c = 11.661903789690601\n",
      "\n",
      "a = 10 , b = 7\n",
      "c² = 149 , c = 12.206555615733702\n",
      "\n",
      "a = 10 , b = 8\n",
      "c² = 164 , c = 12.806248474865697\n",
      "\n",
      "a = 10 , b = 9\n",
      "c² = 181 , c = 13.45362404707371\n",
      "\n",
      "a = 10 , b = 10\n",
      "c² = 200 , c = 14.142135623730951\n",
      "\n"
     ]
    }
   ],
   "source": [
    "# lotst of different triangles\n",
    "\n",
    "for i in range(1, 11):\n",
    "    for j in range(1, 11):\n",
    "        a = i\n",
    "        b = j\n",
    "        print('a =', a, ', b =', b)\n",
    "        c_squared = a**2 + b**2\n",
    "        c = math.sqrt(c_squared)\n",
    "        print('c² =', c_squared, ', c =', c)\n",
    "        print()"
   ]
  },
  {
   "cell_type": "code",
   "execution_count": null,
   "metadata": {},
   "outputs": [],
   "source": []
  }
 ],
 "metadata": {
  "celltoolbar": "Slideshow",
  "kernelspec": {
   "display_name": "Python 3",
   "language": "python",
   "name": "python3"
  },
  "language_info": {
   "codemirror_mode": {
    "name": "ipython",
    "version": 3
   },
   "file_extension": ".py",
   "mimetype": "text/x-python",
   "name": "python",
   "nbconvert_exporter": "python",
   "pygments_lexer": "ipython3",
   "version": "3.6.8"
  }
 },
 "nbformat": 4,
 "nbformat_minor": 2
}
