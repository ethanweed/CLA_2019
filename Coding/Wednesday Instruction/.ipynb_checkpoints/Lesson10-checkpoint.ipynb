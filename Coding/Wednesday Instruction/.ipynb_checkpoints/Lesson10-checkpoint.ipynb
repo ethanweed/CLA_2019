{
 "cells": [
  {
   "cell_type": "markdown",
   "metadata": {
    "slideshow": {
     "slide_type": "slide"
    }
   },
   "source": [
    "# Lesson 10: Modules & Documentation"
   ]
  },
  {
   "cell_type": "markdown",
   "metadata": {
    "slideshow": {
     "slide_type": "slide"
    }
   },
   "source": [
    "## Part 1: Making and using your own module"
   ]
  },
  {
   "cell_type": "markdown",
   "metadata": {
    "slideshow": {
     "slide_type": "slide"
    }
   },
   "source": [
    "Remember this from two classes ago?"
   ]
  },
  {
   "cell_type": "code",
   "execution_count": 2,
   "metadata": {
    "slideshow": {
     "slide_type": "fragment"
    }
   },
   "outputs": [
    {
     "data": {
      "text/plain": [
       "<matplotlib.axes._subplots.AxesSubplot at 0x7fd587af1908>"
      ]
     },
     "execution_count": 2,
     "metadata": {},
     "output_type": "execute_result"
    },
    {
     "data": {
      "image/png": "[encoded data removed]",
      "text/plain": [
       "<Figure size 432x288 with 1 Axes>"
      ]
     },
     "metadata": {},
     "output_type": "display_data"
    }
   ],
   "source": [
    "import transcriptutils as tu  # our own module\n",
    "import pandas as pd  # external module\n",
    "import seaborn as sns  # ditto\n",
    "\n",
    "raw_transcripts = tu.load_files(\n",
    "    '/home/kasper/PycharmProjects/CLA_2019/CLA_2018/Data/Brown/Adam'\n",
    ")\n",
    "ages = [tu.get_childs_age(raw) for raw in raw_transcripts]\n",
    "clean_transcripts = [tu.clean_transcript(raw) for raw in raw_transcripts]\n",
    "mlus = [tu.calculate_mlu(transcript, 'CHI') for transcript in clean_transcripts]\n",
    "df = pd.DataFrame({'Age': ages, 'MLU': mlus})\n",
    "sns.lineplot(x='Age', y='MLU', data=df)"
   ]
  },
  {
   "cell_type": "markdown",
   "metadata": {
    "slideshow": {
     "slide_type": "slide"
    }
   },
   "source": [
    "What's happening in this line?\n",
    "\n",
    "```python\n",
    "import transcriptutils\n",
    "```\n",
    "\n",
    "In short, Python looks for a file with the name `transcriptutils.py` in the same folder as the script/notebook and runs it.\n",
    "\n",
    "```\n",
    "folder/\n",
    "    notebook.ipynb\n",
    "    transcriptutils.py\n",
    "```"
   ]
  },
  {
   "cell_type": "markdown",
   "metadata": {
    "slideshow": {
     "slide_type": "subslide"
    }
   },
   "source": [
    "However, the __module__ file does not contain code to be executed in this case, only function definitions.\n",
    "\n",
    "Hence, after reading the file, Python - in its current state - knows the functions (and classes, if any) within that module.\n",
    "\n",
    "They are accessed as e.g. `transcriptutils.clean_transcript()` or `tu.clean_transcript()` if we've imported it like\n",
    "\n",
    "```python\n",
    "import transcriptutils as tu\n",
    "```"
   ]
  },
  {
   "cell_type": "markdown",
   "metadata": {
    "slideshow": {
     "slide_type": "fragment"
    }
   },
   "source": [
    "For a more detailed description of making your own modules, see [this link](https://www.digitalocean.com/community/tutorials/how-to-write-modules-in-python-3)."
   ]
  },
  {
   "cell_type": "markdown",
   "metadata": {
    "slideshow": {
     "slide_type": "slide"
    }
   },
   "source": [
    "## Part 2: Installing and using other modules"
   ]
  },
  {
   "cell_type": "markdown",
   "metadata": {
    "slideshow": {
     "slide_type": "slide"
    }
   },
   "source": [
    "We already use tons of other modules, e.g.\n",
    "\n",
    "```python\n",
    "import glob\n",
    "import seaborn as sns\n",
    "import pandas as pd\n",
    "```\n",
    "\n",
    "And there are more than you can imagine out there!\n",
    "\n",
    "To install more packages with modules, we use `pip` (package installer for Python) in the command line.\n",
    "\n",
    "Today, we'll be playing around with PyLangAcq, a module for working with CHILDES .cha transcripts."
   ]
  },
  {
   "cell_type": "markdown",
   "metadata": {
    "slideshow": {
     "slide_type": "slide"
    }
   },
   "source": [
    "For those who have installed Anaconda (most of you):\n",
    "\n",
    "1. Search for _Anaconda Prompt_ on your computer and open it.\n",
    "1. Type in `pip install -U pylangacq`\n",
    "\n",
    "If you do not have Anaconda: \n",
    "\n",
    "1. Open up a regular terminal/command prompt.\n",
    "1. On Mac/Linux, type in `pip3 install -U pylangacq` (`pip` is for Python 2 in this case). On Windows, leave out the `3`.\n",
    "\n",
    "(I think; depends on installations etc.)\n",
    "\n",
    "As pointed out in class, this can done much easier by running it directly in a Jupyter Notebook with `!`:\n",
    "\n",
    "`!pip install -U pylangacq`\n",
    "\n",
    "You should see a bunch of output and, hopefully, in the last line:\n",
    "\n",
    "`Successfully installed pylangacq-0.10.0`"
   ]
  },
  {
   "cell_type": "markdown",
   "metadata": {
    "slideshow": {
     "slide_type": "slide"
    }
   },
   "source": [
    "Now, test in a Jupyter notebook if this line executes without error:\n",
    "\n",
    "```python\n",
    "import transcriptutils\n",
    "```\n",
    "\n",
    "If you get a `ModuleNotFoundError`, something has gone wrong with your installation, which can be one of many reasons. Let me know if that happens."
   ]
  },
  {
   "cell_type": "markdown",
   "metadata": {
    "slideshow": {
     "slide_type": "slide"
    }
   },
   "source": [
    "## Exercises\n",
    "\n",
    "1. Read in all transcripts with Adam, Sarah and Eve, respectively, and store each `Reader` object (an aggregated bunch of transcripts in PyLangAcq) in a variable.\n",
    "1. Print it out the number of words per file for each dataset.\n",
    "1. The same as above, but now only for the target child in the transcripts (e.g. only for Adam in the Adam dataset)\n",
    "1. Find the most frequent words, bigrams (combination of two words in a row) and trigrams.\n",
    "\n",
    "Advanced:\n",
    "\n",
    "1. Calculate MLU on morpheme and word basis for each transcript. Are they correlated? Try to plot it.\n",
    "1. Look at concordance for _wh_-words like _what_ and _why_ for the target children. Do they use the words as expected, i.e. fronted, and how do they structure the rest of the sentences? Are there noteworthy differences from early transcripts to later ones?"
   ]
  },
  {
   "cell_type": "markdown",
   "metadata": {
    "slideshow": {
     "slide_type": "subslide"
    }
   },
   "source": [
    "## NOTE!\n",
    "\n",
    "In class, we ran into some problems when importing data. Hopefully, I will have a solution for that before next Wednesday. If any of you find out what the problem is (or if Ethan knows), please notify me."
   ]
  },
  {
   "cell_type": "code",
   "execution_count": null,
   "metadata": {},
   "outputs": [],
   "source": []
  }
 ],
 "metadata": {
  "celltoolbar": "Slideshow",
  "kernelspec": {
   "display_name": "Python 3",
   "language": "python",
   "name": "python3"
  },
  "language_info": {
   "codemirror_mode": {
    "name": "ipython",
    "version": 3
   },
   "file_extension": ".py",
   "mimetype": "text/x-python",
   "name": "python",
   "nbconvert_exporter": "python",
   "pygments_lexer": "ipython3",
   "version": "3.6.8"
  }
 },
 "nbformat": 4,
 "nbformat_minor": 2
}
