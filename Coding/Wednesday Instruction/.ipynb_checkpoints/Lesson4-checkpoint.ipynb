{
 "cells": [
  {
   "cell_type": "markdown",
   "metadata": {
    "slideshow": {
     "slide_type": "slide"
    }
   },
   "source": [
    "# Lesson 4: Lists"
   ]
  },
  {
   "cell_type": "markdown",
   "metadata": {
    "slideshow": {
     "slide_type": "slide"
    }
   },
   "source": [
    "## Recall from last week\n",
    "\n",
    "### Errors\n",
    "Error messages are thrown when something in the program makes it unable to run as intended.\n",
    "\n",
    "Such messages contain some details about the nature of the error which can help us fix it.\n",
    "\n",
    "### Strings\n",
    "In some ways, Strings are simply lists of characters, meaning that they also largely behave as such.\n",
    "\n",
    "Strings are also objects with internal methods which give us a large array of functionality in strings.\n",
    "\n",
    "### Readable code\n",
    "Code can be complete gibberish or it can be clearly explained throughout. The latter can help ourselves and collaborators."
   ]
  },
  {
   "cell_type": "markdown",
   "metadata": {
    "slideshow": {
     "slide_type": "slide"
    }
   },
   "source": [
    "# Lists"
   ]
  },
  {
   "cell_type": "markdown",
   "metadata": {
    "slideshow": {
     "slide_type": "slide"
    }
   },
   "source": [
    "## The basics\n",
    "\n",
    "Lists are created with `[item1, item2, item3]`\n",
    "\n",
    "Lists are **ordered**, meaning that unless we move around things, things stay in the same order.\n",
    "\n",
    "They can contain **anything**, even mixed data types!\n",
    "`a_mixed_list = [4, 'a string', 9.2, False]`\n",
    "\n",
    "Lists are **iterable**, meaning that we can loop over them:\n",
    "\n",
    "```python\n",
    "for item in some_list:\n",
    "    print(item)\n",
    "```\n",
    "\n",
    "Last time you learned that strings are similar to lists. Well, let's look at it!"
   ]
  },
  {
   "cell_type": "markdown",
   "metadata": {
    "slideshow": {
     "slide_type": "slide"
    }
   },
   "source": [
    "## List items have indices\n",
    "\n",
    "We can use index numbers to retrieve an item or sequences of items in a list."
   ]
  },
  {
   "cell_type": "code",
   "execution_count": 1,
   "metadata": {
    "slideshow": {
     "slide_type": "fragment"
    }
   },
   "outputs": [
    {
     "name": "stdout",
     "output_type": "stream",
     "text": [
      "the item with index [0]: 3\n",
      "the item with index [3]: 97\n"
     ]
    }
   ],
   "source": [
    "# remember that we count from 0!\n",
    "a_list = [3, 7, 34, 97, 54, 29]\n",
    "print('the item with index [0]:', a_list[0])\n",
    "print('the item with index [3]:', a_list[3])"
   ]
  },
  {
   "cell_type": "code",
   "execution_count": 2,
   "metadata": {
    "slideshow": {
     "slide_type": "fragment"
    }
   },
   "outputs": [
    {
     "data": {
      "text/plain": [
       "[3, 9, 34, 97, 54, 29]"
      ]
     },
     "execution_count": 2,
     "metadata": {},
     "output_type": "execute_result"
    }
   ],
   "source": [
    "# we can change the item at a certain index\n",
    "a_list[1] = 9\n",
    "a_list"
   ]
  },
  {
   "cell_type": "code",
   "execution_count": 3,
   "metadata": {
    "slideshow": {
     "slide_type": "fragment"
    }
   },
   "outputs": [
    {
     "name": "stdout",
     "output_type": "stream",
     "text": [
      "the item with index [-2]: 54\n",
      "the items in slice [3:5] [97, 54]\n"
     ]
    }
   ],
   "source": [
    "# we can also use backwards indices and slices\n",
    "print('the item with index [-2]:', a_list[-2])\n",
    "print('the items in slice [3:5]', a_list[3:5])"
   ]
  },
  {
   "cell_type": "markdown",
   "metadata": {
    "slideshow": {
     "slide_type": "slide"
    }
   },
   "source": [
    "## The _in_ operator\n",
    "\n",
    "We can use the _in_ operator to check if a certain element is in a list."
   ]
  },
  {
   "cell_type": "code",
   "execution_count": 4,
   "metadata": {
    "slideshow": {
     "slide_type": "fragment"
    }
   },
   "outputs": [
    {
     "data": {
      "text/plain": [
       "True"
      ]
     },
     "execution_count": 4,
     "metadata": {},
     "output_type": "execute_result"
    }
   ],
   "source": [
    "54 in a_list"
   ]
  },
  {
   "cell_type": "code",
   "execution_count": 5,
   "metadata": {
    "slideshow": {
     "slide_type": "fragment"
    }
   },
   "outputs": [
    {
     "data": {
      "text/plain": [
       "False"
      ]
     },
     "execution_count": 5,
     "metadata": {},
     "output_type": "execute_result"
    }
   ],
   "source": [
    "64 in a_list"
   ]
  },
  {
   "cell_type": "code",
   "execution_count": 6,
   "metadata": {
    "slideshow": {
     "slide_type": "fragment"
    }
   },
   "outputs": [
    {
     "data": {
      "text/plain": [
       "False"
      ]
     },
     "execution_count": 6,
     "metadata": {},
     "output_type": "execute_result"
    }
   ],
   "source": [
    "# not, however, with sequences of items!\n",
    "[3, 7] in a_list"
   ]
  },
  {
   "cell_type": "markdown",
   "metadata": {
    "slideshow": {
     "slide_type": "slide"
    }
   },
   "source": [
    "## The methods in a list\n",
    "\n",
    "Lists also have internal methods."
   ]
  },
  {
   "cell_type": "code",
   "execution_count": 7,
   "metadata": {
    "slideshow": {
     "slide_type": "fragment"
    }
   },
   "outputs": [
    {
     "data": {
      "text/plain": [
       "[3, 9, 34, 97, 54, 29]"
      ]
     },
     "execution_count": 7,
     "metadata": {},
     "output_type": "execute_result"
    }
   ],
   "source": [
    "a_list"
   ]
  },
  {
   "cell_type": "code",
   "execution_count": 8,
   "metadata": {
    "slideshow": {
     "slide_type": "fragment"
    }
   },
   "outputs": [
    {
     "data": {
      "text/plain": [
       "[3, 9, 29, 34, 54, 97]"
      ]
     },
     "execution_count": 8,
     "metadata": {},
     "output_type": "execute_result"
    }
   ],
   "source": [
    "a_list.sort()\n",
    "a_list"
   ]
  },
  {
   "cell_type": "code",
   "execution_count": 9,
   "metadata": {
    "slideshow": {
     "slide_type": "fragment"
    }
   },
   "outputs": [
    {
     "data": {
      "text/plain": [
       "[3, 9, 29, 34, 54, 97, 867]"
      ]
     },
     "execution_count": 9,
     "metadata": {},
     "output_type": "execute_result"
    }
   ],
   "source": [
    "a_list.append(867)\n",
    "a_list"
   ]
  },
  {
   "cell_type": "code",
   "execution_count": 10,
   "metadata": {
    "slideshow": {
     "slide_type": "fragment"
    }
   },
   "outputs": [
    {
     "data": {
      "text/plain": [
       "[867, 97, 54, 34, 29, 9, 3]"
      ]
     },
     "execution_count": 10,
     "metadata": {},
     "output_type": "execute_result"
    }
   ],
   "source": [
    "a_list.reverse()\n",
    "a_list"
   ]
  },
  {
   "cell_type": "markdown",
   "metadata": {
    "slideshow": {
     "slide_type": "slide"
    }
   },
   "source": [
    "## About mutability\n",
    "\n",
    "Hang on a moment! Why don't we need to save it in a (new) variable whenever we do something as with strings?\n",
    "\n",
    "We don't, because lists are **mutable**, meaning that we **can** change the internal state of a list.\n",
    "\n",
    "Strings, on the contrary, are **immutable**, meaning that we **cannot** change the internal state but have to create a **new instance** if we want to change it."
   ]
  },
  {
   "cell_type": "code",
   "execution_count": 11,
   "metadata": {
    "slideshow": {
     "slide_type": "subslide"
    }
   },
   "outputs": [
    {
     "data": {
      "text/plain": [
       "'a sample string'"
      ]
     },
     "execution_count": 11,
     "metadata": {},
     "output_type": "execute_result"
    }
   ],
   "source": [
    "a_string = 'a sample string'  # the string is initialized\n",
    "a_string.upper()  # we call an internal method, which returns another version of the string\n",
    "a_string  # the original string is unaltered"
   ]
  },
  {
   "cell_type": "code",
   "execution_count": 12,
   "metadata": {
    "slideshow": {
     "slide_type": "fragment"
    }
   },
   "outputs": [
    {
     "data": {
      "text/plain": [
       "['a', 'list', 'of', 'strings', '!']"
      ]
     },
     "execution_count": 12,
     "metadata": {},
     "output_type": "execute_result"
    }
   ],
   "source": [
    "another_list = ['a', 'list', 'of', 'strings']  # the list is initialized\n",
    "another_list.append('!')  # we call an internal method, which alters the list\n",
    "another_list  # the original list is altered"
   ]
  },
  {
   "cell_type": "markdown",
   "metadata": {
    "slideshow": {
     "slide_type": "slide"
    }
   },
   "source": [
    "## Nested lists\n",
    "\n",
    "Since lists can contain anything, they can also contain other lists (which, in turn, can contain lists - and so, ad infinitum).\n",
    "\n",
    "This is a very handy data structure, but too much nesting can become impossible to handle.\n",
    "\n",
    "Let's see how it can work!"
   ]
  },
  {
   "cell_type": "code",
   "execution_count": 13,
   "metadata": {
    "slideshow": {
     "slide_type": "subslide"
    }
   },
   "outputs": [
    {
     "data": {
      "text/plain": [
       "[[1, 2, 3], [2, 3, 4], [3, 4, 5], [4, 5, 6]]"
      ]
     },
     "execution_count": 13,
     "metadata": {},
     "output_type": "execute_result"
    }
   ],
   "source": [
    "# for readability, we can put out the nested lists on a line each\n",
    "a_nested_list = [[1, 2, 3],\n",
    "                 [2, 3, 4],\n",
    "                 [3, 4, 5],\n",
    "                 [4, 5, 6]]\n",
    "a_nested_list"
   ]
  },
  {
   "cell_type": "code",
   "execution_count": 14,
   "metadata": {
    "slideshow": {
     "slide_type": "subslide"
    }
   },
   "outputs": [
    {
     "name": "stdout",
     "output_type": "stream",
     "text": [
      "[1, 2, 3]\n",
      "[2, 3, 4]\n",
      "[3, 4, 5]\n",
      "[4, 5, 6]\n"
     ]
    }
   ],
   "source": [
    "# when we loop over the nested list, we retrieve each of the inner lists one by one\n",
    "for item in a_nested_list:\n",
    "    print(item)"
   ]
  },
  {
   "cell_type": "code",
   "execution_count": 15,
   "metadata": {
    "slideshow": {
     "slide_type": "subslide"
    }
   },
   "outputs": [
    {
     "name": "stdout",
     "output_type": "stream",
     "text": [
      "1 squared is 1\n",
      "2 squared is 4\n",
      "3 squared is 9\n",
      "2 squared is 4\n",
      "3 squared is 9\n",
      "4 squared is 16\n",
      "3 squared is 9\n",
      "4 squared is 16\n",
      "5 squared is 25\n",
      "4 squared is 16\n",
      "5 squared is 25\n",
      "6 squared is 36\n"
     ]
    }
   ],
   "source": [
    "# therefore, we can make nested loops\n",
    "for inner_list in a_nested_list:\n",
    "    for number in inner_list:\n",
    "        print(number, 'squared is', number ** 2)"
   ]
  },
  {
   "cell_type": "code",
   "execution_count": 16,
   "metadata": {
    "slideshow": {
     "slide_type": "subslide"
    }
   },
   "outputs": [
    {
     "data": {
      "text/plain": [
       "[4.666666666666667, 9.666666666666666, 16.666666666666668, 25.666666666666668]"
      ]
     },
     "execution_count": 16,
     "metadata": {},
     "output_type": "execute_result"
    }
   ],
   "source": [
    "# we can do some things in the outer loop and other things in the inner loop\n",
    "# what is executed when?\n",
    "\n",
    "# calculate the mean of squares for each list and append it to another list\n",
    "means = []\n",
    "for inner_list in a_nested_list:\n",
    "    total = 0  # initalialize as 0 for each list\n",
    "    for number in inner_list:\n",
    "        number_squared = number ** 2\n",
    "        total += number_squared\n",
    "    mean_of_squares = total / len(inner_list)\n",
    "    means.append(mean_of_squares)\n",
    "\n",
    "means  # check that we've made a list"
   ]
  },
  {
   "cell_type": "markdown",
   "metadata": {
    "slideshow": {
     "slide_type": "slide"
    }
   },
   "source": [
    "## An alternative list: the set\n",
    "\n",
    "They are made with `{item1, item2, item3}`\n",
    "\n",
    "They are somewhat similar to lists, but there are two major differences:"
   ]
  },
  {
   "cell_type": "markdown",
   "metadata": {
    "slideshow": {
     "slide_type": "subslide"
    }
   },
   "source": [
    "### Lists are ordered; sets are not!"
   ]
  },
  {
   "cell_type": "code",
   "execution_count": 17,
   "metadata": {
    "slideshow": {
     "slide_type": "fragment"
    }
   },
   "outputs": [
    {
     "data": {
      "text/plain": [
       "['another',\n",
       " 'list',\n",
       " 'of',\n",
       " 'strings',\n",
       " 'ordered',\n",
       " 'after',\n",
       " 'their',\n",
       " 'original',\n",
       " 'order']"
      ]
     },
     "execution_count": 17,
     "metadata": {},
     "output_type": "execute_result"
    }
   ],
   "source": [
    "a_list_of_strings = ['another', 'list', 'of', 'strings', 'ordered', 'after', 'their', 'original', 'order']\n",
    "a_list_of_strings"
   ]
  },
  {
   "cell_type": "code",
   "execution_count": 18,
   "metadata": {
    "scrolled": true,
    "slideshow": {
     "slide_type": "fragment"
    }
   },
   "outputs": [
    {
     "data": {
      "text/plain": [
       "{'after',\n",
       " 'another',\n",
       " 'list',\n",
       " 'of',\n",
       " 'order',\n",
       " 'ordered',\n",
       " 'original',\n",
       " 'strings',\n",
       " 'their'}"
      ]
     },
     "execution_count": 18,
     "metadata": {},
     "output_type": "execute_result"
    }
   ],
   "source": [
    "a_set_of_strings = {'another', 'list', 'of', 'strings', 'ordered', 'after', 'their', 'original', 'order'}\n",
    "a_set_of_strings  # as default, they come sorted if possible, but it's not a given!"
   ]
  },
  {
   "cell_type": "markdown",
   "metadata": {
    "slideshow": {
     "slide_type": "subslide"
    }
   },
   "source": [
    "This also means that sets cannot be indexed:"
   ]
  },
  {
   "cell_type": "code",
   "execution_count": 19,
   "metadata": {},
   "outputs": [
    {
     "ename": "TypeError",
     "evalue": "'set' object does not support indexing",
     "output_type": "error",
     "traceback": [
      "\u001b[0;31m---------------------------------------------------------------------------\u001b[0m",
      "\u001b[0;31mTypeError\u001b[0m                                 Traceback (most recent call last)",
      "\u001b[0;32m<ipython-input-19-b6ef65785fb5>\u001b[0m in \u001b[0;36m<module>\u001b[0;34m()\u001b[0m\n\u001b[0;32m----> 1\u001b[0;31m \u001b[0ma_set_of_strings\u001b[0m\u001b[0;34m[\u001b[0m\u001b[0;36m0\u001b[0m\u001b[0;34m]\u001b[0m\u001b[0;34m\u001b[0m\u001b[0;34m\u001b[0m\u001b[0m\n\u001b[0m",
      "\u001b[0;31mTypeError\u001b[0m: 'set' object does not support indexing"
     ]
    }
   ],
   "source": [
    "a_set_of_strings[0]"
   ]
  },
  {
   "cell_type": "markdown",
   "metadata": {
    "slideshow": {
     "slide_type": "subslide"
    }
   },
   "source": [
    "### Lists can contain duplicates; sets can not!"
   ]
  },
  {
   "cell_type": "code",
   "execution_count": 20,
   "metadata": {
    "slideshow": {
     "slide_type": "fragment"
    }
   },
   "outputs": [
    {
     "data": {
      "text/plain": [
       "[1, 1, 1, 4, 6, 34, 1]"
      ]
     },
     "execution_count": 20,
     "metadata": {},
     "output_type": "execute_result"
    }
   ],
   "source": [
    "a_list_with_duplicates = [1, 1, 1, 4, 6, 34, 1]\n",
    "a_list_with_duplicates"
   ]
  },
  {
   "cell_type": "code",
   "execution_count": 21,
   "metadata": {
    "slideshow": {
     "slide_type": "fragment"
    }
   },
   "outputs": [
    {
     "data": {
      "text/plain": [
       "{1, 4, 6, 34}"
      ]
     },
     "execution_count": 21,
     "metadata": {},
     "output_type": "execute_result"
    }
   ],
   "source": [
    "a_set_with_duplicates = {1, 1, 1, 4, 6, 34, 1}\n",
    "a_set_with_duplicates"
   ]
  },
  {
   "cell_type": "markdown",
   "metadata": {
    "slideshow": {
     "slide_type": "subslide"
    }
   },
   "source": [
    "### Possible usage of sets: type-to-token ratio"
   ]
  },
  {
   "cell_type": "code",
   "execution_count": 22,
   "metadata": {
    "slideshow": {
     "slide_type": "fragment"
    }
   },
   "outputs": [
    {
     "name": "stdout",
     "output_type": "stream",
     "text": [
      "TTR: 0.87\n"
     ]
    }
   ],
   "source": [
    "# suppose that we retrieve a list of words uttered by a child in a transcript\n",
    "tokens = ['big','drum', 'horse', 'who', 'is', 'that', 'those', 'are',\n",
    "          'checkers', 'two', 'checkers','yes', 'play', 'checkers',\n",
    "          'big', 'horn', 'get', 'over', 'Mommy', 'shadow', 'I',\n",
    "          'like', 'it']\n",
    "types = set(tokens)  # convert the list to a set\n",
    "print('TTR:', round(len(types) / len(tokens), 3))  # calculate and report TTR"
   ]
  },
  {
   "cell_type": "markdown",
   "metadata": {
    "slideshow": {
     "slide_type": "slide"
    }
   },
   "source": [
    "## Another alternative list: the tuple\n",
    "\n",
    "They are made with `(item1, item2, item3)`\n",
    "\n",
    "They are almost exactly similar to lists, but with one key difference: they are **immutable**!\n",
    "\n",
    "That is, we cannot the internal state of tuples."
   ]
  },
  {
   "cell_type": "code",
   "execution_count": 23,
   "metadata": {
    "slideshow": {
     "slide_type": "subslide"
    }
   },
   "outputs": [
    {
     "data": {
      "text/plain": [
       "(1, 43, 29, 13)"
      ]
     },
     "execution_count": 23,
     "metadata": {},
     "output_type": "execute_result"
    }
   ],
   "source": [
    "a_tuple = (1, 43, 29, 13)\n",
    "a_tuple"
   ]
  },
  {
   "cell_type": "code",
   "execution_count": 24,
   "metadata": {
    "slideshow": {
     "slide_type": "fragment"
    }
   },
   "outputs": [
    {
     "ename": "AttributeError",
     "evalue": "'tuple' object has no attribute 'sort'",
     "output_type": "error",
     "traceback": [
      "\u001b[0;31m---------------------------------------------------------------------------\u001b[0m",
      "\u001b[0;31mAttributeError\u001b[0m                            Traceback (most recent call last)",
      "\u001b[0;32m<ipython-input-24-a84df53a62d8>\u001b[0m in \u001b[0;36m<module>\u001b[0;34m()\u001b[0m\n\u001b[1;32m      1\u001b[0m \u001b[0;31m# so, for instance, we cannot sort tuples with an internal method\u001b[0m\u001b[0;34m\u001b[0m\u001b[0;34m\u001b[0m\u001b[0;34m\u001b[0m\u001b[0m\n\u001b[0;32m----> 2\u001b[0;31m \u001b[0ma_tuple\u001b[0m\u001b[0;34m.\u001b[0m\u001b[0msort\u001b[0m\u001b[0;34m(\u001b[0m\u001b[0;34m)\u001b[0m\u001b[0;34m\u001b[0m\u001b[0;34m\u001b[0m\u001b[0m\n\u001b[0m",
      "\u001b[0;31mAttributeError\u001b[0m: 'tuple' object has no attribute 'sort'"
     ]
    }
   ],
   "source": [
    "# so, for instance, we cannot sort tuples with an internal method\n",
    "a_tuple.sort()"
   ]
  },
  {
   "cell_type": "markdown",
   "metadata": {
    "slideshow": {
     "slide_type": "subslide"
    }
   },
   "source": [
    "What are they good for, you might ask?\n",
    "\n",
    "In practice, they are used for different things:\n",
    "\n",
    "Lists are used when we want an ordered data structure which we can change along the way.\n",
    "\n",
    "Tuples are used when we want a fixed data structure which should stay the same from its initialization. Often, a tuple serves as a \"multi-element\" data type, e.g. coordinates `(34.2, 12.6)` or transcript lines `('CHI', 'see what bear ?')`."
   ]
  },
  {
   "cell_type": "markdown",
   "metadata": {
    "slideshow": {
     "slide_type": "subslide"
    }
   },
   "source": [
    "### Possible usage of tuples: transcript lines"
   ]
  },
  {
   "cell_type": "code",
   "execution_count": 26,
   "metadata": {
    "slideshow": {
     "slide_type": "fragment"
    }
   },
   "outputs": [
    {
     "name": "stdout",
     "output_type": "stream",
     "text": [
      "Please, input the file path to a transcript: /home/kasper/python-projects/CLA_2019/CLA_2018/Data/Brown/Adam/adam01.cha\n"
     ]
    },
    {
     "data": {
      "text/plain": [
       "[('CHI', 'play checkers .'),\n",
       " ('CHI', 'big drum .'),\n",
       " ('MOT', 'big drum ?'),\n",
       " ('CHI', 'big drum .'),\n",
       " ('CHI', 'big drum .'),\n",
       " ('CHI', 'big drum .'),\n",
       " ('CHI', 'horse .'),\n",
       " ('MOT', 'horse .'),\n",
       " ('CHI', 'who (th)at ?'),\n",
       " ('MOT', 'who is that ?')]"
      ]
     },
     "execution_count": 26,
     "metadata": {},
     "output_type": "execute_result"
    }
   ],
   "source": [
    "# load the transcript\n",
    "transcript_path = input('Please, input the file path to a transcript: ')\n",
    "raw = open(transcript_path).read()\n",
    "lines = raw.split('\\n')\n",
    "\n",
    "# retrieve lines with utterances, stored as (SPEAKER, UTTERANCE) tuples\n",
    "utterances = []\n",
    "for line in lines:\n",
    "    if line.startswith('*'):  # all other lines are metadata\n",
    "        split_line = line.split(':\\t')  # we know that this sequence splits the line correctly\n",
    "        speaker = split_line[0][1:]  # get only the actual speaker name\n",
    "        utterance = (speaker, split_line[1])  # store it as a tuple\n",
    "        utterances.append(utterance)\n",
    "        \n",
    "utterances[:10]  # show the first 10"
   ]
  },
  {
   "cell_type": "markdown",
   "metadata": {
    "slideshow": {
     "slide_type": "slide"
    }
   },
   "source": [
    "# Exercise 1 in ch. 7\n",
    "\n",
    "Compare your solutions to your neighbour(s) and discuss how the different manipulations can be done."
   ]
  },
  {
   "cell_type": "code",
   "execution_count": 36,
   "metadata": {
    "slideshow": {
     "slide_type": "skip"
    }
   },
   "outputs": [
    {
     "name": "stdout",
     "output_type": "stream",
     "text": [
      "[7,12,3.4,65,False,2,87,6,23,5,5]\n"
     ]
    }
   ],
   "source": [
    "user_list = eval(input())  # see page 57"
   ]
  },
  {
   "cell_type": "code",
   "execution_count": 37,
   "metadata": {
    "slideshow": {
     "slide_type": "skip"
    }
   },
   "outputs": [
    {
     "name": "stdout",
     "output_type": "stream",
     "text": [
      "The number of items in the list is 11\n",
      "The last item in the list is 5\n",
      "The list reversed: [5, 5, 23, 6, 87, 2, False, 65, 3.4, 12, 7]\n",
      "Yes, there is a 5 in the list.\n",
      "The number of 5's in the list is 2\n",
      "The first and last entry is deleted, and the list is sorted: [False, 2, 3.4, 5, 6, 12, 23, 65, 87]\n",
      "The number of integers lower than 5 is 1\n"
     ]
    }
   ],
   "source": [
    "# many of these tasks can be done in smarter ways that we are not yet\n",
    "# familiar with, i.e. we will be using the tools that we know of.\n",
    "\n",
    "# a) we get the number of items in the list with len()\n",
    "print('The number of items in the list is', len(user_list))\n",
    "\n",
    "# b) we get the last item with a backwards index\n",
    "print('The last item in the list is', user_list[-1])\n",
    "\n",
    "# c) we can use the internal method .reverse()\n",
    "user_list.reverse()  # note that the actual order is changed now\n",
    "print('The list reversed:', user_list)\n",
    "\n",
    "# d) we use the 'in̈́ operator to check if there is a 5 in the list\n",
    "if 5 in user_list:\n",
    "    print('Yes, there is a 5 in the list.')\n",
    "else:\n",
    "    print('No, there is not a 5 in the list.')\n",
    "    \n",
    "# we use the .count() method\n",
    "print('The number of 5\\'s in the list is', user_list.count(5))\n",
    "\n",
    "# f) we use the 'del' statement to delete the first and last entries\n",
    "del user_list[0]  # first entry\n",
    "del user_list[-1]  # last entry\n",
    "# then we sort it with the internal method .sort() and print it\n",
    "user_list.sort()\n",
    "print('The first and last entry is deleted, and the list is sorted:',\n",
    "      user_list)\n",
    "\n",
    "# We cannot simply use the .count() method here as in e -- at least not\n",
    "# with our current knowledge! So, we want to check if an item is an\n",
    "# integer with type() and, if so, see if it's lower than 5\n",
    "ints_lower_than_five = 0\n",
    "for item in user_list:\n",
    "    if type(item) == int and item < 5:\n",
    "        ints_lower_than_five += 1\n",
    "print('The number of integers lower than 5 is', ints_lower_than_five)"
   ]
  },
  {
   "cell_type": "markdown",
   "metadata": {
    "slideshow": {
     "slide_type": "slide"
    }
   },
   "source": [
    "# Homework for next time\n",
    "\n",
    "Review chapter 1-7 for next time by skimming throught it and getting an overview of how much you know.\n",
    "\n",
    "Re-read things that are unclear and gather questions that we can work with next time.\n",
    "\n",
    "We will be revisiting most topics, but we can focus on the areas where you have problems."
   ]
  },
  {
   "cell_type": "code",
   "execution_count": null,
   "metadata": {},
   "outputs": [],
   "source": []
  }
 ],
 "metadata": {
  "celltoolbar": "Slideshow",
  "kernelspec": {
   "display_name": "Python 3",
   "language": "python",
   "name": "python3"
  },
  "language_info": {
   "codemirror_mode": {
    "name": "ipython",
    "version": 3
   },
   "file_extension": ".py",
   "mimetype": "text/x-python",
   "name": "python",
   "nbconvert_exporter": "python",
   "pygments_lexer": "ipython3",
   "version": "3.6.8"
  }
 },
 "nbformat": 4,
 "nbformat_minor": 2
}
