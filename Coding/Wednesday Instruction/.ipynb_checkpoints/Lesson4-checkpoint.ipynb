{
 "cells": [
  {
   "cell_type": "markdown",
   "metadata": {
    "slideshow": {
     "slide_type": "slide"
    }
   },
   "source": [
    "# Lesson 4: Lists and reading/writing files"
   ]
  },
  {
   "cell_type": "markdown",
   "metadata": {
    "slideshow": {
     "slide_type": "slide"
    }
   },
   "source": [
    "## Recall from last week\n",
    "\n",
    "### Errors\n",
    "Error messages are thrown when something in the program makes it unable to run as intended.\n",
    "\n",
    "Such messages contain some details about the nature of the error which can help us fix it.\n",
    "\n",
    "### Strings\n",
    "In some ways, Strings are simply lists of characters, meaning that they also largely behave as such.\n",
    "\n",
    "Strings are also objects with internal methods which give us a large array of functionality in strings.\n",
    "\n",
    "### Readable code\n",
    "Code can be complete gibberish or it can be clearly explained throughout. The latter can help ourselves and collaborators."
   ]
  },
  {
   "cell_type": "markdown",
   "metadata": {
    "slideshow": {
     "slide_type": "slide"
    }
   },
   "source": [
    "# Lists"
   ]
  },
  {
   "cell_type": "markdown",
   "metadata": {
    "slideshow": {
     "slide_type": "slide"
    }
   },
   "source": [
    "## The basics\n",
    "\n",
    "Lists are created with `[item1, item2, item3]`\n",
    "\n",
    "Lists are **ordered**, meaning that unless we move around things, things stay in the same order.\n",
    "\n",
    "They can contain **anything**, even mixed data types!\n",
    "`a_mixed_list = [4, 'a string', 9.2, False]`\n",
    "\n",
    "Lists are **iterable**, meaning that we can loop over them:\n",
    "\n",
    "```python\n",
    "for item in some_list:\n",
    "    print(item)\n",
    "```\n",
    "\n",
    "Last time you learned that strings are similar to lists. Well, let's look at it!"
   ]
  },
  {
   "cell_type": "markdown",
   "metadata": {
    "slideshow": {
     "slide_type": "slide"
    }
   },
   "source": [
    "## List items have indices\n",
    "\n",
    "We can use index numbers to retrieve an item or sequences of items in a list."
   ]
  },
  {
   "cell_type": "code",
   "execution_count": 29,
   "metadata": {
    "slideshow": {
     "slide_type": "fragment"
    }
   },
   "outputs": [
    {
     "name": "stdout",
     "output_type": "stream",
     "text": [
      "the item with index [0]: 3\n",
      "the item with index [3]: 97\n"
     ]
    }
   ],
   "source": [
    "# remember that we count from 0!\n",
    "a_list = [3, 7, 34, 97, 54, 29]\n",
    "print('the item with index [0]:', a_list[0])\n",
    "print('the item with index [3]:', a_list[3])"
   ]
  },
  {
   "cell_type": "code",
   "execution_count": 30,
   "metadata": {
    "slideshow": {
     "slide_type": "fragment"
    }
   },
   "outputs": [
    {
     "data": {
      "text/plain": [
       "[3, 9, 34, 97, 54, 29]"
      ]
     },
     "execution_count": 30,
     "metadata": {},
     "output_type": "execute_result"
    }
   ],
   "source": [
    "# we can change the item at a certain index\n",
    "a_list[1] = 9\n",
    "a_list"
   ]
  },
  {
   "cell_type": "code",
   "execution_count": 31,
   "metadata": {
    "slideshow": {
     "slide_type": "fragment"
    }
   },
   "outputs": [
    {
     "name": "stdout",
     "output_type": "stream",
     "text": [
      "the item with index [-2]: 54\n",
      "the items in slice [3:5] [97, 54]\n"
     ]
    }
   ],
   "source": [
    "# we can also use backwards indices and slices\n",
    "print('the item with index [-2]:', a_list[-2])\n",
    "print('the items in slice [3:5]', a_list[3:5])"
   ]
  },
  {
   "cell_type": "markdown",
   "metadata": {
    "slideshow": {
     "slide_type": "slide"
    }
   },
   "source": [
    "## The _in_ operator\n",
    "\n",
    "We can use the _in_ operator to check if a certain element is in a list."
   ]
  },
  {
   "cell_type": "code",
   "execution_count": 12,
   "metadata": {
    "slideshow": {
     "slide_type": "fragment"
    }
   },
   "outputs": [
    {
     "data": {
      "text/plain": [
       "True"
      ]
     },
     "execution_count": 12,
     "metadata": {},
     "output_type": "execute_result"
    }
   ],
   "source": [
    "54 in a_list"
   ]
  },
  {
   "cell_type": "code",
   "execution_count": 13,
   "metadata": {
    "slideshow": {
     "slide_type": "fragment"
    }
   },
   "outputs": [
    {
     "data": {
      "text/plain": [
       "False"
      ]
     },
     "execution_count": 13,
     "metadata": {},
     "output_type": "execute_result"
    }
   ],
   "source": [
    "64 in a_list"
   ]
  },
  {
   "cell_type": "code",
   "execution_count": null,
   "metadata": {
    "slideshow": {
     "slide_type": "fragment"
    }
   },
   "outputs": [],
   "source": [
    "# not, however, with sequences of items!\n",
    "[3, 7] in a_list"
   ]
  },
  {
   "cell_type": "markdown",
   "metadata": {
    "slideshow": {
     "slide_type": "slide"
    }
   },
   "source": [
    "## The methods in a list\n",
    "\n",
    "Lists also have internal methods."
   ]
  },
  {
   "cell_type": "code",
   "execution_count": 24,
   "metadata": {
    "slideshow": {
     "slide_type": "fragment"
    }
   },
   "outputs": [
    {
     "data": {
      "text/plain": [
       "[3, 7, 34, 97, 54, 29]"
      ]
     },
     "execution_count": 24,
     "metadata": {},
     "output_type": "execute_result"
    }
   ],
   "source": [
    "a_list"
   ]
  },
  {
   "cell_type": "code",
   "execution_count": 25,
   "metadata": {
    "slideshow": {
     "slide_type": "fragment"
    }
   },
   "outputs": [
    {
     "data": {
      "text/plain": [
       "[3, 7, 29, 34, 54, 97]"
      ]
     },
     "execution_count": 25,
     "metadata": {},
     "output_type": "execute_result"
    }
   ],
   "source": [
    "a_list.sort()\n",
    "a_list"
   ]
  },
  {
   "cell_type": "code",
   "execution_count": 26,
   "metadata": {
    "slideshow": {
     "slide_type": "fragment"
    }
   },
   "outputs": [
    {
     "data": {
      "text/plain": [
       "[3, 7, 29, 34, 54, 97, 867]"
      ]
     },
     "execution_count": 26,
     "metadata": {},
     "output_type": "execute_result"
    }
   ],
   "source": [
    "a_list.append(867)\n",
    "a_list"
   ]
  },
  {
   "cell_type": "code",
   "execution_count": 27,
   "metadata": {
    "slideshow": {
     "slide_type": "fragment"
    }
   },
   "outputs": [
    {
     "data": {
      "text/plain": [
       "[867, 97, 54, 34, 29, 7, 3]"
      ]
     },
     "execution_count": 27,
     "metadata": {},
     "output_type": "execute_result"
    }
   ],
   "source": [
    "a_list.reverse()\n",
    "a_list"
   ]
  },
  {
   "cell_type": "markdown",
   "metadata": {
    "slideshow": {
     "slide_type": "slide"
    }
   },
   "source": [
    "## About mutability\n",
    "\n",
    "Hang on a moment! Why don't we need to save it in a (new) variable whenever we do something?\n",
    "\n",
    "We don't, because lists are **mutable**, meaning that we **can** change the internal state of a list.\n",
    "\n",
    "Strings, on the contrary, are **immutable**, meaning that we **cannot** change the internal state but have to create a **new instance** if we want to change it."
   ]
  },
  {
   "cell_type": "code",
   "execution_count": 40,
   "metadata": {
    "slideshow": {
     "slide_type": "subslide"
    }
   },
   "outputs": [
    {
     "data": {
      "text/plain": [
       "'a sample string'"
      ]
     },
     "execution_count": 40,
     "metadata": {},
     "output_type": "execute_result"
    }
   ],
   "source": [
    "a_string = 'a sample string'  # the string is initialized\n",
    "a_string.upper()  # we call an internal method, which returns another version of the string\n",
    "a_string  # the original string is unaltered"
   ]
  },
  {
   "cell_type": "code",
   "execution_count": 39,
   "metadata": {
    "slideshow": {
     "slide_type": "fragment"
    }
   },
   "outputs": [
    {
     "data": {
      "text/plain": [
       "['a', 'list', 'of', 'strings', '!']"
      ]
     },
     "execution_count": 39,
     "metadata": {},
     "output_type": "execute_result"
    }
   ],
   "source": [
    "another_list = ['a', 'list', 'of', 'strings']  # the list is initialized\n",
    "another_list.append('!')  # we cal an internal method, which alters the list\n",
    "another_list  # the original list is altered"
   ]
  },
  {
   "cell_type": "markdown",
   "metadata": {
    "slideshow": {
     "slide_type": "slide"
    }
   },
   "source": [
    "## Nested lists\n",
    "\n",
    "Since lists can contain anything, they can also contain other lists (which, in turn, can contain lists - and so, ad infinitum).\n",
    "\n",
    "This is a very handy data structure, but too much nesting can become impossible to handle.\n",
    "\n",
    "Let's see how it can work!"
   ]
  },
  {
   "cell_type": "code",
   "execution_count": 41,
   "metadata": {
    "slideshow": {
     "slide_type": "subslide"
    }
   },
   "outputs": [
    {
     "data": {
      "text/plain": [
       "[[1, 2, 3], [2, 3, 4], [3, 4, 5], [4, 5, 6]]"
      ]
     },
     "execution_count": 41,
     "metadata": {},
     "output_type": "execute_result"
    }
   ],
   "source": [
    "# for readability, we can put out the nested lists on a line each\n",
    "a_nested_list = [[1, 2, 3],\n",
    "                 [2, 3, 4],\n",
    "                 [3, 4, 5],\n",
    "                 [4, 5, 6]\n",
    "                ]\n",
    "a_nested_list"
   ]
  },
  {
   "cell_type": "code",
   "execution_count": 42,
   "metadata": {
    "slideshow": {
     "slide_type": "subslide"
    }
   },
   "outputs": [
    {
     "name": "stdout",
     "output_type": "stream",
     "text": [
      "[1, 2, 3]\n",
      "[2, 3, 4]\n",
      "[3, 4, 5]\n",
      "[4, 5, 6]\n"
     ]
    }
   ],
   "source": [
    "# when we loop over the nested list, we retrieve each of the inner lists one by one\n",
    "for item in a_nested_list:\n",
    "    print(item)"
   ]
  },
  {
   "cell_type": "code",
   "execution_count": 43,
   "metadata": {
    "slideshow": {
     "slide_type": "subslide"
    }
   },
   "outputs": [
    {
     "name": "stdout",
     "output_type": "stream",
     "text": [
      "1\n",
      "2\n",
      "3\n",
      "2\n",
      "3\n",
      "4\n",
      "3\n",
      "4\n",
      "5\n",
      "4\n",
      "5\n",
      "6\n"
     ]
    }
   ],
   "source": [
    "# therefore, we can make nested loops\n",
    "for inner_list in a_nested_list:\n",
    "    for number in inner_list:\n",
    "        print(number)"
   ]
  },
  {
   "cell_type": "code",
   "execution_count": 46,
   "metadata": {
    "slideshow": {
     "slide_type": "subslide"
    }
   },
   "outputs": [
    {
     "data": {
      "text/plain": [
       "[4.666666666666667, 9.666666666666666, 16.666666666666668, 25.666666666666668]"
      ]
     },
     "execution_count": 46,
     "metadata": {},
     "output_type": "execute_result"
    }
   ],
   "source": [
    "# we can do some things in the outer loop and other things in the inner loop\n",
    "# what is executed when?\n",
    "\n",
    "# calculate the mean of squares for each list and append it to another list\n",
    "means = []\n",
    "for inner_list in a_nested_list:\n",
    "    total = 0  # initalialize as 0 for each list\n",
    "    for number in inner_list:\n",
    "        number_squared = number ** 2\n",
    "        total += number_squared\n",
    "    mean_of_squares = total / len(inner_list)\n",
    "    means.append(mean_of_squares)\n",
    "\n",
    "means  # check that we've made a list"
   ]
  },
  {
   "cell_type": "markdown",
   "metadata": {
    "slideshow": {
     "slide_type": "slide"
    }
   },
   "source": [
    "## An alternative list: the set\n",
    "\n",
    "They are made with `{item1, item2, item3}`\n",
    "\n",
    "They somewhat similar to lists, but there are two major differences:"
   ]
  },
  {
   "cell_type": "markdown",
   "metadata": {
    "slideshow": {
     "slide_type": "subslide"
    }
   },
   "source": [
    "### Lists are ordered; sets are not!"
   ]
  },
  {
   "cell_type": "code",
   "execution_count": 49,
   "metadata": {
    "slideshow": {
     "slide_type": "fragment"
    }
   },
   "outputs": [
    {
     "data": {
      "text/plain": [
       "['another',\n",
       " 'list',\n",
       " 'of',\n",
       " 'strings',\n",
       " 'ordered',\n",
       " 'after',\n",
       " 'their',\n",
       " 'original',\n",
       " 'order']"
      ]
     },
     "execution_count": 49,
     "metadata": {},
     "output_type": "execute_result"
    }
   ],
   "source": [
    "a_list_of_strings = ['another', 'list', 'of', 'strings', 'ordered', 'after', 'their', 'original', 'order']\n",
    "a_list_of_strings"
   ]
  },
  {
   "cell_type": "code",
   "execution_count": 50,
   "metadata": {
    "scrolled": true,
    "slideshow": {
     "slide_type": "fragment"
    }
   },
   "outputs": [
    {
     "data": {
      "text/plain": [
       "{'after',\n",
       " 'another',\n",
       " 'list',\n",
       " 'of',\n",
       " 'order',\n",
       " 'ordered',\n",
       " 'original',\n",
       " 'strings',\n",
       " 'their'}"
      ]
     },
     "execution_count": 50,
     "metadata": {},
     "output_type": "execute_result"
    }
   ],
   "source": [
    "a_set_of_strings = {'another', 'list', 'of', 'strings', 'ordered', 'after', 'their', 'original', 'order'}\n",
    "a_set_of_strings  # as default, they come sorted if possible, but it's not a given!"
   ]
  },
  {
   "cell_type": "markdown",
   "metadata": {
    "slideshow": {
     "slide_type": "subslide"
    }
   },
   "source": [
    "### Lists can contain duplicates; sets can not!"
   ]
  },
  {
   "cell_type": "code",
   "execution_count": 51,
   "metadata": {
    "slideshow": {
     "slide_type": "fragment"
    }
   },
   "outputs": [
    {
     "data": {
      "text/plain": [
       "[1, 1, 1, 4, 6, 34, 1]"
      ]
     },
     "execution_count": 51,
     "metadata": {},
     "output_type": "execute_result"
    }
   ],
   "source": [
    "a_list_with_duplicates = [1, 1, 1, 4, 6, 34, 1]\n",
    "a_list_with_duplicates"
   ]
  },
  {
   "cell_type": "code",
   "execution_count": 53,
   "metadata": {
    "slideshow": {
     "slide_type": "fragment"
    }
   },
   "outputs": [
    {
     "data": {
      "text/plain": [
       "{1, 4, 6, 34}"
      ]
     },
     "execution_count": 53,
     "metadata": {},
     "output_type": "execute_result"
    }
   ],
   "source": [
    "a_set_with_duplicates = {1, 1, 1, 4, 6, 34, 1}\n",
    "a_set_with_duplicates"
   ]
  },
  {
   "cell_type": "markdown",
   "metadata": {
    "slideshow": {
     "slide_type": "subslide"
    }
   },
   "source": [
    "## Possible usage of sets: type-to-token ratio"
   ]
  },
  {
   "cell_type": "code",
   "execution_count": 65,
   "metadata": {
    "slideshow": {
     "slide_type": "fragment"
    }
   },
   "outputs": [
    {
     "name": "stdout",
     "output_type": "stream",
     "text": [
      "TTR: 0.87\n"
     ]
    }
   ],
   "source": [
    "# suppose that we retrieve a list of words uttered by a child in a transcript\n",
    "tokens = ['big','drum', 'horse', 'who', 'is', 'that', 'those', 'are', 'checkers', 'two', 'checkers',\n",
    "          'yes', 'play', 'checkers', 'big', 'horn', 'get', 'over', 'Mommy', 'shadow', 'I', 'like', 'it']\n",
    "types = set(tokens)  # convert the list to a set\n",
    "print('TTR:', round(len(types) / len(tokens), 3))  # calculate and report TTR"
   ]
  },
  {
   "cell_type": "code",
   "execution_count": null,
   "metadata": {},
   "outputs": [],
   "source": []
  }
 ],
 "metadata": {
  "celltoolbar": "Slideshow",
  "kernelspec": {
   "display_name": "Python 3",
   "language": "python",
   "name": "python3"
  },
  "language_info": {
   "codemirror_mode": {
    "name": "ipython",
    "version": 3
   },
   "file_extension": ".py",
   "mimetype": "text/x-python",
   "name": "python",
   "nbconvert_exporter": "python",
   "pygments_lexer": "ipython3",
   "version": "3.6.8"
  }
 },
 "nbformat": 4,
 "nbformat_minor": 2
}
