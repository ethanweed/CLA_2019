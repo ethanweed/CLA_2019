{
 "cells": [
  {
   "cell_type": "markdown",
   "metadata": {
    "slideshow": {
     "slide_type": "slide"
    }
   },
   "source": [
    "# Lesson 3: Errors, strings and readable code"
   ]
  },
  {
   "cell_type": "markdown",
   "metadata": {
    "slideshow": {
     "slide_type": "slide"
    }
   },
   "source": [
    "## Recall from last week\n",
    "\n",
    "### Arithmetic\n",
    "We can do basic mathematical operations in python with `+`, `-`, `*`, `/`, `**`, `//` and `%`.\n",
    "\n",
    "We can call other mathematical functions and operations from the `math` module, e.g. `math.sqrt(x)`.\n",
    "\n",
    "### Flow control: _if_-statements\n",
    "We can control the flow of a program by conditioning it into doing certain things.\n",
    "\n",
    "These conditions are written as boolean expressions with a truth value.\n",
    "\n",
    "Such expressions can be combined into more complex expressions with `and`, `or` and `not`."
   ]
  },
  {
   "cell_type": "markdown",
   "metadata": {
    "slideshow": {
     "slide_type": "slide"
    }
   },
   "source": [
    "# Errors and how to handle them\n",
    "\n",
    "```\n",
    "  File \"<ipython-input-1-7a8a49ad5eea>\", line 11\n",
    "    for item in my_list\n",
    "                      ^\n",
    "SyntaxError: invalid syntax\n",
    "```"
   ]
  },
  {
   "cell_type": "markdown",
   "metadata": {
    "slideshow": {
     "slide_type": "slide"
    }
   },
   "source": [
    "## Syntax errors\n",
    "\n",
    "Syntax errors are things in the code which Python does not understand.\n",
    "\n",
    "They are thrown before the code is executed.\n",
    "\n",
    "These are often caused by e.g.:\n",
    "\n",
    "- wrong use of operators\n",
    "- missing or superfluous brackets, e.g. `print('a string'` or `print('a string))'`\n",
    "- wrong indentations\n",
    "- stray symbols from deleted code\n",
    "- missing symbols"
   ]
  },
  {
   "cell_type": "code",
   "execution_count": 1,
   "metadata": {
    "slideshow": {
     "slide_type": "subslide"
    }
   },
   "outputs": [
    {
     "ename": "SyntaxError",
     "evalue": "invalid syntax (<ipython-input-1-7a8a49ad5eea>, line 1)",
     "output_type": "error",
     "traceback": [
      "\u001b[0;36m  File \u001b[0;32m\"<ipython-input-1-7a8a49ad5eea>\"\u001b[0;36m, line \u001b[0;32m1\u001b[0m\n\u001b[0;31m    for i in range(10)\u001b[0m\n\u001b[0m                      ^\u001b[0m\n\u001b[0;31mSyntaxError\u001b[0m\u001b[0;31m:\u001b[0m invalid syntax\n"
     ]
    }
   ],
   "source": [
    "for i in range(10)\n",
    "    print(i)"
   ]
  },
  {
   "cell_type": "markdown",
   "metadata": {
    "slideshow": {
     "slide_type": "slide"
    }
   },
   "source": [
    "## Runtime errors\n",
    "\n",
    "Runtime errors occur when Python tries to do something which it cannot do/is not allowed to do.\n",
    "\n",
    "They are thrown during execution of the code.\n",
    "\n",
    "There are numerous kinds of runtime errors, depending on the thing that goes wrong.\n",
    "\n",
    "An example is `TypeError` which occurs when the type of a variable's value does not allow for a certain operation."
   ]
  },
  {
   "cell_type": "code",
   "execution_count": 2,
   "metadata": {
    "slideshow": {
     "slide_type": "subslide"
    }
   },
   "outputs": [
    {
     "ename": "TypeError",
     "evalue": "must be str, not int",
     "output_type": "error",
     "traceback": [
      "\u001b[0;31m---------------------------------------------------------------------------\u001b[0m",
      "\u001b[0;31mTypeError\u001b[0m                                 Traceback (most recent call last)",
      "\u001b[0;32m<ipython-input-2-93066f1dc4cf>\u001b[0m in \u001b[0;36m<module>\u001b[0;34m()\u001b[0m\n\u001b[1;32m      1\u001b[0m \u001b[0mfirst_number\u001b[0m \u001b[0;34m=\u001b[0m \u001b[0;34m'23'\u001b[0m\u001b[0;34m\u001b[0m\u001b[0;34m\u001b[0m\u001b[0m\n\u001b[1;32m      2\u001b[0m \u001b[0msecond_number\u001b[0m \u001b[0;34m=\u001b[0m \u001b[0;36m54\u001b[0m\u001b[0;34m\u001b[0m\u001b[0;34m\u001b[0m\u001b[0m\n\u001b[0;32m----> 3\u001b[0;31m \u001b[0mprint\u001b[0m\u001b[0;34m(\u001b[0m\u001b[0mfirst_number\u001b[0m \u001b[0;34m+\u001b[0m \u001b[0msecond_number\u001b[0m\u001b[0;34m)\u001b[0m\u001b[0;34m\u001b[0m\u001b[0;34m\u001b[0m\u001b[0m\n\u001b[0m",
      "\u001b[0;31mTypeError\u001b[0m: must be str, not int"
     ]
    }
   ],
   "source": [
    "first_number = '23'\n",
    "second_number = 54\n",
    "print(first_number + second_number)"
   ]
  },
  {
   "cell_type": "code",
   "execution_count": 3,
   "metadata": {
    "slideshow": {
     "slide_type": "subslide"
    }
   },
   "outputs": [
    {
     "ename": "TypeError",
     "evalue": "'int' object is not iterable",
     "output_type": "error",
     "traceback": [
      "\u001b[0;31m---------------------------------------------------------------------------\u001b[0m",
      "\u001b[0;31mTypeError\u001b[0m                                 Traceback (most recent call last)",
      "\u001b[0;32m<ipython-input-3-abfd98bcdcb6>\u001b[0m in \u001b[0;36m<module>\u001b[0;34m()\u001b[0m\n\u001b[0;32m----> 1\u001b[0;31m \u001b[0;32mfor\u001b[0m \u001b[0mi\u001b[0m \u001b[0;32min\u001b[0m \u001b[0msecond_number\u001b[0m\u001b[0;34m:\u001b[0m\u001b[0;34m\u001b[0m\u001b[0;34m\u001b[0m\u001b[0m\n\u001b[0m\u001b[1;32m      2\u001b[0m     \u001b[0mprint\u001b[0m\u001b[0;34m(\u001b[0m\u001b[0mi\u001b[0m\u001b[0;34m)\u001b[0m\u001b[0;34m\u001b[0m\u001b[0;34m\u001b[0m\u001b[0m\n",
      "\u001b[0;31mTypeError\u001b[0m: 'int' object is not iterable"
     ]
    }
   ],
   "source": [
    "for i in second_number:\n",
    "    print(i)"
   ]
  },
  {
   "cell_type": "markdown",
   "metadata": {
    "slideshow": {
     "slide_type": "slide"
    }
   },
   "source": [
    "## What to do?\n",
    "\n",
    "Look at the error message and see if you can work out what is going wrong.\n",
    "\n",
    "Python gives three hints: line number, error type and error message.\n",
    "\n",
    "The internet often has answers, but it can also provide over-technical answers which can be confusing."
   ]
  },
  {
   "cell_type": "markdown",
   "metadata": {
    "slideshow": {
     "slide_type": "slide"
    }
   },
   "source": [
    "# Strings"
   ]
  },
  {
   "cell_type": "markdown",
   "metadata": {
    "slideshow": {
     "slide_type": "slide"
    }
   },
   "source": [
    "## The basics\n",
    "\n",
    "Strings are created as\n",
    "- `'a string'`\n",
    "- `\"another string\"`\n",
    "- ```\"\"\"a string\n",
    "which spans multiple lines\"\"\"```\n",
    "\n",
    "They can be **concatenated** (= glued together) with `+`, e.g. `'monty' + ' ' + 'python'` -> `'monty python'`\n",
    "\n",
    "They can also be **multiplicated** with `*`, e.g. `'-' * 5` -> `'-----'`"
   ]
  },
  {
   "cell_type": "markdown",
   "metadata": {
    "slideshow": {
     "slide_type": "slide"
    }
   },
   "source": [
    "## What is a string ***really***?\n",
    "\n",
    "A string is basically a **list** of characters (though there are some differences)\n",
    "\n",
    "Therefore, we can do a lot of things with strings which we can also do with lists:"
   ]
  },
  {
   "cell_type": "markdown",
   "metadata": {
    "slideshow": {
     "slide_type": "subslide"
    }
   },
   "source": [
    "### The characters of a string have indices\n",
    "\n",
    "This means we can point to certain characters:"
   ]
  },
  {
   "cell_type": "code",
   "execution_count": 4,
   "metadata": {
    "slideshow": {
     "slide_type": "fragment"
    }
   },
   "outputs": [
    {
     "name": "stdout",
     "output_type": "stream",
     "text": [
      "the character with index [0]: h\n",
      "the character with index [2]: l\n"
     ]
    }
   ],
   "source": [
    "# indices start at 0!\n",
    "# Why? Because that how computer scientists like it\n",
    "a_string = 'hello'\n",
    "print('the character with index [0]:', a_string[0])\n",
    "print('the character with index [2]:', a_string[2])"
   ]
  },
  {
   "cell_type": "code",
   "execution_count": 5,
   "metadata": {
    "slideshow": {
     "slide_type": "fragment"
    }
   },
   "outputs": [
    {
     "name": "stdout",
     "output_type": "stream",
     "text": [
      "the character with index [-1]: ?\n",
      "the character with index [-6]: e\n"
     ]
    }
   ],
   "source": [
    "# we can also index from the end of the string\n",
    "# here it begins with -1 (can someone say why?)\n",
    "another_string = 'how are you?'\n",
    "print('the character with index [-1]:', another_string[-1])\n",
    "print('the character with index [-6]:', another_string[-6])"
   ]
  },
  {
   "cell_type": "markdown",
   "metadata": {
    "slideshow": {
     "slide_type": "subslide"
    }
   },
   "source": [
    "### Getting **slices** of strings\n",
    "\n",
    "We can point to the endpoints of a certain section of a string:"
   ]
  },
  {
   "cell_type": "code",
   "execution_count": 6,
   "metadata": {
    "slideshow": {
     "slide_type": "fragment"
    }
   },
   "outputs": [
    {
     "name": "stdout",
     "output_type": "stream",
     "text": [
      "the slice with indices [3:8]: are d\n"
     ]
    }
   ],
   "source": [
    "a_new_string = 'we are doing fine'\n",
    "print('the slice with indices [3:8]:', a_new_string[3:8])"
   ]
  },
  {
   "cell_type": "code",
   "execution_count": 7,
   "metadata": {
    "slideshow": {
     "slide_type": "fragment"
    }
   },
   "outputs": [
    {
     "name": "stdout",
     "output_type": "stream",
     "text": [
      "the slice with indices [:9]: we are do\n",
      "the slice with indices [5:]: e doing fine\n"
     ]
    }
   ],
   "source": [
    "# we can leave out an endpoint\n",
    "print('the slice with indices [:9]:', a_new_string[:9])\n",
    "print('the slice with indices [5:]:', a_new_string[5:])"
   ]
  },
  {
   "cell_type": "markdown",
   "metadata": {
    "slideshow": {
     "slide_type": "fragment"
    }
   },
   "source": [
    "Notice which characters are included and which are not. What is going on?\n",
    "\n",
    "Does this remind you of something?"
   ]
  },
  {
   "cell_type": "markdown",
   "metadata": {
    "slideshow": {
     "slide_type": "slide"
    }
   },
   "source": [
    "### The _in_ operator\n",
    "\n",
    "This was mentioned last time. But we didn't do much with it. Let's see how it works!"
   ]
  },
  {
   "cell_type": "code",
   "execution_count": 8,
   "metadata": {
    "slideshow": {
     "slide_type": "fragment"
    }
   },
   "outputs": [
    {
     "data": {
      "text/plain": [
       "True"
      ]
     },
     "execution_count": 8,
     "metadata": {},
     "output_type": "execute_result"
    }
   ],
   "source": [
    "# if the character occurs in the string, we get True\n",
    "'a' in 'a string'"
   ]
  },
  {
   "cell_type": "code",
   "execution_count": 9,
   "metadata": {
    "slideshow": {
     "slide_type": "fragment"
    }
   },
   "outputs": [
    {
     "data": {
      "text/plain": [
       "True"
      ]
     },
     "execution_count": 9,
     "metadata": {},
     "output_type": "execute_result"
    }
   ],
   "source": [
    "# it can also be sequences of characters\n",
    "'es' in 'test'"
   ]
  },
  {
   "cell_type": "code",
   "execution_count": 10,
   "metadata": {
    "slideshow": {
     "slide_type": "fragment"
    }
   },
   "outputs": [
    {
     "data": {
      "text/plain": [
       "False"
      ]
     },
     "execution_count": 10,
     "metadata": {},
     "output_type": "execute_result"
    }
   ],
   "source": [
    "# the actual sequence matters\n",
    "'tt' in 'two unvoiced alveolar stops'"
   ]
  },
  {
   "cell_type": "markdown",
   "metadata": {
    "slideshow": {
     "slide_type": "slide"
    }
   },
   "source": [
    "### Iterating over a string\n",
    "\n",
    "Just like we can do it with lists, we can iterate over a string:"
   ]
  },
  {
   "cell_type": "code",
   "execution_count": 11,
   "metadata": {
    "slideshow": {
     "slide_type": "fragment"
    }
   },
   "outputs": [
    {
     "name": "stdout",
     "output_type": "stream",
     "text": [
      "h\n",
      "e\n",
      "l\n",
      "l\n",
      "o\n"
     ]
    }
   ],
   "source": [
    "for char in a_string:\n",
    "    print(char)"
   ]
  },
  {
   "cell_type": "code",
   "execution_count": 12,
   "metadata": {
    "slideshow": {
     "slide_type": "fragment"
    }
   },
   "outputs": [
    {
     "name": "stdout",
     "output_type": "stream",
     "text": [
      "h\n",
      "e\n",
      "l\n"
     ]
    }
   ],
   "source": [
    "# what's going on here?\n",
    "for i in range(3):\n",
    "    print(a_string[i])"
   ]
  },
  {
   "cell_type": "markdown",
   "metadata": {
    "slideshow": {
     "slide_type": "slide"
    }
   },
   "source": [
    "## The **methods** in a string\n",
    "\n",
    "A string is a co-called **object** with internal **methods**.\n",
    "\n",
    "These methods can be accessed with the **dot-operator** `.`:"
   ]
  },
  {
   "cell_type": "code",
   "execution_count": 1,
   "metadata": {
    "slideshow": {
     "slide_type": "fragment"
    }
   },
   "outputs": [
    {
     "data": {
      "text/plain": [
       "'i am yelling!'"
      ]
     },
     "execution_count": 1,
     "metadata": {},
     "output_type": "execute_result"
    }
   ],
   "source": [
    "a_capitalized_string = 'I AM YELLING!'\n",
    "a_capitalized_string.lower()"
   ]
  },
  {
   "cell_type": "markdown",
   "metadata": {
    "slideshow": {
     "slide_type": "subslide"
    }
   },
   "source": [
    "What happens is that, from within the string itself, a **new** string is created and **returned**. The string is not changed internally.\n",
    "\n",
    "What does this mean?"
   ]
  },
  {
   "cell_type": "code",
   "execution_count": 14,
   "metadata": {
    "slideshow": {
     "slide_type": "fragment"
    }
   },
   "outputs": [
    {
     "data": {
      "text/plain": [
       "'I AM YELLING!'"
      ]
     },
     "execution_count": 14,
     "metadata": {},
     "output_type": "execute_result"
    }
   ],
   "source": [
    "# the value of the previous variable is still the orginal value\n",
    "a_capitalized_string"
   ]
  },
  {
   "cell_type": "code",
   "execution_count": 15,
   "metadata": {
    "slideshow": {
     "slide_type": "fragment"
    }
   },
   "outputs": [
    {
     "data": {
      "text/plain": [
       "'i am yelling!'"
      ]
     },
     "execution_count": 15,
     "metadata": {},
     "output_type": "execute_result"
    }
   ],
   "source": [
    "# we can save the returned string in another variable\n",
    "a_decapitalized_string = a_capitalized_string.lower()\n",
    "a_decapitalized_string"
   ]
  },
  {
   "cell_type": "code",
   "execution_count": 16,
   "metadata": {
    "slideshow": {
     "slide_type": "fragment"
    }
   },
   "outputs": [
    {
     "data": {
      "text/plain": [
       "'I AM YELLING!'"
      ]
     },
     "execution_count": 16,
     "metadata": {},
     "output_type": "execute_result"
    }
   ],
   "source": [
    "# still, this does not change the internal state of the original string\n",
    "a_capitalized_string"
   ]
  },
  {
   "cell_type": "markdown",
   "metadata": {
    "slideshow": {
     "slide_type": "subslide"
    }
   },
   "source": [
    "The methods are many! They can return different kinds of values. Some even take an input."
   ]
  },
  {
   "cell_type": "code",
   "execution_count": 17,
   "metadata": {
    "slideshow": {
     "slide_type": "fragment"
    }
   },
   "outputs": [
    {
     "data": {
      "text/plain": [
       "True"
      ]
     },
     "execution_count": 17,
     "metadata": {},
     "output_type": "execute_result"
    }
   ],
   "source": [
    "# tells whether the string is made up solely of alphabetic characters\n",
    "a_string.isalpha()"
   ]
  },
  {
   "cell_type": "code",
   "execution_count": 18,
   "metadata": {
    "slideshow": {
     "slide_type": "fragment"
    }
   },
   "outputs": [
    {
     "data": {
      "text/plain": [
       "1"
      ]
     },
     "execution_count": 18,
     "metadata": {},
     "output_type": "execute_result"
    }
   ],
   "source": [
    "# find the first occurence of a character\n",
    "# the return value is the index of the character\n",
    "a_string.find('e')"
   ]
  },
  {
   "cell_type": "code",
   "execution_count": 19,
   "metadata": {
    "slideshow": {
     "slide_type": "fragment"
    }
   },
   "outputs": [
    {
     "data": {
      "text/plain": [
       "True"
      ]
     },
     "execution_count": 19,
     "metadata": {},
     "output_type": "execute_result"
    }
   ],
   "source": [
    "a_string.endswith('o')"
   ]
  },
  {
   "cell_type": "markdown",
   "metadata": {
    "slideshow": {
     "slide_type": "slide"
    }
   },
   "source": [
    "# Readable code"
   ]
  },
  {
   "cell_type": "markdown",
   "metadata": {
    "slideshow": {
     "slide_type": "slide"
    }
   },
   "source": [
    "Any good guesses on what's going on here?"
   ]
  },
  {
   "cell_type": "code",
   "execution_count": 20,
   "metadata": {
    "slideshow": {
     "slide_type": "fragment"
    }
   },
   "outputs": [
    {
     "name": "stdout",
     "output_type": "stream",
     "text": [
      "5.21978021978022\n"
     ]
    }
   ],
   "source": [
    "from string import punctuation\n",
    "\n",
    "var = \"Lorem Ipsum is simply dummy text of the printing and typesetting industry. Lorem Ipsum has been the industry's standard dummy text ever since the 1500s, when an unknown printer took a galley of type and scrambled it to make a type specimen book. It has survived not only five centuries, but also the leap into electronic typesetting, remaining essentially unchanged. It was popularised in the 1960s with the release of Letraset sheets containing Lorem Ipsum passages, and more recently with desktop publishing software like Aldus PageMaker including versions of Lorem Ipsum.\"\n",
    "\n",
    "print(\n",
    "    sum(\n",
    "        len(w) for w in ''.join(\n",
    "            c for c in var if c not in punctuation\n",
    "        ).split()\n",
    "    )\n",
    "    / len(var.split())\n",
    ")"
   ]
  },
  {
   "cell_type": "markdown",
   "metadata": {
    "slideshow": {
     "slide_type": "subslide"
    }
   },
   "source": [
    "What about now?"
   ]
  },
  {
   "cell_type": "code",
   "execution_count": 21,
   "metadata": {
    "slideshow": {
     "slide_type": "fragment"
    }
   },
   "outputs": [
    {
     "name": "stdout",
     "output_type": "stream",
     "text": [
      "Mean length of words in the text: 5.22\n"
     ]
    }
   ],
   "source": [
    "from string import punctuation\n",
    "\n",
    "# this short program prints the mean number of characters per word\n",
    "\n",
    "# load some text\n",
    "text = var # we'll use the text from before\n",
    "\n",
    "# clean the text from punctuation\n",
    "clean_text = ''\n",
    "for char in text:\n",
    "    # add the char only if it's not punctuation\n",
    "    if char not in punctuation:\n",
    "        clean_text += char\n",
    "\n",
    "# make the text into a list\n",
    "tokens = clean_text.split()\n",
    "\n",
    "# calculate total number of characters\n",
    "n_chars = 0\n",
    "for token in tokens:\n",
    "    n_chars += len(token)\n",
    "    \n",
    "# the number of words\n",
    "n_words = len(tokens)\n",
    "\n",
    "# report mean number of characters per word\n",
    "print('Mean length of words in the text:', round(n_chars / n_words, 2))"
   ]
  },
  {
   "cell_type": "markdown",
   "metadata": {
    "slideshow": {
     "slide_type": "slide"
    }
   },
   "source": [
    "## Exercise 1, ch. 6\n",
    "\n",
    "Compare your code from this exercise.\n",
    "\n",
    "First discuss how it can be done.\n",
    "\n",
    "Then, discuss how it can be made clear what is going on."
   ]
  },
  {
   "cell_type": "code",
   "execution_count": null,
   "metadata": {
    "slideshow": {
     "slide_type": "skip"
    }
   },
   "outputs": [],
   "source": [
    "user_string = input('Please, provide a string: ')\n",
    "\n",
    "# we use len() to retrieve the number of characters\n",
    "print('The total number of characters in the string:', len(user_string))\n",
    "\n",
    "# we can multiplicate strings\n",
    "print('The string repeated 10 times:')\n",
    "print(user_string * 10)\n",
    "\n",
    "# retrieve the char with index 0\n",
    "print('The first character of the string:', user_string[0])\n",
    "\n",
    "# use slicing to get the first three chars of the string\n",
    "print('The first three characters of the string:', user_string[:3])\n",
    "\n",
    "# and the last three\n",
    "print('The last three characters of the string:', user_string[-3:])\n",
    "\n",
    "# loop over the string backwards by backwards indexing with a decreasing range\n",
    "print('The string backwards: ', end='')\n",
    "for i in range(-1, -(len(user_string) + 1), -1):\n",
    "    print(user_string[i], end='')\n",
    "print()  # just for newline\n",
    "\n",
    "# or we can cheat\n",
    "print('The string backwards (by cheating):', ''.join(reversed(user_string)))\n",
    "\n",
    "# check if there are seven characters. If so, print it; else tell it\n",
    "if len(user_string) >= 7:\n",
    "    print('The seventh character of the string: ', user_string[6])\n",
    "else:\n",
    "    print('The string is not long enough for me to print the seventh character.')\n",
    "\n",
    "# the string with first and last character removed - using slicing\n",
    "print('The string with its first and last characters removed: ', user_string[1:-1])\n",
    "\n",
    "# we use methods to make the string into all caps\n",
    "print('The string in all caps:', user_string.upper())\n",
    "\n",
    "# use a for loop to build the string\n",
    "a_instead_of_e = ''\n",
    "for char in user_string:\n",
    "    if char == 'a':  # switch any a's\n",
    "        a_instead_of_e += 'e'\n",
    "    else:  # if not an a, just put the original char on the string\n",
    "        a_instead_of_e += char\n",
    "print('The string with all a\\'s replaced with e\\'s:', a_instead_of_e)"
   ]
  },
  {
   "cell_type": "code",
   "execution_count": null,
   "metadata": {},
   "outputs": [],
   "source": []
  }
 ],
 "metadata": {
  "celltoolbar": "Slideshow",
  "kernelspec": {
   "display_name": "Python 3",
   "language": "python",
   "name": "python3"
  },
  "language_info": {
   "codemirror_mode": {
    "name": "ipython",
    "version": 3
   },
   "file_extension": ".py",
   "mimetype": "text/x-python",
   "name": "python",
   "nbconvert_exporter": "python",
   "pygments_lexer": "ipython3",
   "version": "3.6.8"
  }
 },
 "nbformat": 4,
 "nbformat_minor": 2
}
