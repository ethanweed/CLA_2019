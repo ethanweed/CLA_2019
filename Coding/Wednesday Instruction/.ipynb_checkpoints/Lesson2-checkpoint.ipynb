{
 "cells": [
  {
   "cell_type": "markdown",
   "metadata": {
    "slideshow": {
     "slide_type": "slide"
    }
   },
   "source": [
    "# Lesson 2: Arithmetic and flow control"
   ]
  },
  {
   "cell_type": "markdown",
   "metadata": {
    "slideshow": {
     "slide_type": "slide"
    }
   },
   "source": [
    "## Quick recommendation\n",
    "\n",
    "To grasp how code examples work, it may help to run it yourselves.\n",
    "\n",
    "Type in examples from Heinold (2012) while reading; figure out the point of each line!\n",
    "\n",
    "Add comments with _#_ in any code to clarify and remember:\n",
    "``` python\n",
    "# here, we frobnicate the user's input\n",
    "foo = input('Please, input a number')  # get the user's input\n",
    "bar = frobnicate(foo)  # frobnicate it\n",
    "print(bar)  # report the frobnicated value\n",
    "```\n",
    "\n",
    "Have a look at exercises after each chapter. Don't necessarily do them, but think about how it _could_ be done."
   ]
  },
  {
   "cell_type": "markdown",
   "metadata": {
    "slideshow": {
     "slide_type": "slide"
    }
   },
   "source": [
    "## Recall from last week: variables and _for_-loops"
   ]
  },
  {
   "cell_type": "markdown",
   "metadata": {
    "slideshow": {
     "slide_type": "fragment"
    }
   },
   "source": [
    "### Variables\n",
    "\n",
    "Variables have a name and a value\n",
    "\n",
    "It can be helpful to imagine variables as \"containers\"\n",
    "\n",
    "Variables makes it possible to make **generalize**\n",
    "\n",
    "Variable names should be only in lower case letters; multi word variables can be separated by underscores"
   ]
  },
  {
   "cell_type": "markdown",
   "metadata": {
    "slideshow": {
     "slide_type": "fragment"
    }
   },
   "source": [
    "### _for_-loops\n",
    "\n",
    "_for_-loops executes the same block of code **for each** element in a list of things\n",
    "\n",
    "For each iteration, the loop variable is updated to the next element in the list\n",
    "\n",
    "They are extremely effective for repetitive tasks"
   ]
  },
  {
   "cell_type": "markdown",
   "metadata": {
    "slideshow": {
     "slide_type": "slide"
    }
   },
   "source": [
    "## Quiz question 2 from Friday\n",
    "\n",
    "How many have made this exercise? How hard was it? If it's too hard, don't despair!\n",
    "\n",
    "When starting on a problem, take a step back and think. Maybe write down **pseudo-code**.\n",
    "\n",
    "```\n",
    "load in all transcripts\n",
    "\n",
    "make each transcript into a list of utterances\n",
    "\n",
    "prepare MLU list\n",
    "\n",
    "for each transcript:\n",
    "\n",
    "    prepare list for utterance lengths\n",
    "\n",
    "    for each utterance: \n",
    "        \n",
    "        append length of utterance to list\n",
    "        \n",
    "    calculate MLU and append it to the MLU list\n",
    "\n",
    "report the results somehow\n",
    "\n",
    "```"
   ]
  },
  {
   "cell_type": "markdown",
   "metadata": {
    "slideshow": {
     "slide_type": "slide"
    }
   },
   "source": [
    "# Arithmetic"
   ]
  },
  {
   "cell_type": "markdown",
   "metadata": {
    "slideshow": {
     "slide_type": "slide"
    }
   },
   "source": [
    "## Basic arithmetic\n",
    "\n",
    "There are seven built-in mathematical operators:\n",
    "\n",
    "- addition `3 + 4` -> 7\n",
    "- subtraction `5 - 2` -> 3\n",
    "- multiplication `3 * 5` -> 15\n",
    "- division `7 / 3` -> 2.333... \n",
    "- exponentiation `3**3` -> 27\n",
    "- integer division `7 // 3` -> 2 (the remainder of 1 is thrown away)\n",
    "- modulo `7 % 3` -> 1 (the remainder of integer division)\n",
    "\n",
    "The last two may seem strange and it is possible that you will not need them, but they make very good sense sometimes."
   ]
  },
  {
   "cell_type": "markdown",
   "metadata": {
    "slideshow": {
     "slide_type": "subslide"
    }
   },
   "source": [
    "## Some shortcuts\n",
    "\n",
    "You will often find yourself in a situation where it makes sense to increment a number or other things to the same number.\n",
    "\n",
    "In such a case, there is a shortcut:\n",
    "\n",
    "`a_number = a_number + 1` can also be written as `a_number += 1`"
   ]
  },
  {
   "cell_type": "code",
   "execution_count": 14,
   "metadata": {
    "slideshow": {
     "slide_type": "subslide"
    }
   },
   "outputs": [
    {
     "name": "stdout",
     "output_type": "stream",
     "text": [
      "1\n",
      "2\n",
      "3\n",
      "4\n",
      "5\n",
      "--------------------\n",
      "1\n",
      "2\n",
      "3\n",
      "4\n",
      "5\n"
     ]
    }
   ],
   "source": [
    "a_number = 0\n",
    "for i in range(5):\n",
    "    a_number = a_number + 1\n",
    "    print(a_number)\n",
    "    \n",
    "print('--------------------')\n",
    "\n",
    "a_number = 0\n",
    "for i in range(5):\n",
    "    a_number += 1\n",
    "    print(a_number)"
   ]
  },
  {
   "cell_type": "markdown",
   "metadata": {
    "slideshow": {
     "slide_type": "slide"
    }
   },
   "source": [
    "## The _math_ module\n",
    "\n",
    "Other operators and functions can be found in the _math_ moddule.\n",
    "\n",
    "Recall how we got the square root of c² last time: `math.sqrt(c_squared)`\n",
    "\n",
    "These extra functions can be accessed by import importing the _math_ module with `import math` and then `math.[needed function]`"
   ]
  },
  {
   "cell_type": "code",
   "execution_count": 15,
   "metadata": {
    "slideshow": {
     "slide_type": "subslide"
    }
   },
   "outputs": [
    {
     "name": "stdout",
     "output_type": "stream",
     "text": [
      "The square root of 2: 1.4142135623730951\n",
      "The natural logarithm of the number e (which is 2.718281828459045 ):  1.0\n",
      "The cosine of 60 degrees:  0.5000000000000001\n"
     ]
    }
   ],
   "source": [
    "import math\n",
    "\n",
    "print('The square root of 2:', math.sqrt(2))\n",
    "\n",
    "print('The natural logarithm of the number e (which is', math.e, '): ', math.log(math.e))\n",
    "\n",
    "print('The cosine of 60 degrees: ', math.cos(math.radians(60)))"
   ]
  },
  {
   "cell_type": "markdown",
   "metadata": {
    "slideshow": {
     "slide_type": "subslide"
    }
   },
   "source": [
    "You will probably not need very much of this, but it is good to know where to find it if the need should arise!"
   ]
  },
  {
   "cell_type": "markdown",
   "metadata": {
    "slideshow": {
     "slide_type": "slide"
    }
   },
   "source": [
    "# Flow control: _if_-statements"
   ]
  },
  {
   "cell_type": "markdown",
   "metadata": {
    "slideshow": {
     "slide_type": "slide"
    }
   },
   "source": [
    "## Another core of programming\n",
    "\n",
    "As with loops, _if_-statements make up an important core in programming since this enables us to do **flow control**.\n",
    "\n",
    "That is, we can condition the program into doing certain things and follow certain paths in the program.\n",
    "\n",
    "In combination with repetitive tasks, this is extremely powerful.\n",
    "\n",
    "Imagine that you want to find out when a child is competent in verbal conjugation. You could accomplish that with a program like this:\n",
    "\n",
    "```python\n",
    "for transcript in transcripts:\n",
    "    all_verbs = find_all_verbs(transcript)\n",
    "    correctly_conjugated = 0\n",
    "    for verb in all_verbs:\n",
    "        if is_correctly_conjugated(verb):\n",
    "            correctly_conjugated += 1\n",
    "    proportion_of_correct = correctly_conjugated / len(all_verbs)\n",
    "        \n",
    "```\n",
    "\n",
    "Don't worry if this block of code scares you a bit!"
   ]
  },
  {
   "cell_type": "markdown",
   "metadata": {
    "slideshow": {
     "slide_type": "slide"
    }
   },
   "source": [
    "## The concept of _if_-statements\n",
    "\n",
    "With _if_-statements, we tell the computer to test a certain condition for us and do somethings special if the condition is met.\n",
    "\n",
    "```\n",
    "if (some condition):\n",
    "    do something\n",
    "```\n",
    "\n",
    "\n",
    "If the condition is not met, we can tell it to test something else in the same manner. These are _else if_-statements (_elif_ in Python).\n",
    "\n",
    "```\n",
    "else if (some condition):\n",
    "    do something\n",
    "```\n",
    "\n",
    "\n",
    "We can also tell it to do something in any other case. These are simply _else_-statements.\n",
    "\n",
    "```\n",
    "else:\n",
    "    do something\n",
    "```\n",
    "\n",
    "If we leave out _else_-statements, the block of code is simply skipped. This is often used as well, e.g.\n",
    "\n",
    "\n",
    "```\n",
    "if (some variable is a string):\n",
    "    convert the string to a number\n",
    "    \n",
    "... do calculations ...    \n",
    "```"
   ]
  },
  {
   "cell_type": "markdown",
   "metadata": {
    "slideshow": {
     "slide_type": "slide"
    }
   },
   "source": [
    "## How it works in Python\n",
    "\n",
    "The format looks a bit like _for_-loops, with an indented block of code.\n",
    "\n",
    "```python\n",
    "if a_number > threshold:\n",
    "    print(a_number, 'is higher than the threshold')\n",
    "\n",
    "```\n",
    "\n",
    "There are three keywords: **if**, **elif** and **else**.\n",
    "\n",
    "Some frequently used operators are:\n",
    "- `==` equal to\n",
    "- `<` smaller than\n",
    "- `>` bigger than\n",
    "- `<=` smaller than or equal to\n",
    "- `>=` bigger than or equal to\n",
    "- `in` element is in another element, e.g. `word in list_of_words`\n",
    "\n",
    "\n",
    "**if** and **elif** must be followed by a condition. **else** can only stand on its own.\n",
    "\n",
    "The **condition** is the central concept here. So let us take a look at what these are and how they work."
   ]
  },
  {
   "cell_type": "markdown",
   "metadata": {
    "slideshow": {
     "slide_type": "slide"
    }
   },
   "source": [
    "## Let's back up a bit: boolean values\n",
    "\n",
    "WARNING: this may hurt your head. Don't worry if it does not stick right away or ever. You will still be able to code, but it is useful to have a good grasp of this.\n",
    "\n",
    "Conditions are **boolean** expressions which have a truth value: **true** or **false**, e.g.\n",
    "\n",
    "- `5 > 3` -> true\n",
    "- `5 < 3` -> false\n",
    "\n",
    "We have so-called **boolean operators**. These are **and** ($\\wedge$), **or** ($\\vee$) and **not** ($\\lnot$). If $p$ and $q$ are boolean expressions with a truth value, we have that\n",
    "\n",
    "- $p \\wedge q$ is only true if both $p$ and $q$ are true. \"If this something is true and this other something is true, then ...\"\n",
    "- $p \\vee q$ is true if at least one of $p$ or $q$ is true. \"If at least this something or this other something is true, then ...\"\n",
    "- $\\lnot p$ is true if $p$ is false. \"If this something is **not** true, then ...\""
   ]
  },
  {
   "cell_type": "markdown",
   "metadata": {
    "slideshow": {
     "slide_type": "subslide"
    }
   },
   "source": [
    "### A small exercise in truth values: the truth table\n",
    "\n",
    "| Expression | Value of $p$ | Value of $q$ | Value of expression? |\n",
    "|------------|--------------|--------------|----------------------|\n",
    "|$p\\wedge q$ | true         | true         |                      |\n",
    "|$p\\wedge q$ | true         | false        |                      |\n",
    "|$p\\wedge q$ | false        | true         |                      |\n",
    "|$p\\wedge q$ | false        | false        |                      |\n",
    "| $p \\vee q$ | true         | true         |                      |\n",
    "| $p \\vee q$ | true         | false        |                      |\n",
    "| $p \\vee q$ | false        | true         |                      |\n",
    "| $p \\vee q$ | false        | false        |                      |\n",
    "| $\\lnot p$  | true         | -            |                      |\n",
    "| $\\lnot p$  | false        | -            |                      |\n"
   ]
  },
  {
   "cell_type": "markdown",
   "metadata": {
    "slideshow": {
     "slide_type": "subslide"
    }
   },
   "source": [
    "### A small exercise in truth values: the truth table\n",
    "\n",
    "| Expression | Value of $p$ | Value of $q$ | Value of expression? |\n",
    "|------------|--------------|--------------|----------------------|\n",
    "|$p\\wedge q$ | true         | true         | true                 |\n",
    "|$p\\wedge q$ | true         | false        | false                |\n",
    "|$p\\wedge q$ | false        | true         | false                |\n",
    "|$p\\wedge q$ | false        | false        | false                |\n",
    "| $p \\vee q$ | true         | true         | true                 |\n",
    "| $p \\vee q$ | true         | false        | true                 |\n",
    "| $p \\vee q$ | false        | true         | true                 |\n",
    "| $p \\vee q$ | false        | false        | false                |\n",
    "| $\\lnot p$  | true         | -            | false                |\n",
    "| $\\lnot p$  | false        | -            | true                 |"
   ]
  },
  {
   "cell_type": "markdown",
   "metadata": {
    "slideshow": {
     "slide_type": "slide"
    }
   },
   "source": [
    "## Back to Python\n",
    "\n",
    "We write these boolean expressions in Python simply with `not`, `and` and `or`. This is also the order of operations.\n",
    "\n",
    "We can use brackets to change this but also just to make things clear!\n",
    "\n",
    "`if x > 5 or y <= 5 and not z == 9` can be hard to read.\n",
    "\n",
    "We can help the readers of our code: `if x > 5 or (y <= 5 and (not z == 9))`\n",
    "\n",
    "However, brackets can also be overwhelming."
   ]
  },
  {
   "cell_type": "code",
   "execution_count": 33,
   "metadata": {
    "slideshow": {
     "slide_type": "subslide"
    }
   },
   "outputs": [
    {
     "data": {
      "text/plain": [
       "True"
      ]
     },
     "execution_count": 33,
     "metadata": {},
     "output_type": "execute_result"
    }
   ],
   "source": [
    "9 > 5"
   ]
  },
  {
   "cell_type": "code",
   "execution_count": 34,
   "metadata": {
    "slideshow": {
     "slide_type": "subslide"
    }
   },
   "outputs": [
    {
     "data": {
      "text/plain": [
       "False"
      ]
     },
     "execution_count": 34,
     "metadata": {},
     "output_type": "execute_result"
    }
   ],
   "source": [
    "9 <= 5"
   ]
  },
  {
   "cell_type": "code",
   "execution_count": 35,
   "metadata": {
    "slideshow": {
     "slide_type": "subslide"
    }
   },
   "outputs": [
    {
     "data": {
      "text/plain": [
       "False"
      ]
     },
     "execution_count": 35,
     "metadata": {},
     "output_type": "execute_result"
    }
   ],
   "source": [
    "x = 9\n",
    "y = 5\n",
    "x > 6 and y >= 6"
   ]
  },
  {
   "cell_type": "code",
   "execution_count": 36,
   "metadata": {
    "slideshow": {
     "slide_type": "subslide"
    }
   },
   "outputs": [
    {
     "name": "stdout",
     "output_type": "stream",
     "text": [
      "Got to here because it was true\n"
     ]
    }
   ],
   "source": [
    "x = 9\n",
    "y = 5\n",
    "if x > 6 or y >= 6:\n",
    "    print('Got to here because it was true')\n",
    "else:\n",
    "    print('The value of the expression was false')"
   ]
  },
  {
   "cell_type": "code",
   "execution_count": 37,
   "metadata": {
    "slideshow": {
     "slide_type": "subslide"
    }
   },
   "outputs": [
    {
     "data": {
      "text/plain": [
       "True"
      ]
     },
     "execution_count": 37,
     "metadata": {},
     "output_type": "execute_result"
    }
   ],
   "source": [
    "x = 5\n",
    "y = 6\n",
    "not x > 6 and y >= 6"
   ]
  },
  {
   "cell_type": "code",
   "execution_count": 38,
   "metadata": {
    "slideshow": {
     "slide_type": "subslide"
    }
   },
   "outputs": [
    {
     "data": {
      "text/plain": [
       "True"
      ]
     },
     "execution_count": 38,
     "metadata": {},
     "output_type": "execute_result"
    }
   ],
   "source": [
    "x = 6\n",
    "y = 5\n",
    "z = 9\n",
    "x > 5 or y <= 5 and not z == 9"
   ]
  },
  {
   "cell_type": "code",
   "execution_count": 40,
   "metadata": {
    "slideshow": {
     "slide_type": "subslide"
    }
   },
   "outputs": [
    {
     "data": {
      "text/plain": [
       "False"
      ]
     },
     "execution_count": 40,
     "metadata": {},
     "output_type": "execute_result"
    }
   ],
   "source": [
    "x = 6\n",
    "y = 5\n",
    "z = 9\n",
    "(x > 5 or y <= 5) and not z == 9"
   ]
  },
  {
   "cell_type": "code",
   "execution_count": null,
   "metadata": {},
   "outputs": [],
   "source": []
  }
 ],
 "metadata": {
  "celltoolbar": "Slideshow",
  "kernelspec": {
   "display_name": "Python 3",
   "language": "python",
   "name": "python3"
  },
  "language_info": {
   "codemirror_mode": {
    "name": "ipython",
    "version": 3
   },
   "file_extension": ".py",
   "mimetype": "text/x-python",
   "name": "python",
   "nbconvert_exporter": "python",
   "pygments_lexer": "ipython3",
   "version": "3.6.8"
  }
 },
 "nbformat": 4,
 "nbformat_minor": 2
}
