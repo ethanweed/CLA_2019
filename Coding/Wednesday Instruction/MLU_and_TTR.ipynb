{
 "cells": [
  {
   "cell_type": "markdown",
   "metadata": {},
   "source": [
    "1. read in a folder of transcripts\n",
    "1. clean the data\n",
    "1. make some calculations\n",
    "1. report the results"
   ]
  },
  {
   "cell_type": "code",
   "execution_count": 7,
   "metadata": {},
   "outputs": [],
   "source": [
    "import glob  # introduces a way of retrieving lists of files\n",
    "from os import chdir as cd  # introduces OS functionality as in the UNIX shell\n",
    "\n",
    "# point to the folder of transcripts\n",
    "# get filenames\n",
    "# open all files\n",
    "# read in the contents\n",
    "# store the contents for later use\n",
    "\n",
    "# change working directory to data folder\n",
    "pathin = '/home/kasper/Downloads/Brown/Adam'\n",
    "cd(pathin)\n",
    "\n",
    "# get a list of sorted filenames\n",
    "filenames = glob.glob('*.cha')\n",
    "filenames.sort()\n",
    "\n",
    "# point, open, read and close\n",
    "file_contents = []\n",
    "for filename in filenames:\n",
    "    with open(filename, encoding='utf-8') as file:\n",
    "        contents = file.read()\n",
    "        file_contents.append(contents)"
   ]
  },
  {
   "cell_type": "code",
   "execution_count": 22,
   "metadata": {},
   "outputs": [],
   "source": [
    "from string import punctuation\n",
    "\n",
    "# prepare a list of transcripts\n",
    "# loop over the file contents\n",
    "# clean the content and store it in our list of transcripts\n",
    "\n",
    "transcripts = []\n",
    "\n",
    "for raw_content in file_contents:\n",
    "    lines = raw_content.split('\\n')\n",
    "    utterance_lines = []\n",
    "    for line in lines:\n",
    "        if line.startswith('*'):\n",
    "            speaker = line[1:4]\n",
    "            utterance = line.split('\\t')[1]\n",
    "            clean_utterance = ''\n",
    "            for character in utterance:\n",
    "                if character not in punctuation:\n",
    "                    clean_utterance += character\n",
    "            clean_utterance = clean_utterance.lower()\n",
    "            clean_utterance = clean_utterance.strip()\n",
    "            utterance_lines.append(\n",
    "                (speaker, clean_utterance)\n",
    "            )\n",
    "            \n",
    "    transcripts.append(utterance_lines)\n"
   ]
  },
  {
   "cell_type": "code",
   "execution_count": 23,
   "metadata": {},
   "outputs": [],
   "source": [
    "# we want to calculate the child's MLU and TTR for each transcript, so prepare lists\n",
    "# loop over each transcript\n",
    "# for MLU: total number of words (tokens) and total number of utterances\n",
    "# for TTR: total number of words (tokens) and number of types\n",
    "# append the numbers to the lists\n",
    "# store it in a dataframe\n",
    "\n",
    "MLUs = []\n",
    "TTRs = []\n",
    "\n",
    "for transcript in transcripts:\n",
    "    # get the child's utterances\n",
    "    child_utterances = []\n",
    "    for utterance_line in transcript:\n",
    "        if utterance_line[0] == 'CHI':\n",
    "            child_utterances.append(utterance_line[1])\n",
    "            \n",
    "    # get tokens from the child's utterances  \n",
    "    tokens = []\n",
    "    for utterance in child_utterances:\n",
    "        tokens += utterance.split()\n",
    "        \n",
    "    # calculate MLU\n",
    "    n_tokens = len(tokens)\n",
    "    n_utterances = len(child_utterances)\n",
    "    mlu = n_tokens / n_utterances\n",
    "    MLUs.append(mlu)\n",
    "    \n",
    "    # calcualte TTR\n",
    "    types = set(tokens)\n",
    "    n_types = len(types)\n",
    "    ttr = n_types / n_tokens\n",
    "    TTRs.append(ttr)\n",
    "    "
   ]
  },
  {
   "cell_type": "code",
   "execution_count": 26,
   "metadata": {},
   "outputs": [],
   "source": [
    "# store transcript names, ttrs and mlus in a nice way (dataframe)\n",
    "# plot chronological mlu and ttr\n",
    "\n",
    "import pandas as pd  # make dataframes and operations with these\n",
    "\n",
    "\n",
    "dataframe = pd.DataFrame({\n",
    "        'name': filenames,\n",
    "        'no': list(range(1, len(filenames) + 1)),\n",
    "        'mlu': MLUs,\n",
    "        'ttr': TTRs\n",
    "    })"
   ]
  },
  {
   "cell_type": "code",
   "execution_count": 27,
   "metadata": {},
   "outputs": [
    {
     "data": {
      "text/html": [
       "<div>\n",
       "<style scoped>\n",
       "    .dataframe tbody tr th:only-of-type {\n",
       "        vertical-align: middle;\n",
       "    }\n",
       "\n",
       "    .dataframe tbody tr th {\n",
       "        vertical-align: top;\n",
       "    }\n",
       "\n",
       "    .dataframe thead th {\n",
       "        text-align: right;\n",
       "    }\n",
       "</style>\n",
       "<table border=\"1\" class=\"dataframe\">\n",
       "  <thead>\n",
       "    <tr style=\"text-align: right;\">\n",
       "      <th></th>\n",
       "      <th>name</th>\n",
       "      <th>no</th>\n",
       "      <th>mlu</th>\n",
       "      <th>ttr</th>\n",
       "    </tr>\n",
       "  </thead>\n",
       "  <tbody>\n",
       "    <tr>\n",
       "      <td>0</td>\n",
       "      <td>020304.cha</td>\n",
       "      <td>1</td>\n",
       "      <td>2.233438</td>\n",
       "      <td>0.129590</td>\n",
       "    </tr>\n",
       "    <tr>\n",
       "      <td>1</td>\n",
       "      <td>020318.cha</td>\n",
       "      <td>2</td>\n",
       "      <td>2.267134</td>\n",
       "      <td>0.125386</td>\n",
       "    </tr>\n",
       "    <tr>\n",
       "      <td>2</td>\n",
       "      <td>020403.cha</td>\n",
       "      <td>3</td>\n",
       "      <td>2.472158</td>\n",
       "      <td>0.147818</td>\n",
       "    </tr>\n",
       "    <tr>\n",
       "      <td>3</td>\n",
       "      <td>020415.cha</td>\n",
       "      <td>4</td>\n",
       "      <td>2.003831</td>\n",
       "      <td>0.193754</td>\n",
       "    </tr>\n",
       "    <tr>\n",
       "      <td>4</td>\n",
       "      <td>020430.cha</td>\n",
       "      <td>5</td>\n",
       "      <td>2.377907</td>\n",
       "      <td>0.179462</td>\n",
       "    </tr>\n",
       "  </tbody>\n",
       "</table>\n",
       "</div>"
      ],
      "text/plain": [
       "         name  no       mlu       ttr\n",
       "0  020304.cha   1  2.233438  0.129590\n",
       "1  020318.cha   2  2.267134  0.125386\n",
       "2  020403.cha   3  2.472158  0.147818\n",
       "3  020415.cha   4  2.003831  0.193754\n",
       "4  020430.cha   5  2.377907  0.179462"
      ]
     },
     "execution_count": 27,
     "metadata": {},
     "output_type": "execute_result"
    }
   ],
   "source": [
    "dataframe.head()"
   ]
  },
  {
   "cell_type": "code",
   "execution_count": 32,
   "metadata": {},
   "outputs": [
    {
     "data": {
      "text/plain": [
       "<matplotlib.axes._subplots.AxesSubplot at 0x7f98616102b0>"
      ]
     },
     "execution_count": 32,
     "metadata": {},
     "output_type": "execute_result"
    },
    {
     "data": {
      "image/png": "[encoded data removed]",
      "text/plain": [
       "<Figure size 432x288 with 1 Axes>"
      ]
     },
     "metadata": {},
     "output_type": "display_data"
    }
   ],
   "source": [
    "import seaborn as sns  # introduces various functions to plot data\n",
    "\n",
    "# mlu\n",
    "sns.lineplot(x='no', y='mlu', data=dataframe)"
   ]
  },
  {
   "cell_type": "code",
   "execution_count": 33,
   "metadata": {},
   "outputs": [
    {
     "data": {
      "text/plain": [
       "<matplotlib.axes._subplots.AxesSubplot at 0x7f98616e3be0>"
      ]
     },
     "execution_count": 33,
     "metadata": {},
     "output_type": "execute_result"
    },
    {
     "data": {
      "image/png": "[encoded data removed]",
      "text/plain": [
       "<Figure size 432x288 with 1 Axes>"
      ]
     },
     "metadata": {},
     "output_type": "display_data"
    }
   ],
   "source": [
    "# ttr\n",
    "sns.lineplot(x='no', y='ttr', data=dataframe)"
   ]
  },
  {
   "cell_type": "code",
   "execution_count": null,
   "metadata": {},
   "outputs": [],
   "source": [
    "sns."
   ]
  }
 ],
 "metadata": {
  "kernelspec": {
   "display_name": "Python 3",
   "language": "python",
   "name": "python3"
  },
  "language_info": {
   "codemirror_mode": {
    "name": "ipython",
    "version": 3
   },
   "file_extension": ".py",
   "mimetype": "text/x-python",
   "name": "python",
   "nbconvert_exporter": "python",
   "pygments_lexer": "ipython3",
   "version": "3.6.8"
  }
 },
 "nbformat": 4,
 "nbformat_minor": 2
}
