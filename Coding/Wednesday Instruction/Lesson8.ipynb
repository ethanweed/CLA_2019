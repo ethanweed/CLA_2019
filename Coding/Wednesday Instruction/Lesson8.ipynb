{
 "cells": [
  {
   "cell_type": "markdown",
   "metadata": {
    "slideshow": {
     "slide_type": "slide"
    }
   },
   "source": [
    "# Lesson 8: Functions"
   ]
  },
  {
   "cell_type": "markdown",
   "metadata": {
    "slideshow": {
     "slide_type": "slide"
    }
   },
   "source": [
    "Imagine reading code looking like this. How clear is it what is going on?"
   ]
  },
  {
   "cell_type": "code",
   "execution_count": 42,
   "metadata": {
    "slideshow": {
     "slide_type": "skip"
    }
   },
   "outputs": [],
   "source": [
    "from os import chdir as cd\n",
    "import glob\n",
    "from string import punctuation\n",
    "\n",
    "\n",
    "def load_files(pathin, extension='.cha'):\n",
    "    \"\"\"This function loads the raw contents of all files in the given directory\n",
    "    with the given extension and returns it as a sorted list.\"\"\"\n",
    "    \n",
    "    cd(pathin)  # change working directory to the data folder\n",
    "\n",
    "    file_contents = []  # make empty list to store raw file contents\n",
    "\n",
    "    # loop over all files in the folder with the .cha extension\n",
    "    # sorted() is needed here; otherwise, the files will be in a random order\n",
    "    for file in sorted(glob.glob('*' + extension)):\n",
    "        with open(file,'r', encoding='utf-8') as f:  \n",
    "            text = f.read()  # read in the contents of the file ...\n",
    "            file_contents.append(text)  # ... and append it to a list\n",
    "            \n",
    "    return file_contents\n",
    "\n",
    "\n",
    "def clean_transcript(raw_transcript):\n",
    "    \"\"\"Clean a raw transcript given as a string and return it as a list of\n",
    "    utterances as tuples with the format (speaker, utterance).\"\"\"\n",
    "    \n",
    "    lines = raw_transcript.split('\\n')  # split the content into lines\n",
    "    utterance_lines = []  # prepare a list for cleaned utterance lines\n",
    "    \n",
    "    for line in lines:  # run over each line one by one to clean\n",
    "        if line.startswith('*'):  # but only if it's an actual utterance line\n",
    "                                  # (and not metadata or grammar line)\n",
    "            \n",
    "            speaker = line[1:4]  \n",
    "            utterance = line.split('\\t')[1]  # ()'\\t' = tab character)\n",
    "            \n",
    "            # since the utterance lines also contains punctuation, clean it\n",
    "            cleaned_utterance = ''  # prepare empty string for clean utterance\n",
    "            for char in utterance:  # loop over each character in the string\n",
    "                if char not in punctuation:  # test if it's punctuation\n",
    "                    cleaned_utterance += char  # if not, add it\n",
    "            # remove superfluous spaces\n",
    "            cleaned_utterance = ' '.join(cleaned_utterance.split()) \n",
    "            \n",
    "            # store each line as a tuple where [0] is the speaker and\n",
    "            # [1] the actual utterance\n",
    "            utterance_line = (speaker, cleaned_utterance)\n",
    "            utterance_lines.append(utterance_line)\n",
    "    \n",
    "    return utterance_lines\n",
    "\n",
    "\n",
    "def calculate_mlu(transcript, speaker):\n",
    "    \"\"\"Calculate word MLU in a transcript for the given speaker.\"\"\"\n",
    "    \n",
    "    mlus = []  # prepare a list to store MLU measures in\n",
    "\n",
    "    speaker_utterances = []  # prepare a list for the speaker's utterances\n",
    "    for line in transcript:\n",
    "        if line[0] == speaker:\n",
    "            speaker_utterances.append(line[1])\n",
    "\n",
    "    tokens = []  # prepare a list for tokens\n",
    "    for utterance in speaker_utterances:  # lopp over each utterance\n",
    "        tokens += utterance.split()  # split it into tokens and add it\n",
    "\n",
    "    ## calculate MLU: number of words / number of utterances\n",
    "    mlu = len(tokens) / len(speaker_utterances)\n",
    "    \n",
    "    return mlu\n",
    "\n",
    "\n",
    "def get_childs_age(raw_transcript):\n",
    "    \"\"\"Get the Target Child's age from a raw transcript.\"\"\"\n",
    "    \n",
    "    child_id_line = None\n",
    "    for line in raw_transcript.split('\\n'):\n",
    "        if line.startswith('@ID') and 'Target_Child' in line:\n",
    "            child_id_line = line\n",
    "            break  # the right line is found; move on\n",
    "\n",
    "    if not child_id_line:\n",
    "        print('WARNING: Child ID line not found; age not retrieved!')\n",
    "        return None\n",
    "            \n",
    "    # break the line into \"info\" chunks\n",
    "    participant_raw = child_id_line.split('\\t')[1]\n",
    "    info = participant_raw.split('|')\n",
    "    \n",
    "    # the age is given as YEARS;MONTHS.DAYS, e.g. 2;03.08\n",
    "    # get this as a raw string. Convert the values to int along the way\n",
    "    age_raw = info[3]\n",
    "    years_monthsdays = age_raw.split(';')  # [YEARS, MONTHS+DAYS]\n",
    "    years = int(years_monthsdays[0])  # first item is years\n",
    "    months_days = years_monthsdays[1].split('.')  # [MONTHS, DAYS]\n",
    "    months = int(months_days[0])  # first item is months\n",
    "    try:  # sometimes, days are not given;\n",
    "          # hence, we prepare for an exception\n",
    "        days = int(months_days[1])  # second item is days\n",
    "    except:  # if something goes wrong in the parsing, just write 0\n",
    "        days = 0\n",
    "    # calculate total number of days (month = 30 days, for simplicity)\n",
    "    days_total = years * 365 + months * 30 + days\n",
    "    # then calculate years based on the number of days\n",
    "    normalized_years = days_total / 365\n",
    "    \n",
    "    return normalized_years\n"
   ]
  },
  {
   "cell_type": "code",
   "execution_count": 15,
   "metadata": {
    "slideshow": {
     "slide_type": "fragment"
    }
   },
   "outputs": [
    {
     "data": {
      "text/plain": [
       "<matplotlib.axes._subplots.AxesSubplot at 0x7f59aae0ef60>"
      ]
     },
     "execution_count": 15,
     "metadata": {},
     "output_type": "execute_result"
    },
    {
     "data": {
      "image/png": "[encoded data removed]",
      "text/plain": [
       "<Figure size 432x288 with 1 Axes>"
      ]
     },
     "metadata": {},
     "output_type": "display_data"
    }
   ],
   "source": [
    "from transcriptutils import *\n",
    "\n",
    "import pandas as pd\n",
    "import seaborn as sns\n",
    "\n",
    "raw_transcripts = load_files(\n",
    "    '/home/kasper/python-projects/CLA_2019/CLA_2018/Data/Brown/Adam'\n",
    ")\n",
    "ages = [get_childs_age(raw) for raw in raw_transcripts]\n",
    "clean_transcripts = [clean_transcript(raw) for raw in raw_transcripts]\n",
    "mlus = [calculate_mlu(transcript, 'CHI') for transcript in clean_transcripts]\n",
    "df = pd.DataFrame({'Age': ages, 'MLU': mlus})\n",
    "sns.lineplot(x='Age', y='MLU', data=df)"
   ]
  },
  {
   "cell_type": "markdown",
   "metadata": {
    "slideshow": {
     "slide_type": "slide"
    }
   },
   "source": [
    "## Basics\n",
    "\n",
    "A function, as many other concepts in programming, has origins in math. Recall from high school how a linear function looks: $f(x) = ax + b$, e.g.\n",
    "\n",
    "$f(x) = 2x + 1$\n",
    "\n",
    "A function digests some value(s) and spits out a new value: you put $x$ in one end of the machine and get out $y$ in the other end of the machine, e.g.\n",
    "\n",
    "$f(2) = 5$\n",
    "\n",
    "$f(6) = 13$\n",
    "\n",
    "In this case, $x$ is called an _argument_ and $y$ a _return value_."
   ]
  },
  {
   "cell_type": "markdown",
   "metadata": {
    "slideshow": {
     "slide_type": "slide"
    }
   },
   "source": [
    "## How it works in Python\n",
    "\n",
    "A function is _defined_ with `def`.\n",
    "\n",
    "Functions are known by round brackets following the name.\n",
    "\n",
    "Arguments to the function are given in the brackets.\n",
    "\n",
    "Functions (can) have a _return_ value.\n",
    "\n",
    "```python\n",
    "def frobnicate(foo):\n",
    "    # do some stuff\n",
    "    return bar\n",
    "```\n",
    "\n",
    "Style: function names should be similar to regular variable names, i.e. only lowercase and two or more words separated with `_`."
   ]
  },
  {
   "cell_type": "markdown",
   "metadata": {
    "slideshow": {
     "slide_type": "slide"
    }
   },
   "source": [
    "## Your turn!\n",
    "\n",
    "Make exercises 1 & 3.\n",
    "\n",
    "When you finish, try to think about how we can define the functions which made the script in the first slide possible. Here are the relevant lines again:\n",
    "```python\n",
    "...\n",
    "raw_transcripts = load_files(\n",
    "    '/home/kasper/python-projects/CLA_2019/CLA_2018/Data/Brown/Adam'\n",
    ")\n",
    "ages = [get_childs_age(raw) for raw in raw_transcripts]\n",
    "clean_transcripts = [clean_transcript(raw) for raw in raw_transcripts]\n",
    "mlus = [calculate_mlu(transcript, 'CHI') for transcript in clean_transcripts]\n",
    "...\n",
    "```\n",
    "\n",
    "HINT: We have made almost all of the code before. Generalize it and put it into functions."
   ]
  },
  {
   "cell_type": "markdown",
   "metadata": {
    "slideshow": {
     "slide_type": "slide"
    }
   },
   "source": [
    "## My solution to exercises 1 and 3"
   ]
  },
  {
   "cell_type": "code",
   "execution_count": 9,
   "metadata": {
    "slideshow": {
     "slide_type": "fragment"
    }
   },
   "outputs": [
    {
     "name": "stdout",
     "output_type": "stream",
     "text": [
      "****\n",
      "****\n"
     ]
    }
   ],
   "source": [
    "## EXERCISE 1\n",
    "def rectangle(m, n):\n",
    "    for i in range(m):\n",
    "        print('*' * n)\n",
    "\n",
    "rectangle(2, 4)"
   ]
  },
  {
   "cell_type": "code",
   "execution_count": 17,
   "metadata": {
    "slideshow": {
     "slide_type": "fragment"
    }
   },
   "outputs": [
    {
     "data": {
      "text/plain": [
       "16"
      ]
     },
     "execution_count": 17,
     "metadata": {},
     "output_type": "execute_result"
    }
   ],
   "source": [
    "# Write a function called sum_digits that is given an integer num and returns the sum of the\n",
    "# digits of num, i.e. sum_digits(34) should return 7 and sum_digits(134) should return 8\n",
    "\n",
    "## EXERCISE 3\n",
    "def sum_digits(num):\n",
    "    num_as_string = str(num)\n",
    "    sum = 0\n",
    "    for digit in num_as_string:\n",
    "        sum += int(digit)\n",
    "    return sum\n",
    "\n",
    "sum_digits(376)"
   ]
  },
  {
   "cell_type": "code",
   "execution_count": null,
   "metadata": {},
   "outputs": [],
   "source": []
  }
 ],
 "metadata": {
  "celltoolbar": "Slideshow",
  "kernelspec": {
   "display_name": "Python 3",
   "language": "python",
   "name": "python3"
  },
  "language_info": {
   "codemirror_mode": {
    "name": "ipython",
    "version": 3
   },
   "file_extension": ".py",
   "mimetype": "text/x-python",
   "name": "python",
   "nbconvert_exporter": "python",
   "pygments_lexer": "ipython3",
   "version": "3.6.8"
  }
 },
 "nbformat": 4,
 "nbformat_minor": 2
}
