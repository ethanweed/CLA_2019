{
 "cells": [
  {
   "cell_type": "markdown",
   "metadata": {
    "slideshow": {
     "slide_type": "slide"
    }
   },
   "source": [
    "# Lesson 9: Objects"
   ]
  },
  {
   "cell_type": "markdown",
   "metadata": {
    "slideshow": {
     "slide_type": "slide"
    }
   },
   "source": [
    "## The general concept\n",
    "\n",
    "An __object__ can be *anything*. Thus, it can serve as a representation of some real-world \"object\", e.g. a table, a car, a person, an animal etc. It can also represent abstract things, e.g. loans, family relations, words.\n",
    "\n",
    "An object is created on a template called a __class__.\n",
    "\n",
    "An object can have internal __fields__, also called __attributes__ in Python. What attributes would a car have? What about a word?\n",
    "\n",
    "An object can have internal __methods__, which are things that the object can \"do\".\n",
    "\n",
    "The __class__ of an object can inherit from other classes, e.g.:\n",
    ">`Animal` is a class\n",
    ">\n",
    ">`Mammal` and `Insect` inherit from `Animal` \n",
    ">\n",
    "> `Cat` and `Cow` inherit from `Mammal` while `Fly` and `Butterfly` inherit from `Insect`"
   ]
  },
  {
   "cell_type": "markdown",
   "metadata": {
    "slideshow": {
     "slide_type": "slide"
    }
   },
   "source": [
    "## How it works in Python\n",
    "\n",
    "A class is defined with the keyword `class`. Inherited classes are written in parentheses following the name.\n",
    "\n",
    "A class usually has an `__init__` method, called a __constructor__. This is called with the class name and parentheses.\n",
    "\n",
    "__Fields__ are declared and accessed from within the object by using the keyword `self` and the dot operator `.`. From outside, they are accessed with the name of the variable.\n",
    "\n",
    "__Methods__ are defined with the keyword `def` below the class definition (pay attention to indentation).\n",
    "\n",
    "### Style\n",
    "Class names should be written in _CamelCase_ (Heinold does not follow PEP8 conventions precisely). You know e.g. `DataFrame` from `pandas`!\n",
    "\n",
    "Fields and methods follow the conventions from variables and functions."
   ]
  },
  {
   "cell_type": "markdown",
   "metadata": {
    "slideshow": {
     "slide_type": "subslide"
    }
   },
   "source": [
    "```Python\n",
    "class Cat(Mammal):\n",
    "    def __init__(self, has_fur, is_evil):\n",
    "        self.has_fur = has_fur\n",
    "        self.is_evil = is_evil\n",
    "    \n",
    "    def greet(self):\n",
    "        if self.is_evil:\n",
    "            print('HISSSSS!')\n",
    "        else:\n",
    "            print('Meow!')\n",
    "            \n",
    "    def shave(self):\n",
    "        self.has_fur = False\n",
    "        \n",
    "street_cat = Cat(True, True)\n",
    "street_cat.greet()  # prints 'HISSSSS!'\n",
    "street_cat.shave()  # changes the field has_fur to False\n",
    "```"
   ]
  },
  {
   "cell_type": "markdown",
   "metadata": {
    "slideshow": {
     "slide_type": "slide"
    }
   },
   "source": [
    "## My solution to Exercise 1 in ch. 14"
   ]
  },
  {
   "cell_type": "code",
   "execution_count": null,
   "metadata": {},
   "outputs": [],
   "source": [
    "# 1. define class\n",
    "# 2. make fields: principal and interest\n",
    "# 3. constructor to set those fields\n",
    "# 4. method value_after(years) which returns the amount of money after the given number of years\n",
    "# 5. __str__ method to represent the object"
   ]
  },
  {
   "cell_type": "code",
   "execution_count": 8,
   "metadata": {},
   "outputs": [
    {
     "data": {
      "text/plain": [
       "1051.1999999999998"
      ]
     },
     "execution_count": 8,
     "metadata": {},
     "output_type": "execute_result"
    }
   ],
   "source": [
    "class Investment:\n",
    "    \n",
    "    def __init__(self, principal, interest):    \n",
    "        self.principal = principal\n",
    "        self.interest = interest\n",
    "        \n",
    "    def value_after(self, years):\n",
    "        \n",
    "        return self.principal * (1 + self.interest)**years\n",
    "        \n",
    "    def __str__(self):\n",
    "        principal_str = 'Principal - $' + str(self.principal)\n",
    "        interest_str = 'Interest rate - ' + str(self.interest * 100) + '%'\n",
    "        return principal_str + ', ' + interest_str\n",
    "        \n",
    "        \n",
    "\n",
    "investment = Investment(1000, 0.0512)\n",
    "investment.value_after(1)"
   ]
  },
  {
   "cell_type": "code",
   "execution_count": 9,
   "metadata": {},
   "outputs": [
    {
     "name": "stdout",
     "output_type": "stream",
     "text": [
      "Principal - $1000, Interest rate - 5.12%\n"
     ]
    }
   ],
   "source": [
    "print(investment)"
   ]
  },
  {
   "cell_type": "code",
   "execution_count": null,
   "metadata": {},
   "outputs": [],
   "source": []
  },
  {
   "cell_type": "code",
   "execution_count": null,
   "metadata": {},
   "outputs": [],
   "source": []
  },
  {
   "cell_type": "code",
   "execution_count": null,
   "metadata": {},
   "outputs": [],
   "source": []
  },
  {
   "cell_type": "code",
   "execution_count": null,
   "metadata": {},
   "outputs": [],
   "source": []
  },
  {
   "cell_type": "code",
   "execution_count": null,
   "metadata": {},
   "outputs": [],
   "source": []
  },
  {
   "cell_type": "code",
   "execution_count": 20,
   "metadata": {
    "slideshow": {
     "slide_type": "fragment"
    }
   },
   "outputs": [
    {
     "name": "stdout",
     "output_type": "stream",
     "text": [
      "Principal - $1000, Interest rate - 5.12%\n",
      "After 1 year(s), the investment has grown to: $1051.2\n",
      "After 2 year(s), the investment has grown to: $1105.02\n",
      "After 3 year(s), the investment has grown to: $1161.6\n",
      "After 4 year(s), the investment has grown to: $1221.07\n",
      "After 5 year(s), the investment has grown to: $1283.59\n"
     ]
    }
   ],
   "source": [
    "class Investment:\n",
    "    \n",
    "    def __init__(self, principal, interest):\n",
    "        self.principal = principal\n",
    "        self.interest = interest\n",
    "        \n",
    "    def value_after(self, years):\n",
    "        return self.principal * (1 + self.interest)**years\n",
    "    \n",
    "    def __str__(self):\n",
    "        principal_str = 'Principal - $' + str(self.principal)\n",
    "        interest_str = 'Interest rate - ' + str(self.interest * 100) + '%'\n",
    "        return principal_str + ', ' + interest_str\n",
    "\n",
    "\n",
    "investment = Investment(1000, .0512)\n",
    "print(investment)\n",
    "for i in range(1, 6):\n",
    "    print('After', i, 'year(s), the investment has grown to: $'\n",
    "          + str(round(investment.value_after(i), 2)))\n",
    "    \n",
    "investment.test = 'crap'"
   ]
  },
  {
   "cell_type": "markdown",
   "metadata": {
    "slideshow": {
     "slide_type": "slide"
    }
   },
   "source": [
    "## Why bother? What can we use it for?\n",
    "\n",
    "Consider being able to do something like this:\n",
    "\n",
    "```python\n",
    "transcript = Transcript(filepath)\n",
    "transcript.calculate_mlu('CHI')\n",
    "# 3.23512321\n",
    "```\n",
    "\n",
    "Or let's say that a `Transcript` stores utterances lines as `Utterance` objects:\n",
    "\n",
    "```python\n",
    "utterance = transcript.get_utterances('CHI')\n",
    "print(utterance)  # calls __str__\n",
    "# CHI: Adam go get it .\n",
    "print(utterance.grammar_line)\n",
    "# 1|3|SUBJ 2|3|SRL 3|0|ROOT 4|3|OBJ 5|3|PUNCT\n",
    "```\n",
    "\n",
    "Another nice data structure, and it can make code even more readable! (I know I say those things a lot ...)"
   ]
  },
  {
   "cell_type": "code",
   "execution_count": null,
   "metadata": {},
   "outputs": [],
   "source": []
  }
 ],
 "metadata": {
  "celltoolbar": "Slideshow",
  "kernelspec": {
   "display_name": "Python 3",
   "language": "python",
   "name": "python3"
  },
  "language_info": {
   "codemirror_mode": {
    "name": "ipython",
    "version": 3
   },
   "file_extension": ".py",
   "mimetype": "text/x-python",
   "name": "python",
   "nbconvert_exporter": "python",
   "pygments_lexer": "ipython3",
   "version": "3.6.8"
  }
 },
 "nbformat": 4,
 "nbformat_minor": 2
}
