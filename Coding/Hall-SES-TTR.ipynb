{
 "cells": [
  {
   "cell_type": "code",
   "execution_count": 11,
   "metadata": {},
   "outputs": [],
   "source": [
    "from os import chdir as cd\n",
    "import glob\n",
    "\n",
    "pathin = '/Users/ethan/Documents/GitHub/CLA_2019/Coding/Friday Exercises/Data/Hall_MOTCHI/'\n",
    "\n",
    "folders = ['Hall_CHI','Hall_MOT']\n",
    "\n",
    "pro = []\n",
    "work = []\n",
    "\n",
    "cd(pathin + folders[1])\n",
    "for file in glob.glob('*.txt'):\n",
    "    with open(file,'r') as f:\n",
    "        text = f.read()\n",
    "        if 'Pro' in file:\n",
    "            pro.append(text)\n",
    "        if 'Work' in file:\n",
    "            work.append(text)\n",
    "\n",
    "\n",
    "tokens_pro = []\n",
    "tokens_work = []\n",
    "types_pro = []\n",
    "types_work = []\n",
    "TTR_pro = []\n",
    "TTR_work = []\n",
    "\n",
    "for transcript in pro:\n",
    "    tokens = transcript.split()\n",
    "    tokens_pro.append(len(tokens))\n",
    "    types = set(transcript.split())\n",
    "    types_pro.append(len(types))\n",
    "    try:\n",
    "        TTR_pro.append(len(types)/len(tokens))\n",
    "    except:\n",
    "        pass\n",
    "    \n",
    "for transcript in work:\n",
    "    tokens = transcript.split()\n",
    "    tokens_work.append(len(tokens))\n",
    "    types = set(transcript.split())\n",
    "    types_work.append(len(types))\n",
    "    try:\n",
    "        TTR_work.append(len(types)/len(tokens))\n",
    "    except:\n",
    "        pass"
   ]
  },
  {
   "cell_type": "code",
   "execution_count": 13,
   "metadata": {},
   "outputs": [
    {
     "data": {
      "text/plain": [
       "[0.2512984418697563,\n",
       " 0.15100182149362476,\n",
       " 0.3759512937595129,\n",
       " 0.1492836676217765,\n",
       " 0.18866141732283465,\n",
       " 0.1903513371788149,\n",
       " 0.2423060251408756,\n",
       " 0.17258142926592124,\n",
       " 0.21891989851395433,\n",
       " 0.2245557350565428,\n",
       " 0.15878503518952958,\n",
       " 0.1752088507563784,\n",
       " 0.15083922261484098,\n",
       " 0.3681592039800995,\n",
       " 0.34970238095238093,\n",
       " 0.15869229689911604,\n",
       " 0.1717933836331979]"
      ]
     },
     "execution_count": 13,
     "metadata": {},
     "output_type": "execute_result"
    }
   ],
   "source": [
    "TTR_work"
   ]
  },
  {
   "cell_type": "code",
   "execution_count": 15,
   "metadata": {},
   "outputs": [
    {
     "data": {
      "text/html": [
       "<div>\n",
       "<style>\n",
       "    .dataframe thead tr:only-child th {\n",
       "        text-align: right;\n",
       "    }\n",
       "\n",
       "    .dataframe thead th {\n",
       "        text-align: left;\n",
       "    }\n",
       "\n",
       "    .dataframe tbody tr th {\n",
       "        vertical-align: top;\n",
       "    }\n",
       "</style>\n",
       "<table border=\"1\" class=\"dataframe\">\n",
       "  <thead>\n",
       "    <tr style=\"text-align: right;\">\n",
       "      <th></th>\n",
       "      <th>CDS</th>\n",
       "      <th>SES</th>\n",
       "    </tr>\n",
       "  </thead>\n",
       "  <tbody>\n",
       "    <tr>\n",
       "      <th>0</th>\n",
       "      <td>0.181593</td>\n",
       "      <td>WhiteCollar</td>\n",
       "    </tr>\n",
       "    <tr>\n",
       "      <th>1</th>\n",
       "      <td>0.117124</td>\n",
       "      <td>WhiteCollar</td>\n",
       "    </tr>\n",
       "    <tr>\n",
       "      <th>2</th>\n",
       "      <td>0.136625</td>\n",
       "      <td>WhiteCollar</td>\n",
       "    </tr>\n",
       "    <tr>\n",
       "      <th>3</th>\n",
       "      <td>0.193290</td>\n",
       "      <td>WhiteCollar</td>\n",
       "    </tr>\n",
       "    <tr>\n",
       "      <th>4</th>\n",
       "      <td>0.322072</td>\n",
       "      <td>WhiteCollar</td>\n",
       "    </tr>\n",
       "  </tbody>\n",
       "</table>\n",
       "</div>"
      ],
      "text/plain": [
       "        CDS          SES\n",
       "0  0.181593  WhiteCollar\n",
       "1  0.117124  WhiteCollar\n",
       "2  0.136625  WhiteCollar\n",
       "3  0.193290  WhiteCollar\n",
       "4  0.322072  WhiteCollar"
      ]
     },
     "execution_count": 15,
     "metadata": {},
     "output_type": "execute_result"
    }
   ],
   "source": [
    "\n",
    "import pandas as pd\n",
    "import matplotlib.pyplot as plt\n",
    "import seaborn as sns\n",
    "%matplotlib inline\n",
    "\n",
    "pro = [\"WhiteCollar\"] * len(TTR_pro)\n",
    "work = [\"BlueCollar\"] * len(TTR_work)\n",
    "CDS = TTR_pro + TTR_work\n",
    "SES = pro + work\n",
    "df = pd.DataFrame(\n",
    "    {'CDS': CDS,\n",
    "     'SES': SES,\n",
    "    })\n",
    "\n",
    "#inspect the data\n",
    "df.head() # look at the top of the data\n",
    "# df.tail() # look at the bottom of the data\n",
    "# df #look at all of the data"
   ]
  },
  {
   "cell_type": "code",
   "execution_count": 16,
   "metadata": {},
   "outputs": [
    {
     "data": {
      "image/png": "[encoded data removed]",
      "text/plain": [
       "<matplotlib.figure.Figure at 0x103ec5ac8>"
      ]
     },
     "metadata": {},
     "output_type": "display_data"
    }
   ],
   "source": [
    "# make boxplot with Seaborn\n",
    "sns.set_style('white')\n",
    "\n",
    "p = sns.boxplot(y = 'CDS', x = 'SES',\n",
    "                data = df,\n",
    "                width=0.5,\n",
    "                palette=\"colorblind\")\n",
    "\n",
    "p.set_title(\"Type to Token Ratio\")\n",
    "sns.despine()"
   ]
  },
  {
   "cell_type": "code",
   "execution_count": null,
   "metadata": {},
   "outputs": [],
   "source": []
  }
 ],
 "metadata": {
  "kernelspec": {
   "display_name": "Python 3",
   "language": "python",
   "name": "python3"
  },
  "language_info": {
   "codemirror_mode": {
    "name": "ipython",
    "version": 3
   },
   "file_extension": ".py",
   "mimetype": "text/x-python",
   "name": "python",
   "nbconvert_exporter": "python",
   "pygments_lexer": "ipython3",
   "version": "3.6.8"
  }
 },
 "nbformat": 4,
 "nbformat_minor": 2
}
