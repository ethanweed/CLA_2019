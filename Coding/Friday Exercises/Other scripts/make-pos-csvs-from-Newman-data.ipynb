{
 "cells": [
  {
   "cell_type": "code",
   "execution_count": 3,
   "metadata": {},
   "outputs": [
    {
     "name": "stdout",
     "output_type": "stream",
     "text": [
      "Which age group?24\n"
     ]
    }
   ],
   "source": [
    "import os\n",
    "num = input(\"Which age group?\")\n",
    "\n",
    "pathout = '/Users/ethan/Documents/GitHub/CLA_2019/Coding/Friday Exercises/Data/NewmanRatner_POS/POS_' + str(num) + '/'\n",
    "\n",
    "funpath = '/Users/ethan/Documents/GitHub/CHAT-transcript-tools/functions'\n",
    "pathin = '/Users/ethan/Documents/GitHub/CLA_2019/Coding/Friday Exercises/Data/NewmanRatner/' + str(num) + '/'\n",
    "\n",
    "\n",
    "from os import chdir as cd\n",
    "import glob\n",
    "cd(funpath)\n",
    "import ExtractPOS as POS\n",
    "\n",
    "cd(pathin)\n",
    "for file in glob.glob('*.cha'):\n",
    "    with open(file,'r') as f:\n",
    "        f = str(f)\n",
    "        f = f.split('.cha')\n",
    "        f = f[0].split('name=\\'')\n",
    "        filename = pathout + f[1] + '.csv'\n",
    "    try:\n",
    "        out = POS.POS(pathin,file)\n",
    "        with open(filename, 'a+') as newfile:\n",
    "            newfile.write(out)\n",
    "        newfile.close()\n",
    "    except:\n",
    "        pass\n",
    "        \n"
   ]
  },
  {
   "cell_type": "code",
   "execution_count": null,
   "metadata": {},
   "outputs": [],
   "source": []
  },
  {
   "cell_type": "code",
   "execution_count": null,
   "metadata": {},
   "outputs": [],
   "source": []
  },
  {
   "cell_type": "code",
   "execution_count": null,
   "metadata": {},
   "outputs": [],
   "source": [
    "\n"
   ]
  },
  {
   "cell_type": "code",
   "execution_count": null,
   "metadata": {},
   "outputs": [],
   "source": []
  },
  {
   "cell_type": "code",
   "execution_count": null,
   "metadata": {},
   "outputs": [],
   "source": []
  }
 ],
 "metadata": {
  "kernelspec": {
   "display_name": "Python 3",
   "language": "python",
   "name": "python3"
  },
  "language_info": {
   "codemirror_mode": {
    "name": "ipython",
    "version": 3
   },
   "file_extension": ".py",
   "mimetype": "text/x-python",
   "name": "python",
   "nbconvert_exporter": "python",
   "pygments_lexer": "ipython3",
   "version": "3.6.8"
  }
 },
 "nbformat": 4,
 "nbformat_minor": 2
}
