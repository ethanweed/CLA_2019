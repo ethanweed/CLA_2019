{
 "cells": [
  {
   "cell_type": "code",
   "execution_count": 22,
   "metadata": {},
   "outputs": [],
   "source": [
    "pathin = '/Users/ethan/Documents/GitHub/CLA_2019/Coding/Friday Exercises/Data/NewmanRatner/07/'\n",
    "file = '4687NH.cha'"
   ]
  },
  {
   "cell_type": "code",
   "execution_count": 24,
   "metadata": {},
   "outputs": [
    {
     "name": "stdout",
     "output_type": "stream",
     "text": [
      "<class 'str'>\n",
      "<class 'str'>\n"
     ]
    }
   ],
   "source": [
    "import os\n",
    "from string import punctuation as p\n",
    "\n",
    "\n",
    "os.chdir(pathin)\n",
    "\n",
    "removelist = ['\\t', '\\r']\n",
    "\n",
    "with open(file,'r') as f:\n",
    "    text = f.read()\n",
    "\n",
    "\n",
    "for item in removelist:\n",
    "    print(type(text))\n",
    "#    text = text.replace(item, '')\n",
    "#text = text.split('@')"
   ]
  },
  {
   "cell_type": "code",
   "execution_count": 23,
   "metadata": {},
   "outputs": [
    {
     "ename": "AttributeError",
     "evalue": "'list' object has no attribute 'replace'",
     "output_type": "error",
     "traceback": [
      "\u001b[0;31m---------------------------------------------------------------------------\u001b[0m",
      "\u001b[0;31mAttributeError\u001b[0m                            Traceback (most recent call last)",
      "\u001b[0;32m<ipython-input-23-4f1dccf32a2f>\u001b[0m in \u001b[0;36m<module>\u001b[0;34m()\u001b[0m\n\u001b[1;32m     30\u001b[0m     \u001b[0mtext\u001b[0m \u001b[0;34m=\u001b[0m \u001b[0mf\u001b[0m\u001b[0;34m.\u001b[0m\u001b[0mread\u001b[0m\u001b[0;34m(\u001b[0m\u001b[0;34m)\u001b[0m\u001b[0;34m\u001b[0m\u001b[0;34m\u001b[0m\u001b[0m\n\u001b[1;32m     31\u001b[0m     \u001b[0;32mfor\u001b[0m \u001b[0mitem\u001b[0m \u001b[0;32min\u001b[0m \u001b[0mremovelist\u001b[0m\u001b[0;34m:\u001b[0m\u001b[0;34m\u001b[0m\u001b[0;34m\u001b[0m\u001b[0m\n\u001b[0;32m---> 32\u001b[0;31m         \u001b[0mtext\u001b[0m \u001b[0;34m=\u001b[0m \u001b[0mtext\u001b[0m\u001b[0;34m.\u001b[0m\u001b[0mreplace\u001b[0m\u001b[0;34m(\u001b[0m\u001b[0mitem\u001b[0m\u001b[0;34m,\u001b[0m \u001b[0;34m''\u001b[0m\u001b[0;34m)\u001b[0m\u001b[0;34m\u001b[0m\u001b[0;34m\u001b[0m\u001b[0m\n\u001b[0m\u001b[1;32m     33\u001b[0m         \u001b[0mtext\u001b[0m \u001b[0;34m=\u001b[0m \u001b[0mtext\u001b[0m\u001b[0;34m.\u001b[0m\u001b[0msplit\u001b[0m\u001b[0;34m(\u001b[0m\u001b[0;34m'\\n'\u001b[0m\u001b[0;34m)\u001b[0m\u001b[0;34m\u001b[0m\u001b[0;34m\u001b[0m\u001b[0m\n\u001b[1;32m     34\u001b[0m \u001b[0;34m\u001b[0m\u001b[0m\n",
      "\u001b[0;31mAttributeError\u001b[0m: 'list' object has no attribute 'replace'"
     ]
    }
   ],
   "source": [
    "for line in text:\n",
    "    if line.startswith('Participants: '):\n",
    "        p = line.replace('Participants: ', '')\n",
    "        p = p.split(',')\n",
    "\n",
    "    p1 = []\n",
    "    for i, val in enumerate(p):\n",
    "        v1 = val.replace(' ','')\n",
    "        v2 = v1.replace('\\n', '')\n",
    "        p1.append(v2[0:3])\n",
    "    people = p1\n",
    "\n",
    "with open(file,'r') as f:\n",
    "    text = f.read()\n",
    "    for item in removelist:\n",
    "        text = text.replace(item, '')\n",
    "        text = text.split('\\n')\n",
    "\n",
    "    trans = []\n",
    "    for line in text:\n",
    "        label = line[1:4]\n",
    "        if label in people:\n",
    "            trans.append(line)\n",
    "        elif label == 'mor':\n",
    "            trans.append(line)\n",
    "\n",
    "grouped = [trans[n:n+2] for n in range(0, len(trans), 2)]\n",
    "#print(grouped)\n",
    "\n",
    "p = '.!?'\n",
    "\n",
    "turn = []\n",
    "speaker = []\n",
    "mor = []\n",
    "for i, val in enumerate(grouped):\n",
    "    turn.append(i+1)\n",
    "\n",
    "for i in grouped:\n",
    "    s = i[0]\n",
    "    m = i[1]\n",
    "    for c in p:\n",
    "        m = m.replace(c, '')\n",
    "        m = m.strip()\n",
    "        m = m.replace('%mor:', '')\n",
    "        speaker.append(s[1:4])\n",
    "        mor.append(m)\n",
    "\n",
    "z = list(zip(turn, speaker, mor))\n",
    "\n",
    "turn = []\n",
    "speaker = []\n",
    "pss = []\n",
    "wds = []\n",
    "for i, val in enumerate(z):\n",
    "    x = z[i]\n",
    "    t = x[0]\n",
    "    s = x[1]\n",
    "    m = x[2]\n",
    "    m = m.split(' ')\n",
    "    p = []\n",
    "    w = []\n",
    "    for n in m:\n",
    "        temp = n.split('|')\n",
    "        p.append(temp[0])\n",
    "        w.append(temp[1])\n",
    "    turn.append(t)\n",
    "    speaker.append(s)\n",
    "    pss.append(p)\n",
    "    wds.append(w) \n",
    "\n",
    "pw = list(zip(turn,speaker,pss,wds))\n",
    "print(pw)\n",
    "\n",
    "lines = []\n",
    "for i in pw:\n",
    "    num = str(i[0])\n",
    "    speaker = i[1]\n",
    "    wds = i[3]\n",
    "    pss = i[2]\n",
    "    for j, val in enumerate(pss):\n",
    "        p = pss[j]\n",
    "        w = wds[j]\n",
    "        temp = num + ',' + speaker + ',' + w + ',' + p + '\\n'\n",
    "        lines.append(temp)      \n",
    "\n",
    "header = 'Turn,' + 'Speaker,' + 'Word' + 'POS' + '\\n'\n",
    "data = ''.join(lines)\n",
    "output = header + data"
   ]
  },
  {
   "cell_type": "code",
   "execution_count": null,
   "metadata": {},
   "outputs": [],
   "source": []
  },
  {
   "cell_type": "code",
   "execution_count": null,
   "metadata": {},
   "outputs": [],
   "source": []
  }
 ],
 "metadata": {
  "kernelspec": {
   "display_name": "Python 3",
   "language": "python",
   "name": "python3"
  },
  "language_info": {
   "codemirror_mode": {
    "name": "ipython",
    "version": 3
   },
   "file_extension": ".py",
   "mimetype": "text/x-python",
   "name": "python",
   "nbconvert_exporter": "python",
   "pygments_lexer": "ipython3",
   "version": "3.6.8"
  }
 },
 "nbformat": 4,
 "nbformat_minor": 2
}
