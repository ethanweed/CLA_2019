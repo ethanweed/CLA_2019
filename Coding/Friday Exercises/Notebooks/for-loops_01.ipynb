{
 "cells": [
  {
   "cell_type": "markdown",
   "metadata": {},
   "source": [
    "# Using *for*-loops to calculate MLU (in words)\n",
    "The purpose of this notebook is to practice using *for*-statements. We will use *for*-loops to calculate MLU in words, because this is easier than calculating MLU in morphemes. The procedure would be in principle the same, however. Working with morphemes is just harder, because it requires parsing tagged data, which can be a pain in the butt. So let's keep it simple.\n",
    "\n",
    "You can download the data for this exercise [here](https://minhaskamal.github.io/DownGit/#/home?url=https:%2F%2Fgithub.com%2Fethanweed%2FCLA_2019%2Ftree%2Fmaster%2FCoding%2FFriday%20Exercises%2FData%2FBrown_MOT%2FAdam)\n",
    "\n",
    "## Getting set up\n",
    "We can use the first cell or cells in the notebook to get our workspace set up. As an example, if we know that we will need certain packages, then it is nice to import them all at the beginning. Of course, we can always import them later, as needed. It can also make things easier to define some path variables at the beginning. I often use ``pathin`` to define where my data are going to come from, and ``pathout`` to define where files that the script creates will be saved. Putting these in variables at the top, rather than \"hard-coding\" them into your script makes it easier to keep track of, easier to call, and easier to change."
   ]
  },
  {
   "cell_type": "markdown",
   "metadata": {},
   "source": [
    "## Importing modules\n",
    "\n",
    "Part of the strength of Python is the many \"modules\" available, which are pre-written code that can do things for you. You can load these by writing ``import`` and then the name of the module. But you can also import *parts* of modules, and you can also give them new names. Often people import parts of modules and give them an abbreviation. There is a useful module called ``os`` which helps with navigating around in your file system, e.g. pointing to folders where data are stores. In the code below, I only import the part of ``os`` called ``chdir``(\"change directory\"). Also *I* like to rename it ``cd``, because that is shorter, and it is the same command for changing directories in Unix. But you could call it whatever you like, or not change the name at all. It's so easy! (Image credit: [XKCD](https://imgs.xkcd.com/comics/python.png))\n",
    "\n",
    "![Import_antigravity](https://imgs.xkcd.com/comics/python.png)\n"
   ]
  },
  {
   "cell_type": "code",
   "execution_count": 12,
   "metadata": {},
   "outputs": [],
   "source": [
    "from os import chdir as cd\n",
    "pathin = '/Users/ethan/Documents/GitHub/CLA_2019/Coding/Friday Exercises/Data/Brown_MOT/Adam'\n",
    "file = 'adam01.cha'"
   ]
  },
  {
   "cell_type": "markdown",
   "metadata": {},
   "source": [
    "## Loading transcript data\n",
    "\n",
    "The entire Brown corpus is available on CHILDES. Here, I have extracted Adam's mom's utterances. With the code below, we can read the data into python, and print the first 100 characters, just to check that it looks right. Remember, ``pathin ``and ``file``are both strings which were defined in the cell above.\n",
    "\n",
    "When we ``open``the file below, we make it available to python as an object called ``f``. We could do many different things with ``f``. To see a list of these options, type ``dir(f)``. In this case, we want to read it into a variable, which I have called ``text``."
   ]
  },
  {
   "cell_type": "code",
   "execution_count": 13,
   "metadata": {},
   "outputs": [
    {
     "name": "stdout",
     "output_type": "stream",
     "text": [
      "big drum\n",
      "horse\n",
      "who is that\n",
      "those are checkers\n",
      "two checkers  yes\n",
      "play checkers\n",
      "big horn\n",
      "get over  Mom\n"
     ]
    }
   ],
   "source": [
    "# change to the directory where the data are stored\n",
    "cd(pathin)\n",
    "\n",
    "# read in the contents of the file\n",
    "with open(file, 'r') as f:\n",
    "    text = f.read()\n",
    "\n",
    "# print the first 100 characters, just to make sure everything looks right.    \n",
    "print(text[0:100])"
   ]
  },
  {
   "cell_type": "markdown",
   "metadata": {},
   "source": [
    "## Make the data into a list\n",
    "\n",
    "If you type ``type(text)``, you will see that it is a string. But we want to calculate the mean length of utterance (MLU). This means we first need to know the length of each individual utterance. The we can add all of these utterance lengths together and divide by the number of utterances to get the mean. To do that, let's split the string into a list of utterances.\n",
    "\n",
    "Each utterance is on a new line in the transcript. We can use the \"new line\" indicator ``\\n``to tell python where to split the transcript, so that each utterance is one item in a list."
   ]
  },
  {
   "cell_type": "code",
   "execution_count": 14,
   "metadata": {},
   "outputs": [
    {
     "name": "stdout",
     "output_type": "stream",
     "text": [
      "['big drum', 'horse', 'who is that', 'those are checkers', 'two checkers  yes', 'play checkers', 'big horn', 'get over  Mommy', 'shadow', 'I like it']\n"
     ]
    }
   ],
   "source": [
    "# divide the string \"text\" into a list, by splitting it on every newline (\"\\n\")\n",
    "text = text.split('\\n')\n",
    "\n",
    "# check that the command did what we wanted it to.\n",
    "print(text[0:10])"
   ]
  },
  {
   "cell_type": "markdown",
   "metadata": {},
   "source": [
    "## Appending to an empty list\n",
    "\n",
    "A lot of programming involves patterns of commands. A very useful pattern in python is to first define an empty list, and then use a *for*-statement to loop through something, do some calculations, and then add the output to the empty list."
   ]
  },
  {
   "cell_type": "code",
   "execution_count": 15,
   "metadata": {},
   "outputs": [],
   "source": [
    "# set up an empty list\n",
    "lu = []\n",
    "\n",
    "# loop through the list of utterances\n",
    "for utterance in text:\n",
    "\n",
    "    # split each utterance into individual words. The default for \"split\" is to use whitespace.\n",
    "    words = utterance.split()\n",
    "\n",
    "    # count the number of words in each utterance\n",
    "    num_words = len(words)\n",
    "\n",
    "    # append the number of words in the utterance to the list \"lu\"\n",
    "    lu.append(num_words)"
   ]
  },
  {
   "cell_type": "code",
   "execution_count": 16,
   "metadata": {},
   "outputs": [
    {
     "name": "stdout",
     "output_type": "stream",
     "text": [
      "['big drum', 'horse', 'who is that', 'those are checkers', 'two checkers  yes']\n",
      "[2, 1, 3, 3, 3]\n"
     ]
    }
   ],
   "source": [
    "# We can do a quick check, to make sure it worked.\n",
    "\n",
    "print(text[0:5])\n",
    "print(lu[0:5])"
   ]
  },
  {
   "cell_type": "markdown",
   "metadata": {},
   "source": [
    "## Calculating MLU\n",
    "\n",
    "Now we are set up to calculate MLU. All we need to do is add up all the indivual utterance lengths, and divide by the number of utterances"
   ]
  },
  {
   "cell_type": "code",
   "execution_count": 17,
   "metadata": {},
   "outputs": [
    {
     "data": {
      "text/plain": [
       "4.111607142857143"
      ]
     },
     "execution_count": 17,
     "metadata": {},
     "output_type": "execute_result"
    }
   ],
   "source": [
    "# find mean length of utterance (in words)\n",
    "mlu = sum(lu)/len(lu)\n",
    "mlu"
   ]
  },
  {
   "cell_type": "markdown",
   "metadata": {},
   "source": [
    "## Plotting the results\n",
    "\n",
    "For fun, let's try looking at our data visually. We know Adam's mother used on average 4.1 words per utterance in this visit. But we also have the data for each individual utterance. It could be interesting to see whether the length of her utterances increased or decreased as the visit went on.\n",
    "\n",
    "To plot these data, we need to import more packages. We need ``matplotlib.pyplot`` for plotting, ``seaborn``for making plotting easier, and ``pandas``for organizing our data in a \"dataframe\". You can think of a dataframe as sort of like a spreadsheet, with columns and rows. The conventional abbreviations for these packages are ``plt``, ``sns``, and ``pd``.\n",
    "\n",
    "The first line, ``%matplotlib inline``, insures that the plot is shown within the jupyter notebook. Without it, python may try to open the plot somewhere else, and you might not be able to see it."
   ]
  },
  {
   "cell_type": "code",
   "execution_count": 18,
   "metadata": {},
   "outputs": [],
   "source": [
    "%matplotlib inline\n",
    "import matplotlib.pyplot as plt\n",
    "import seaborn as sns\n",
    "import pandas as pd"
   ]
  },
  {
   "cell_type": "markdown",
   "metadata": {},
   "source": [
    "## Making a dataframe\n",
    "\n",
    "Here we make dataframe with the individual utterance lengths we have extracted from Adam's mother's data. We can put these utterance lengths on the y-axis of our plot. To show the progression over the course of the visit, though, we also need an a-axis. We can get one by just generating a list of numbers that go in order from 1 to the total number of utterances (which would be ``len(lu)+1``). If you are not sure what the ``+1``is for, try running the following:\n",
    "\n",
    "``for i in range(1,10,1):\n",
    "    print(i)``\n",
    "\n",
    "Once we have a list of visit numbers (which I have called ``utterances``) and a list of utterance lengths (in this case, ``lu``), we can use ``pd.DataFrame``to make a new dataframe."
   ]
  },
  {
   "cell_type": "code",
   "execution_count": 19,
   "metadata": {},
   "outputs": [],
   "source": [
    "utterances = list(range(1, len(lu)+1, 1))\n",
    "df = pd.DataFrame(\n",
    "    {'Utterance Number': utterances,\n",
    "     'Length of Utterance': lu\n",
    "    }) "
   ]
  },
  {
   "cell_type": "code",
   "execution_count": 20,
   "metadata": {},
   "outputs": [
    {
     "data": {
      "text/plain": [
       "<seaborn.axisgrid.FacetGrid at 0x11c886f98>"
      ]
     },
     "execution_count": 20,
     "metadata": {},
     "output_type": "execute_result"
    },
    {
     "data": {
      "image/png": "[encoded data removed]",
      "text/plain": [
       "<matplotlib.figure.Figure at 0x104897320>"
      ]
     },
     "metadata": {},
     "output_type": "display_data"
    }
   ],
   "source": [
    "# At the time of writing this, there is some old-ish code in seaborn, which will make a red warning.\n",
    "# Since this warning doesn't really have anything to do with us, we can ask python not to show us the warning.\n",
    "# But I should warn you, it is normally probably a good idea to listen to warnings.\n",
    "import warnings\n",
    "warnings.filterwarnings(\"ignore\")\n",
    "\n",
    "sns.set_style(\"white\")\n",
    "sns.lmplot(x = \"Utterance Number\", y= \"Length of Utterance\", data = df)"
   ]
  },
  {
   "cell_type": "markdown",
   "metadata": {},
   "source": [
    "## Exercise: Plot the Progression of Adam's mom's MLU over time\n",
    "\n",
    "You now know how to plot Adam's mom's utterance length over the course of a single visit. With the addition of a single package (``glob``), you now have the tools to make a plot with Adam's mom's MLU on the y-axis, and visit number on the x-axis, which may be more interesting from a developmental-theoretical point of view.\n",
    "\n",
    "### Quiz\n",
    "1. We know from Brown's graph that Adam's MLU goes up over time. Will his mom's MLU go up, go down, or stay the same over the 55 visits Brown and his students made? What is your prediction?\n",
    "2. Write a script that calculates this, and plots it.\n",
    "3. Was your prediction right?\n",
    "\n",
    "To keep things neat and tidy, I reccomend starting a new notebook to do the quiz. Below, I provide you with the first cells. As you can see, these cells will get you a list called ``mot_Adam`` which is a list of lists: Each list in ``mot_Adam`` is list of all Adam's mom's utterances for each visit (each of the 55 Adam transcripts). **HINT:** I suggest *nesting* your *for*-loops, so you can loop through each utterance in each transcript."
   ]
  },
  {
   "cell_type": "code",
   "execution_count": null,
   "metadata": {},
   "outputs": [],
   "source": [
    "from os import chdir as cd\n",
    "import glob\n",
    "%matplotlib inline\n",
    "import matplotlib.pyplot as plt\n",
    "import seaborn as sns\n",
    "import pandas as pd\n",
    "\n",
    "# remember to replace with your own path\n",
    "pathin = '/Users/ethan/Documents/GitHub/CLA_2019/Coding/Friday Exercises/Data/Brown_MOT/Adam'"
   ]
  },
  {
   "cell_type": "code",
   "execution_count": null,
   "metadata": {},
   "outputs": [],
   "source": [
    "cd(pathin)\n",
    "mot_Adam = []\n",
    "for file in glob.glob('*.cha'):\n",
    "    with open(file,'r') as f:\n",
    "        text = f.read()\n",
    "        text = text.split('\\n')\n",
    "        mot_Adam.append(text)\n",
    "print(type(mot_Adam))\n",
    "print(len(mot_Adam))"
   ]
  }
 ],
 "metadata": {
  "kernelspec": {
   "display_name": "Python 3",
   "language": "python",
   "name": "python3"
  },
  "language_info": {
   "codemirror_mode": {
    "name": "ipython",
    "version": 3
   },
   "file_extension": ".py",
   "mimetype": "text/x-python",
   "name": "python",
   "nbconvert_exporter": "python",
   "pygments_lexer": "ipython3",
   "version": "3.6.8"
  }
 },
 "nbformat": 4,
 "nbformat_minor": 2
}
