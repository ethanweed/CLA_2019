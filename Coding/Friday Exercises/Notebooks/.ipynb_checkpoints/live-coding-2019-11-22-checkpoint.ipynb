{
 "cells": [
  {
   "cell_type": "markdown",
   "metadata": {},
   "source": [
    "# Exercises\n",
    "\n",
    "\n",
    "1. Read in all transcripts with Adam, Sarah and Eve, respectively, and store each Reader object (an aggregated bunch of transcripts in PyLangAcq) in a variable.\n",
    "1. Print it out the number of words per file for each dataset.\n",
    "1. The same as above, but now only for the target child in the transcripts (e.g. only for Adam in the Adam dataset)\n",
    "1. Find the most frequent words, bigrams (combination of two words in a row) and trigrams.\n",
    "\n",
    "## Advanced:\n",
    "1. Calculate MLU on morpheme and word basis for each transcript. Are they correlated? Try to plot it.\n",
    "1. Look at concordance for wh-words like what and why for the target children. Do they use the words as expected, i.e. fronted, and how do they structure the rest of the sentences? Are there noteworthy differences from early transcripts to later ones?"
   ]
  },
  {
   "cell_type": "markdown",
   "metadata": {},
   "source": [
    "Read in all transcripts with Adam, Sarah and Eve, respectively, and store each Reader object (an aggregated bunch of transcripts in PyLangAcq) in a variable."
   ]
  },
  {
   "cell_type": "code",
   "execution_count": 73,
   "metadata": {},
   "outputs": [],
   "source": [
    "from string import punctuation as punct\n",
    "from os import chdir as cd\n",
    "import pylangacq as pla\n",
    "import string\n",
    "import glob\n",
    "import os"
   ]
  },
  {
   "cell_type": "code",
   "execution_count": 82,
   "metadata": {},
   "outputs": [],
   "source": [
    "pathin = '/Users/ethan/Documents/GitHub/CLA_2019/Coding/Friday Exercises/Data/Brown/Eve'\n",
    "cd(pathin)\n",
    "filenames = os.listdir()\n",
    "filenames = sorted(filenames)\n",
    "filenames = filenames[1:]"
   ]
  },
  {
   "cell_type": "code",
   "execution_count": 83,
   "metadata": {},
   "outputs": [],
   "source": [
    "files = []\n",
    "nw_eve = []\n",
    "for file in filenames:\n",
    "    f = pla.read_chat(file)\n",
    "    words = f.words()\n",
    "    words = [x for x in words if x not in punct]\n",
    "    numwords = len(words)\n",
    "    nw_eve.append(numwords)\n",
    "    files.append(file[0:-4])"
   ]
  },
  {
   "cell_type": "code",
   "execution_count": 84,
   "metadata": {},
   "outputs": [
    {
     "name": "stdout",
     "output_type": "stream",
     "text": [
      "eve01: 4250\n",
      "eve02: 4022\n",
      "eve03: 1882\n",
      "eve04: 4324\n",
      "eve05: 4260\n",
      "eve06: 3325\n",
      "eve07: 4063\n",
      "eve08: 6898\n",
      "eve09: 3466\n",
      "eve10: 3486\n",
      "eve11: 3261\n",
      "eve12: 4893\n",
      "eve13: 3525\n",
      "eve14: 4124\n",
      "eve15: 6470\n",
      "eve16: 5901\n",
      "eve17: 8762\n",
      "eve18: 6705\n",
      "eve19: 5598\n",
      "eve20: 4289\n"
     ]
    }
   ],
   "source": [
    "for x, val in enumerate(files):\n",
    "    print(str(files[x]) + ': ' + str(nw_eve[x]))"
   ]
  },
  {
   "cell_type": "code",
   "execution_count": null,
   "metadata": {},
   "outputs": [],
   "source": []
  },
  {
   "cell_type": "code",
   "execution_count": 52,
   "metadata": {},
   "outputs": [],
   "source": []
  },
  {
   "cell_type": "code",
   "execution_count": null,
   "metadata": {},
   "outputs": [],
   "source": []
  },
  {
   "cell_type": "code",
   "execution_count": null,
   "metadata": {},
   "outputs": [],
   "source": []
  }
 ],
 "metadata": {
  "kernelspec": {
   "display_name": "Python 3",
   "language": "python",
   "name": "python3"
  },
  "language_info": {
   "codemirror_mode": {
    "name": "ipython",
    "version": 3
   },
   "file_extension": ".py",
   "mimetype": "text/x-python",
   "name": "python",
   "nbconvert_exporter": "python",
   "pygments_lexer": "ipython3",
   "version": "3.7.3"
  }
 },
 "nbformat": 4,
 "nbformat_minor": 2
}
