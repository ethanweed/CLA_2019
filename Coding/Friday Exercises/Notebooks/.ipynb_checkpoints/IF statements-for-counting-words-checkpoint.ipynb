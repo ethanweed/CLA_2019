{
 "cells": [
  {
   "cell_type": "markdown",
   "metadata": {},
   "source": [
    "# Using *if*-statements for counting words\n",
    "\n",
    "*if*-statements tell the computer to things based on conditions we define. If the data meet a certain condition, the computer does one thing. If they do not, the computer does something else.\n",
    "\n",
    "First, we load some data. These data are from the Brown corpus, and are all the words spoken by Adam's mother during the first visit. You will of course need to change the value of ```pathin``` so that it matches the path on your computer."
   ]
  },
  {
   "cell_type": "code",
   "execution_count": null,
   "metadata": {},
   "outputs": [],
   "source": [
    "from os import chdir as cd\n",
    "pathin = '/Users/ethan/Documents/GitHub/CLA_2019/Coding/Friday Exercises/Data/'\n",
    "file = 'Adam_mot_words_list.txt'\n",
    "\n",
    "\n",
    "cd(pathin)\n",
    "\n",
    "with open(file,'r') as f:\n",
    "    text = f.read()\n",
    "words = text.split(' ')"
   ]
  },
  {
   "cell_type": "code",
   "execution_count": null,
   "metadata": {},
   "outputs": [],
   "source": [
    "#look at the first few words to check that everyting looks fine\n",
    "words[0:10]"
   ]
  },
  {
   "cell_type": "code",
   "execution_count": null,
   "metadata": {},
   "outputs": [],
   "source": [
    "# set up counters for counting the question words\n",
    "what = 0\n",
    "how = 0\n",
    "do = 0"
   ]
  },
  {
   "cell_type": "code",
   "execution_count": null,
   "metadata": {},
   "outputs": [],
   "source": [
    "# count these question words\n",
    "for i in words:\n",
    "    if i == 'what':\n",
    "        what = what + 1\n",
    "    if i == 'how':\n",
    "        how = how + 1\n",
    "    if i == 'do':\n",
    "        do = do +1"
   ]
  },
  {
   "cell_type": "code",
   "execution_count": null,
   "metadata": {},
   "outputs": [],
   "source": [
    "# calculate total number of words for each child, and percentage of total that is each of the question words\n",
    "numwords = len(words)\n",
    "num_question_words = what + how + do\n",
    "what_per = what/numwords*100\n",
    "how_per = how/numwords*100\n",
    "do_per = do/numwords*100\n",
    "\n",
    "# calculate the number of words which are not question words\n",
    "question_words = what_per + how_per + do_per\n",
    "other = 100 - question_words\n",
    "\n",
    "print('Total words: ' + str(numwords))\n",
    "print('Question words: ' + str(num_question_words))"
   ]
  },
  {
   "cell_type": "code",
   "execution_count": null,
   "metadata": {},
   "outputs": [],
   "source": [
    "# display the answers\n",
    "print('% what: ' + str(what))\n",
    "print('% how: ' + str(how))\n",
    "print('% do: ' + str(do))"
   ]
  },
  {
   "cell_type": "code",
   "execution_count": null,
   "metadata": {},
   "outputs": [],
   "source": [
    "# Make a pie chart showing proportion of question words to total words\n",
    "# pie chart code ripped from: http://www.learningaboutelectronics.com/Articles/How-to-create-a-pie-chart-in-matplotlib-with-Python.php\n",
    "import matplotlib.pyplot as plt\n",
    "%matplotlib inline\n",
    "\n",
    "labels= ['Questions', 'Other']\n",
    "\n",
    "colors=['green', 'yellow']\n",
    "\n",
    "sizes= [question_words, other]\n",
    "\n",
    "\n",
    "plt.pie(sizes,labels=labels, colors=colors, startangle=300, shadow=True, autopct='%1.2f%%')\n",
    "\n",
    "plt.title('Percentages of Word Types for Adam\\'s Mom')\n",
    "\n",
    "plt.axis('equal')\n",
    "\n",
    "plt.show()"
   ]
  },
  {
   "cell_type": "code",
   "execution_count": null,
   "metadata": {},
   "outputs": [],
   "source": [
    "# Make a pie chart showing proportions of questions words relative to each other\n",
    "\n",
    "labels= ['What', 'How', 'Do']\n",
    "\n",
    "colors=['green', 'blue', 'orange']\n",
    "\n",
    "sizes= [what, how, do]\n",
    "\n",
    "\n",
    "plt.pie(sizes,labels=labels, colors=colors, startangle=300, shadow=True,explode=(0.1, 0.1, 0.1), autopct='%1.2f%%')\n",
    "\n",
    "plt.title('Relative Proportions of Questions Words for Adam\\'s Mom')\n",
    "\n",
    "plt.axis('equal')\n",
    "\n",
    "plt.show()"
   ]
  },
  {
   "cell_type": "markdown",
   "metadata": {},
   "source": [
    "# Excercises\n",
    "\n",
    "1. \"What\", \"how\", and \"do\" are not the only question words in English. Modify the code to include some more question words. Find percentages for these additional words, and include them in your pie charts.\n",
    "2. Modify the code so that it finds percentages for some other words.\n",
    "3. What can we learn about first language acquisition by this kind of analysis?\n",
    "4. What other kinds of information would be useful to know when interpreting these results?\n"
   ]
  },
  {
   "cell_type": "code",
   "execution_count": null,
   "metadata": {},
   "outputs": [],
   "source": []
  }
 ],
 "metadata": {
  "kernelspec": {
   "display_name": "Python 3",
   "language": "python",
   "name": "python3"
  },
  "language_info": {
   "codemirror_mode": {
    "name": "ipython",
    "version": 3
   },
   "file_extension": ".py",
   "mimetype": "text/x-python",
   "name": "python",
   "nbconvert_exporter": "python",
   "pygments_lexer": "ipython3",
   "version": "3.6.8"
  }
 },
 "nbformat": 4,
 "nbformat_minor": 2
}
