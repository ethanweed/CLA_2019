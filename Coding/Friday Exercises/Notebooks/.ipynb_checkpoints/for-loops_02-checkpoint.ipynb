{
 "cells": [
  {
   "cell_type": "markdown",
   "metadata": {},
   "source": [
    "# Solution for quiz in \"for-loops_01\"\n"
   ]
  },
  {
   "cell_type": "code",
   "execution_count": 30,
   "metadata": {},
   "outputs": [],
   "source": [
    "from os import chdir as cd\n",
    "import glob\n",
    "%matplotlib inline\n",
    "import matplotlib.pyplot as plt\n",
    "import seaborn as sns\n",
    "import pandas as pd\n",
    "\n",
    "pathin = '/Users/ethan/Documents/GitHub/CLA_2019/Coding/Friday Exercises/Data/Brown_MOT/Adam'"
   ]
  },
  {
   "cell_type": "code",
   "execution_count": 35,
   "metadata": {},
   "outputs": [],
   "source": [
    "cd(pathin)\n",
    "mot_Adam = []\n",
    "files = []\n",
    "for file in glob.glob('*.cha'):\n",
    "    with open(file,'r') as f:\n",
    "        files.append(file)\n",
    "files.sort()"
   ]
  },
  {
   "cell_type": "code",
   "execution_count": 36,
   "metadata": {},
   "outputs": [],
   "source": [
    "for file in files:\n",
    "    with open(file, 'r') as f:\n",
    "        text = f.read()\n",
    "        text = text.split('\\n')\n",
    "        mot_Adam.append(text)"
   ]
  },
  {
   "cell_type": "code",
   "execution_count": 37,
   "metadata": {},
   "outputs": [
    {
     "name": "stdout",
     "output_type": "stream",
     "text": [
      "['adam01.cha', 'adam02.cha', 'adam03.cha', 'adam04.cha', 'adam05.cha', 'adam06.cha', 'adam07.cha', 'adam08.cha', 'adam09.cha', 'adam10.cha', 'adam11.cha', 'adam12.cha', 'adam13.cha', 'adam14.cha', 'adam15.cha', 'adam16.cha', 'adam17.cha', 'adam18.cha', 'adam19.cha', 'adam20.cha', 'adam21.cha', 'adam22.cha', 'adam23.cha', 'adam24.cha', 'adam25.cha', 'adam26.cha', 'adam27.cha', 'adam28.cha', 'adam29.cha', 'adam30.cha', 'adam31.cha', 'adam32.cha', 'adam33.cha', 'adam34.cha', 'adam35.cha', 'adam36.cha', 'adam37.cha', 'adam38.cha', 'adam39.cha', 'adam40.cha', 'adam41.cha', 'adam42.cha', 'adam43.cha', 'adam44.cha', 'adam45.cha', 'adam46.cha', 'adam47.cha', 'adam48.cha', 'adam49.cha', 'adam50.cha', 'adam51.cha', 'adam52.cha', 'adam53.cha', 'adam54.cha', 'adam55.cha']\n"
     ]
    }
   ],
   "source": [
    "print(files)"
   ]
  },
  {
   "cell_type": "markdown",
   "metadata": {},
   "source": [
    "The cell below is the key to my solution to this problem. We started with a list of lists, in which each sub-list was a list of utterances. So, my soluton uses nested for-loops to loop through each sub-list, and then loop through each utterance in that sub-list, collecting the necessary data and appending it to empty loops both within and outside of the loops. Other solutions are doubtless possible. This is just the way I did it."
   ]
  },
  {
   "cell_type": "code",
   "execution_count": 26,
   "metadata": {},
   "outputs": [],
   "source": [
    "mlu_all = []\n",
    "lu_all = []\n",
    "\n",
    "for text in mot_Adam:\n",
    "    # set up an empty list\n",
    "    lu = []\n",
    "\n",
    "    # loop through utterances and count words\n",
    "    for utterance in text:\n",
    "        words = utterance.split()\n",
    "        num_words = len(words)\n",
    "        lu.append(num_words)\n",
    "    lu_all.append(lu)\n",
    "    mlu = sum(lu)/len(lu)\n",
    "    mlu_all.append(mlu)\n",
    "    "
   ]
  },
  {
   "cell_type": "code",
   "execution_count": 27,
   "metadata": {},
   "outputs": [
    {
     "data": {
      "text/plain": [
       "55"
      ]
     },
     "execution_count": 27,
     "metadata": {},
     "output_type": "execute_result"
    }
   ],
   "source": [
    "# check that we have an MLU for each Adam file\n",
    "len(mlu_all)"
   ]
  },
  {
   "cell_type": "code",
   "execution_count": 28,
   "metadata": {},
   "outputs": [],
   "source": [
    "visits = list(range(1, len(mlu_all)+1, 1))\n",
    "df = pd.DataFrame(\n",
    "    {'Visits': visits,\n",
    "     'MLU': mlu_all\n",
    "    })"
   ]
  },
  {
   "cell_type": "code",
   "execution_count": 29,
   "metadata": {},
   "outputs": [
    {
     "data": {
      "text/plain": [
       "<seaborn.axisgrid.FacetGrid at 0x11c4ab0b8>"
      ]
     },
     "execution_count": 29,
     "metadata": {},
     "output_type": "execute_result"
    },
    {
     "data": {
      "image/png": "[encoded data removed]",
      "text/plain": [
       "<matplotlib.figure.Figure at 0x11c4ab0f0>"
      ]
     },
     "metadata": {},
     "output_type": "display_data"
    }
   ],
   "source": [
    "import warnings\n",
    "warnings.filterwarnings(\"ignore\")\n",
    "sns.set_style(\"white\")\n",
    "sns.lmplot(x = \"Visits\", y= \"MLU\", data = df)"
   ]
  },
  {
   "cell_type": "code",
   "execution_count": null,
   "metadata": {},
   "outputs": [],
   "source": []
  }
 ],
 "metadata": {
  "kernelspec": {
   "display_name": "Python 3",
   "language": "python",
   "name": "python3"
  },
  "language_info": {
   "codemirror_mode": {
    "name": "ipython",
    "version": 3
   },
   "file_extension": ".py",
   "mimetype": "text/x-python",
   "name": "python",
   "nbconvert_exporter": "python",
   "pygments_lexer": "ipython3",
   "version": "3.6.8"
  }
 },
 "nbformat": 4,
 "nbformat_minor": 2
}
