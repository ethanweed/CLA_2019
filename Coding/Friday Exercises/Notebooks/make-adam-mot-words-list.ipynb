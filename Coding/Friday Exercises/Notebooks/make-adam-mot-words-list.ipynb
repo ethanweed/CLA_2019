{
 "cells": [
  {
   "cell_type": "code",
   "execution_count": 26,
   "metadata": {},
   "outputs": [],
   "source": [
    "from os import chdir as cd\n",
    "\n",
    "funpath = '/Users/ethan/Documents/GitHub/CLA_2019/Coding/Friday Exercises/Functions/'\n",
    "pathout = '/Users/ethan/Documents/GitHub/CLA_2019/Coding/Friday Exercises/Data'\n",
    "pathin = '/Users/ethan/Documents/GitHub/CLA_2019/Coding/Friday Exercises/Data/Brown/Adam/'\n",
    "file = 'adam01.cha'\n",
    "\n",
    "cd(funpath)\n",
    "import getmotchi\n",
    "\n",
    "cd(pathin)\n",
    "\n",
    "text = getmotchi.getmot(file)\n",
    "\n",
    "text = [line.replace('*MOT:', '') for line in text]\n",
    "text = [line.replace(' (.)', '') for line in text]\n",
    "text = ' '.join(text)\n",
    "\n",
    "cd(pathout)\n",
    "with open('Adam_mot_words_list.txt', 'a+') as newfile:\n",
    "    newfile.write(text)\n",
    "newfile.close()\n"
   ]
  },
  {
   "cell_type": "code",
   "execution_count": null,
   "metadata": {},
   "outputs": [],
   "source": []
  }
 ],
 "metadata": {
  "kernelspec": {
   "display_name": "Python 3",
   "language": "python",
   "name": "python3"
  },
  "language_info": {
   "codemirror_mode": {
    "name": "ipython",
    "version": 3
   },
   "file_extension": ".py",
   "mimetype": "text/x-python",
   "name": "python",
   "nbconvert_exporter": "python",
   "pygments_lexer": "ipython3",
   "version": "3.6.8"
  }
 },
 "nbformat": 4,
 "nbformat_minor": 2
}
