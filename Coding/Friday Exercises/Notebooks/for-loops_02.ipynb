{
 "cells": [
  {
   "cell_type": "markdown",
   "metadata": {},
   "source": [
    "# Solution for quiz in \"for-loops_01\"\n"
   ]
  },
  {
   "cell_type": "code",
   "execution_count": 30,
   "metadata": {},
   "outputs": [],
   "source": [
    "from os import chdir as cd\n",
    "import glob\n",
    "%matplotlib inline\n",
    "import matplotlib.pyplot as plt\n",
    "import seaborn as sns\n",
    "import pandas as pd\n",
    "\n",
    "pathin = '/Users/ethan/Documents/GitHub/CLA_2019/Coding/Friday Exercises/Data/Brown_MOT/Adam'"
   ]
  },
  {
   "cell_type": "code",
   "execution_count": 38,
   "metadata": {},
   "outputs": [],
   "source": [
    "cd(pathin)\n",
    "mot_Adam = []\n",
    "files = []\n",
    "for file in glob.glob('*.cha'):\n",
    "    with open(file,'r') as f:\n",
    "        files.append(file)\n",
    "files.sort()"
   ]
  },
  {
   "cell_type": "code",
   "execution_count": 39,
   "metadata": {},
   "outputs": [],
   "source": [
    "for file in files:\n",
    "    with open(file, 'r') as f:\n",
    "        text = f.read()\n",
    "        text = text.split('\\n')\n",
    "        mot_Adam.append(text)"
   ]
  },
  {
   "cell_type": "code",
   "execution_count": null,
   "metadata": {},
   "outputs": [],
   "source": []
  },
  {
   "cell_type": "markdown",
   "metadata": {},
   "source": [
    "The cell below is the key to my solution to this problem. We started with a list of lists, in which each sub-list was a list of utterances. So, my soluton uses nested for-loops to loop through each sub-list, and then loop through each utterance in that sub-list, collecting the necessary data and appending it to empty loops both within and outside of the loops. Other solutions are doubtless possible. This is just the way I did it."
   ]
  },
  {
   "cell_type": "code",
   "execution_count": 40,
   "metadata": {},
   "outputs": [],
   "source": [
    "mlu_all = []\n",
    "lu_all = []\n",
    "\n",
    "for text in mot_Adam:\n",
    "    # set up an empty list\n",
    "    lu = []\n",
    "\n",
    "    # loop through utterances and count words\n",
    "    for utterance in text:\n",
    "        words = utterance.split()\n",
    "        num_words = len(words)\n",
    "        lu.append(num_words)\n",
    "    lu_all.append(lu)\n",
    "    mlu = sum(lu)/len(lu)\n",
    "    mlu_all.append(mlu)\n",
    "    "
   ]
  },
  {
   "cell_type": "code",
   "execution_count": 41,
   "metadata": {},
   "outputs": [
    {
     "data": {
      "text/plain": [
       "55"
      ]
     },
     "execution_count": 41,
     "metadata": {},
     "output_type": "execute_result"
    }
   ],
   "source": [
    "# check that we have an MLU for each Adam file\n",
    "len(mlu_all)"
   ]
  },
  {
   "cell_type": "code",
   "execution_count": 42,
   "metadata": {},
   "outputs": [],
   "source": [
    "visits = list(range(1, len(mlu_all)+1, 1))\n",
    "df = pd.DataFrame(\n",
    "    {'Visits': visits,\n",
    "     'MLU': mlu_all\n",
    "    })"
   ]
  },
  {
   "cell_type": "code",
   "execution_count": 43,
   "metadata": {},
   "outputs": [
    {
     "data": {
      "text/plain": [
       "<seaborn.axisgrid.FacetGrid at 0x11c449b70>"
      ]
     },
     "execution_count": 43,
     "metadata": {},
     "output_type": "execute_result"
    },
    {
     "data": {
      "image/png": "[encoded data removed]",
      "text/plain": [
       "<matplotlib.figure.Figure at 0x11c449b00>"
      ]
     },
     "metadata": {},
     "output_type": "display_data"
    }
   ],
   "source": [
    "import warnings\n",
    "warnings.filterwarnings(\"ignore\")\n",
    "sns.set_style(\"white\")\n",
    "sns.lmplot(x = \"Visits\", y= \"MLU\", data = df)"
   ]
  },
  {
   "cell_type": "code",
   "execution_count": null,
   "metadata": {},
   "outputs": [],
   "source": []
  }
 ],
 "metadata": {
  "kernelspec": {
   "display_name": "Python 3",
   "language": "python",
   "name": "python3"
  },
  "language_info": {
   "codemirror_mode": {
    "name": "ipython",
    "version": 3
   },
   "file_extension": ".py",
   "mimetype": "text/x-python",
   "name": "python",
   "nbconvert_exporter": "python",
   "pygments_lexer": "ipython3",
   "version": "3.6.8"
  }
 },
 "nbformat": 4,
 "nbformat_minor": 2
}
