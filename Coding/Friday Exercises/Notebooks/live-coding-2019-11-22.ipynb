{
 "cells": [
  {
   "cell_type": "markdown",
   "metadata": {},
   "source": [
    "# Exercises\n",
    "\n",
    "\n",
    "1. Read in all transcripts with Adam, Sarah and Eve, respectively, and store each Reader object (an aggregated bunch of transcripts in PyLangAcq) in a variable.\n",
    "1. Print it out the number of words per file for each dataset.\n",
    "1. The same as above, but now only for the target child in the transcripts (e.g. only for Adam in the Adam dataset)\n",
    "1. Find the most frequent words, bigrams (combination of two words in a row) and trigrams.\n",
    "\n",
    "## Advanced:\n",
    "1. Calculate MLU on morpheme and word basis for each transcript. Are they correlated? Try to plot it.\n",
    "1. Look at concordance for wh-words like what and why for the target children. Do they use the words as expected, i.e. fronted, and how do they structure the rest of the sentences? Are there noteworthy differences from early transcripts to later ones?"
   ]
  },
  {
   "cell_type": "markdown",
   "metadata": {},
   "source": [
    "Read in all transcripts with Adam, Sarah and Eve, respectively, and store each Reader object (an aggregated bunch of transcripts in PyLangAcq) in a variable."
   ]
  },
  {
   "cell_type": "code",
   "execution_count": null,
   "metadata": {},
   "outputs": [],
   "source": [
    "from string import punctuation as punct\n",
    "from os import chdir as cd\n",
    "import pylangacq as pla\n",
    "import string\n",
    "import glob\n",
    "import os"
   ]
  },
  {
   "cell_type": "code",
   "execution_count": null,
   "metadata": {},
   "outputs": [],
   "source": [
    "pathin = '/Users/ethan/Documents/GitHub/CLA_2019/Coding/Friday Exercises/Data/Brown/Eve'\n",
    "cd(pathin)\n",
    "filenames = os.listdir()\n",
    "filenames = sorted(filenames)\n",
    "filenames = filenames[1:]"
   ]
  },
  {
   "cell_type": "code",
   "execution_count": null,
   "metadata": {},
   "outputs": [],
   "source": [
    "files = []\n",
    "nw_eve = []\n",
    "for file in filenames:\n",
    "    f = pla.read_chat(file)\n",
    "    words = f.words()\n",
    "    words = [x for x in words if x not in punct]\n",
    "    numwords = len(words)\n",
    "    nw_eve.append(numwords)\n",
    "    files.append(file[0:-4])"
   ]
  },
  {
   "cell_type": "code",
   "execution_count": null,
   "metadata": {},
   "outputs": [],
   "source": [
    "for x, val in enumerate(files):\n",
    "    print(str(files[x]) + ': ' + str(nw_eve[x]))"
   ]
  },
  {
   "cell_type": "code",
   "execution_count": 1,
   "metadata": {},
   "outputs": [
    {
     "ename": "NameError",
     "evalue": "name 'os' is not defined",
     "output_type": "error",
     "traceback": [
      "\u001b[0;31m---------------------------------------------------------------------------\u001b[0m",
      "\u001b[0;31mNameError\u001b[0m                                 Traceback (most recent call last)",
      "\u001b[0;32m<ipython-input-1-c5dbe3f6222f>\u001b[0m in \u001b[0;36m<module>\u001b[0;34m\u001b[0m\n\u001b[1;32m      1\u001b[0m \u001b[0mfuncpath\u001b[0m \u001b[0;34m=\u001b[0m \u001b[0;34m\"/Users/ethan/Documents/GitHub/CLA_2019/CLA_2018/Functions\"\u001b[0m\u001b[0;34m\u001b[0m\u001b[0;34m\u001b[0m\u001b[0m\n\u001b[0;32m----> 2\u001b[0;31m \u001b[0mos\u001b[0m\u001b[0;34m.\u001b[0m\u001b[0mchdir\u001b[0m\u001b[0;34m(\u001b[0m\u001b[0mfuncpath\u001b[0m\u001b[0;34m)\u001b[0m\u001b[0;34m\u001b[0m\u001b[0;34m\u001b[0m\u001b[0m\n\u001b[0m",
      "\u001b[0;31mNameError\u001b[0m: name 'os' is not defined"
     ]
    }
   ],
   "source": [
    "import o\n",
    "funcpath = \"/Users/ethan/Documents/GitHub/CLA_2019/CLA_2018/Functions\"\n",
    "os.chdir(funcpath)"
   ]
  },
  {
   "cell_type": "code",
   "execution_count": null,
   "metadata": {},
   "outputs": [],
   "source": [
    "import getmotchi"
   ]
  },
  {
   "cell_type": "code",
   "execution_count": null,
   "metadata": {},
   "outputs": [],
   "source": [
    "os.chdir(pathin)"
   ]
  },
  {
   "cell_type": "code",
   "execution_count": null,
   "metadata": {},
   "outputs": [],
   "source": [
    "e = getmotchi.getmot(\"eve01.cha\")"
   ]
  },
  {
   "cell_type": "code",
   "execution_count": null,
   "metadata": {},
   "outputs": [],
   "source": [
    "print(e[0:20])"
   ]
  },
  {
   "cell_type": "code",
   "execution_count": null,
   "metadata": {},
   "outputs": [],
   "source": []
  }
 ],
 "metadata": {
  "kernelspec": {
   "display_name": "Python 3",
   "language": "python",
   "name": "python3"
  },
  "language_info": {
   "codemirror_mode": {
    "name": "ipython",
    "version": 3
   },
   "file_extension": ".py",
   "mimetype": "text/x-python",
   "name": "python",
   "nbconvert_exporter": "python",
   "pygments_lexer": "ipython3",
   "version": "3.7.3"
  }
 },
 "nbformat": 4,
 "nbformat_minor": 2
}
