{
 "cells": [
  {
   "cell_type": "code",
   "execution_count": null,
   "metadata": {},
   "outputs": [],
   "source": [
    "import pylangacq as pla\n",
    "from os import chdir as cd\n",
    "import glob\n",
    "pathin = '/Users/ethan/Documents/GitHub/CLA_2019/Coding/Friday Exercises/Data/Hall/'\n",
    "\n",
    "CDS_pro = []\n",
    "CDS_work = []"
   ]
  },
  {
   "cell_type": "code",
   "execution_count": 38,
   "metadata": {},
   "outputs": [],
   "source": [
    "cd(pathin + \"WhitePro\")\n",
    "\n",
    "files = ['job.cha','lea.cha','maa.cha','rob.cha','toh.cha','zoe.cha']\n",
    "\n",
    "for file in files:\n",
    "    pro = pla.read_chat(file)\n",
    "    CDS = pro.words(participant = 'MOT')\n",
    "    CDS_pro.append(len(CDS))\n",
    "    "
   ]
  },
  {
   "cell_type": "code",
   "execution_count": 40,
   "metadata": {},
   "outputs": [],
   "source": [
    "cd(pathin + \"WhiteWork\")\n",
    "\n",
    "files = ['boo.cha','brh.cha','dal.cha','kag.cha','kao.cha','mig.cha','sat.cha','stl.cha']\n",
    "\n",
    "for file in files:\n",
    "    work = pla.read_chat(file)\n",
    "    CDS = work.words(participant = 'MOT')\n",
    "    CDS_work.append(len(CDS))\n",
    "    "
   ]
  },
  {
   "cell_type": "code",
   "execution_count": 42,
   "metadata": {},
   "outputs": [
    {
     "name": "stdout",
     "output_type": "stream",
     "text": [
      "[6648, 0, 9475, 11836, 4579, 2827]\n",
      "[6294, 0, 5328, 5006, 10101, 5322, 8384, 8280, 6294, 0, 5328, 5006, 10101, 5322, 8384, 8280]\n"
     ]
    }
   ],
   "source": [
    "print(CDS_pro)\n",
    "print(CDS_work)"
   ]
  },
  {
   "cell_type": "code",
   "execution_count": 33,
   "metadata": {},
   "outputs": [],
   "source": []
  },
  {
   "cell_type": "code",
   "execution_count": 35,
   "metadata": {},
   "outputs": [
    {
     "name": "stdout",
     "output_type": "stream",
     "text": [
      "6648\n",
      "6294\n"
     ]
    }
   ],
   "source": []
  },
  {
   "cell_type": "code",
   "execution_count": null,
   "metadata": {},
   "outputs": [],
   "source": []
  },
  {
   "cell_type": "code",
   "execution_count": null,
   "metadata": {},
   "outputs": [],
   "source": []
  }
 ],
 "metadata": {
  "kernelspec": {
   "display_name": "Python 3",
   "language": "python",
   "name": "python3"
  },
  "language_info": {
   "codemirror_mode": {
    "name": "ipython",
    "version": 3
   },
   "file_extension": ".py",
   "mimetype": "text/x-python",
   "name": "python",
   "nbconvert_exporter": "python",
   "pygments_lexer": "ipython3",
   "version": "3.6.8"
  }
 },
 "nbformat": 4,
 "nbformat_minor": 2
}
