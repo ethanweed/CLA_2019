{
 "cells": [
  {
   "cell_type": "code",
   "execution_count": 1,
   "metadata": {},
   "outputs": [],
   "source": [
    "import pylangacq as pla\n",
    "from os import chdir as cd\n",
    "import glob\n",
    "pathin = '/Users/ethan/Documents/GitHub/CLA_2019/Coding/Friday Exercises/Data/Hall/'\n",
    "\n",
    "CDS_pro = []\n",
    "CDS_work = []"
   ]
  },
  {
   "cell_type": "code",
   "execution_count": 10,
   "metadata": {},
   "outputs": [],
   "source": [
    "cd(pathin + \"WhitePro\")\n",
    "\n",
    "files = ['job.cha','lea.cha','maa.cha','rob.cha','toh.cha','zoe.cha']\n",
    "\n",
    "for file in files:\n",
    "    pro = pla.read_chat(file)\n",
    "    CDS = pro.words(participant = 'MOT')\n",
    "    CDS_pro.append(len(CDS))\n",
    "\n",
    "cd(pathin + 'BlackPro')\n",
    "\n",
    "files = ['anc.cha',\n",
    "'bom.cha',\n",
    "'ded.cha',\n",
    "'jaf.cha',\n",
    "'mim.cha',\n",
    "'voh.cha']\n",
    "for file in files:\n",
    "    pro = pla.read_chat(file)\n",
    "    CDS = pro.words(participant = 'MOT')\n",
    "    CDS_pro.append(len(CDS))"
   ]
  },
  {
   "cell_type": "code",
   "execution_count": 11,
   "metadata": {},
   "outputs": [],
   "source": [
    "cd(pathin + \"WhiteWork\")\n",
    "\n",
    "files = ['boo.cha','brh.cha','dal.cha','kag.cha','kao.cha','mig.cha','sat.cha','stl.cha']\n",
    "\n",
    "for file in files:\n",
    "    work = pla.read_chat(file)\n",
    "    CDS = work.words(participant = 'MOT')\n",
    "    CDS_work.append(len(CDS))\n",
    "\n",
    "cd(pathin + \"BlackWork\")\n",
    "\n",
    "files = ['anl.cha',\n",
    "'deg.cha',\n",
    "'kig.cha',\n",
    "'kmf.cha',\n",
    "'lef.cha',\n",
    "'mis.cha',\n",
    "'pag.cha',\n",
    "'rog.cha',\n",
    "'roj.cha',\n",
    "'trc.cha']"
   ]
  },
  {
   "cell_type": "code",
   "execution_count": 15,
   "metadata": {},
   "outputs": [],
   "source": [
    "CDS_pro = [i for i in CDS_pro if i > 0]\n",
    "CDS_work = [i for i in CDS_work if i > 0]"
   ]
  },
  {
   "cell_type": "code",
   "execution_count": 16,
   "metadata": {},
   "outputs": [
    {
     "name": "stdout",
     "output_type": "stream",
     "text": [
      "[6648, 9475, 11836, 4579, 2827, 6648, 9475, 11836, 4579, 2827, 1528, 6648, 9475, 11836, 4579, 2827, 1528, 6648, 9475, 11836, 4579, 2827, 1528, 5787, 6540, 6648, 9475, 11836, 4579, 2827, 1528, 5787, 6540, 9284, 6648, 9475, 11836, 4579, 2827, 1528, 5787, 6540, 9284, 6648, 9475, 11836, 4579, 2827, 1528, 5787, 6540, 9284, 3963]\n",
      "[6294, 5328, 5006, 10101, 5322, 8384, 8280, 6294, 5328, 5006, 10101, 5322, 8384, 8280]\n"
     ]
    }
   ],
   "source": [
    "print(CDS_pro)\n",
    "print(CDS_work)"
   ]
  },
  {
   "cell_type": "code",
   "execution_count": 19,
   "metadata": {},
   "outputs": [],
   "source": [
    "for i in range(len(CDS_pro)-len(CDS_work)):\n",
    "    CDS_work.append('NaN')"
   ]
  },
  {
   "cell_type": "code",
   "execution_count": 20,
   "metadata": {},
   "outputs": [],
   "source": [
    "import pandas as pd\n",
    "import matplotlib.pyplot as plt\n",
    "import seaborn as sns\n",
    "%matplotlib inline\n",
    "\n",
    "df = pd.DataFrame(\n",
    "    {'WhiteCollar': CDS_pro,\n",
    "     'BlueCollar': CDS_work\n",
    "    }) "
   ]
  },
  {
   "cell_type": "code",
   "execution_count": 23,
   "metadata": {},
   "outputs": [
    {
     "data": {
      "text/html": [
       "<div>\n",
       "<style>\n",
       "    .dataframe thead tr:only-child th {\n",
       "        text-align: right;\n",
       "    }\n",
       "\n",
       "    .dataframe thead th {\n",
       "        text-align: left;\n",
       "    }\n",
       "\n",
       "    .dataframe tbody tr th {\n",
       "        vertical-align: top;\n",
       "    }\n",
       "</style>\n",
       "<table border=\"1\" class=\"dataframe\">\n",
       "  <thead>\n",
       "    <tr style=\"text-align: right;\">\n",
       "      <th></th>\n",
       "      <th>BlueCollar</th>\n",
       "      <th>WhiteCollar</th>\n",
       "    </tr>\n",
       "  </thead>\n",
       "  <tbody>\n",
       "    <tr>\n",
       "      <th>0</th>\n",
       "      <td>6294</td>\n",
       "      <td>6648</td>\n",
       "    </tr>\n",
       "    <tr>\n",
       "      <th>1</th>\n",
       "      <td>5328</td>\n",
       "      <td>9475</td>\n",
       "    </tr>\n",
       "    <tr>\n",
       "      <th>2</th>\n",
       "      <td>5006</td>\n",
       "      <td>11836</td>\n",
       "    </tr>\n",
       "    <tr>\n",
       "      <th>3</th>\n",
       "      <td>10101</td>\n",
       "      <td>4579</td>\n",
       "    </tr>\n",
       "    <tr>\n",
       "      <th>4</th>\n",
       "      <td>5322</td>\n",
       "      <td>2827</td>\n",
       "    </tr>\n",
       "  </tbody>\n",
       "</table>\n",
       "</div>"
      ],
      "text/plain": [
       "  BlueCollar  WhiteCollar\n",
       "0       6294         6648\n",
       "1       5328         9475\n",
       "2       5006        11836\n",
       "3      10101         4579\n",
       "4       5322         2827"
      ]
     },
     "execution_count": 23,
     "metadata": {},
     "output_type": "execute_result"
    }
   ],
   "source": [
    "df.head()"
   ]
  },
  {
   "cell_type": "code",
   "execution_count": 33,
   "metadata": {},
   "outputs": [],
   "source": [
    "# make boxplot with Seaborn\n",
    "bplot=sns.boxplot(y='lifeExp', x='continent', \n",
    "                 data=gapminder_2007, \n",
    "                 width=0.5,\n",
    "                 palette=\"colorblind\")\n",
    "\n",
    "# add stripplot to boxplot with Seaborn\n",
    "bplot=sns.stripplot(y='lifeExp', x='continent', \n",
    "                   data=gapminder_2007, \n",
    "                   jitter=True, \n",
    "                   marker='o', \n",
    "                   alpha=0.5,\n",
    "                   color='black')"
   ]
  },
  {
   "cell_type": "code",
   "execution_count": 35,
   "metadata": {},
   "outputs": [
    {
     "name": "stdout",
     "output_type": "stream",
     "text": [
      "6648\n",
      "6294\n"
     ]
    }
   ],
   "source": []
  },
  {
   "cell_type": "code",
   "execution_count": null,
   "metadata": {},
   "outputs": [],
   "source": []
  },
  {
   "cell_type": "code",
   "execution_count": null,
   "metadata": {},
   "outputs": [],
   "source": []
  }
 ],
 "metadata": {
  "kernelspec": {
   "display_name": "Python 3",
   "language": "python",
   "name": "python3"
  },
  "language_info": {
   "codemirror_mode": {
    "name": "ipython",
    "version": 3
   },
   "file_extension": ".py",
   "mimetype": "text/x-python",
   "name": "python",
   "nbconvert_exporter": "python",
   "pygments_lexer": "ipython3",
   "version": "3.6.8"
  }
 },
 "nbformat": 4,
 "nbformat_minor": 2
}
